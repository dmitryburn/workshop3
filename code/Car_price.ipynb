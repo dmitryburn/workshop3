{
 "cells": [
  {
   "cell_type": "code",
   "execution_count": 173,
   "id": "cc4091f7-79c6-4517-97f8-15f619318866",
   "metadata": {},
   "outputs": [],
   "source": [
    "import pandas as pd\n",
    "import numpy as np\n",
    "import matplotlib.pyplot as plt\n",
    "from sklearn.model_selection import train_test_split\n",
    "import seaborn as sns\n",
    "import re\n",
    "from collections import Counter\n",
    "\n",
    "from sklearn.model_selection import GridSearchCV\n",
    "from sklearn.pipeline import Pipeline\n",
    "from sklearn.preprocessing import OneHotEncoder\n",
    "from sklearn.ensemble import RandomForestClassifier\n",
    "from sklearn.compose import ColumnTransformer\n",
    "from sklearn.base import BaseEstimator, TransformerMixin\n"
   ]
  },
  {
   "cell_type": "markdown",
   "id": "a4d633ff-a83d-45f0-9ccb-b5cb5db988d7",
   "metadata": {},
   "source": [
    "-\n",
    "- Year: Год выпуска или производства\r\n",
    "- Model: Название или код модели автомобиля\r\n",
    "- Car/Suv: Тип автомобиля (легковой автомобиль или внедорожник)\r\n",
    "- Title: Название или описание автомобиля\r\n",
    "- UsedOrNew: Состояние автомобиля (б/у или новый)\r\n",
    "- Transmission: Тип трансмиссии (механическая или автоматическая)\r\n",
    "- Engine: Объем двигателя или мощность (в литрах или киловаттах)\r\n",
    "- DriveType: Тип привода (передний, задний или полный)\r\n",
    "- FuelType: Тип топлива (бензин, дизель, гибрид или электричество)\r\n",
    "- FuelConsumption: Потребление топлива (в литрах на 100 км)\r\n",
    "- Kilometres: Пробег автомобиля (в километрах)\r\n",
    "- ColourExtInt: Цвет автомобиля (внешний и внутренний)\r\n",
    "- Location: Местонахождение автомобиля (город и штат)\r\n",
    "- CylindersinEngine: Количество цилиндров в двигателе\r\n",
    "- BodyType: Форма или стиль кузова автомобиля (седан, хэтчбек, купе и т.д.)\r\n",
    "- Doors: Количество дверей в автомобиле\r\n",
    "- Seats: Количество сидений в автомобиле"
   ]
  },
  {
   "cell_type": "code",
   "execution_count": 175,
   "id": "21b4b588-1a6c-48fd-87ca-6547736f2922",
   "metadata": {},
   "outputs": [],
   "source": [
    "DATA_PATH ='../dataset/Australian_Vehicle_Prices.csv'"
   ]
  },
  {
   "cell_type": "code",
   "execution_count": 176,
   "id": "7d41e39f-87b5-4b4f-bea0-b2f90f7f86a8",
   "metadata": {},
   "outputs": [],
   "source": [
    "df = pd.read_csv(DATA_PATH)"
   ]
  },
  {
   "cell_type": "code",
   "execution_count": 177,
   "id": "9c3426c5-cf31-4ba8-b7bd-3861a5fb9b0b",
   "metadata": {},
   "outputs": [
    {
     "data": {
      "text/html": [
       "<div>\n",
       "<style scoped>\n",
       "    .dataframe tbody tr th:only-of-type {\n",
       "        vertical-align: middle;\n",
       "    }\n",
       "\n",
       "    .dataframe tbody tr th {\n",
       "        vertical-align: top;\n",
       "    }\n",
       "\n",
       "    .dataframe thead th {\n",
       "        text-align: right;\n",
       "    }\n",
       "</style>\n",
       "<table border=\"1\" class=\"dataframe\">\n",
       "  <thead>\n",
       "    <tr style=\"text-align: right;\">\n",
       "      <th></th>\n",
       "      <th>Brand</th>\n",
       "      <th>Year</th>\n",
       "      <th>Model</th>\n",
       "      <th>Car/Suv</th>\n",
       "      <th>Title</th>\n",
       "      <th>UsedOrNew</th>\n",
       "      <th>Transmission</th>\n",
       "      <th>Engine</th>\n",
       "      <th>DriveType</th>\n",
       "      <th>FuelType</th>\n",
       "      <th>FuelConsumption</th>\n",
       "      <th>Kilometres</th>\n",
       "      <th>ColourExtInt</th>\n",
       "      <th>Location</th>\n",
       "      <th>CylindersinEngine</th>\n",
       "      <th>BodyType</th>\n",
       "      <th>Doors</th>\n",
       "      <th>Seats</th>\n",
       "      <th>Price</th>\n",
       "    </tr>\n",
       "  </thead>\n",
       "  <tbody>\n",
       "    <tr>\n",
       "      <th>0</th>\n",
       "      <td>Ssangyong</td>\n",
       "      <td>2022.0</td>\n",
       "      <td>Rexton</td>\n",
       "      <td>Sutherland Isuzu Ute</td>\n",
       "      <td>2022 Ssangyong Rexton Ultimate (awd)</td>\n",
       "      <td>DEMO</td>\n",
       "      <td>Automatic</td>\n",
       "      <td>4 cyl, 2.2 L</td>\n",
       "      <td>AWD</td>\n",
       "      <td>Diesel</td>\n",
       "      <td>8.7 L / 100 km</td>\n",
       "      <td>5595</td>\n",
       "      <td>White / Black</td>\n",
       "      <td>Caringbah, NSW</td>\n",
       "      <td>4 cyl</td>\n",
       "      <td>SUV</td>\n",
       "      <td>4 Doors</td>\n",
       "      <td>7 Seats</td>\n",
       "      <td>51990</td>\n",
       "    </tr>\n",
       "    <tr>\n",
       "      <th>1</th>\n",
       "      <td>MG</td>\n",
       "      <td>2022.0</td>\n",
       "      <td>MG3</td>\n",
       "      <td>Hatchback</td>\n",
       "      <td>2022 MG MG3 Auto Excite (with Navigation)</td>\n",
       "      <td>USED</td>\n",
       "      <td>Automatic</td>\n",
       "      <td>4 cyl, 1.5 L</td>\n",
       "      <td>Front</td>\n",
       "      <td>Premium</td>\n",
       "      <td>6.7 L / 100 km</td>\n",
       "      <td>16</td>\n",
       "      <td>Black / Black</td>\n",
       "      <td>Brookvale, NSW</td>\n",
       "      <td>4 cyl</td>\n",
       "      <td>Hatchback</td>\n",
       "      <td>5 Doors</td>\n",
       "      <td>5 Seats</td>\n",
       "      <td>19990</td>\n",
       "    </tr>\n",
       "    <tr>\n",
       "      <th>2</th>\n",
       "      <td>BMW</td>\n",
       "      <td>2022.0</td>\n",
       "      <td>430I</td>\n",
       "      <td>Coupe</td>\n",
       "      <td>2022 BMW 430I M Sport</td>\n",
       "      <td>USED</td>\n",
       "      <td>Automatic</td>\n",
       "      <td>4 cyl, 2 L</td>\n",
       "      <td>Rear</td>\n",
       "      <td>Premium</td>\n",
       "      <td>6.6 L / 100 km</td>\n",
       "      <td>8472</td>\n",
       "      <td>Grey / White</td>\n",
       "      <td>Sylvania, NSW</td>\n",
       "      <td>4 cyl</td>\n",
       "      <td>Coupe</td>\n",
       "      <td>2 Doors</td>\n",
       "      <td>4 Seats</td>\n",
       "      <td>108988</td>\n",
       "    </tr>\n",
       "    <tr>\n",
       "      <th>3</th>\n",
       "      <td>Mercedes-Benz</td>\n",
       "      <td>2011.0</td>\n",
       "      <td>E500</td>\n",
       "      <td>Coupe</td>\n",
       "      <td>2011 Mercedes-Benz E500 Elegance</td>\n",
       "      <td>USED</td>\n",
       "      <td>Automatic</td>\n",
       "      <td>8 cyl, 5.5 L</td>\n",
       "      <td>Rear</td>\n",
       "      <td>Premium</td>\n",
       "      <td>11 L / 100 km</td>\n",
       "      <td>136517</td>\n",
       "      <td>White / Brown</td>\n",
       "      <td>Mount Druitt, NSW</td>\n",
       "      <td>8 cyl</td>\n",
       "      <td>Coupe</td>\n",
       "      <td>2 Doors</td>\n",
       "      <td>4 Seats</td>\n",
       "      <td>32990</td>\n",
       "    </tr>\n",
       "    <tr>\n",
       "      <th>4</th>\n",
       "      <td>Renault</td>\n",
       "      <td>2022.0</td>\n",
       "      <td>Arkana</td>\n",
       "      <td>SUV</td>\n",
       "      <td>2022 Renault Arkana Intens</td>\n",
       "      <td>USED</td>\n",
       "      <td>Automatic</td>\n",
       "      <td>4 cyl, 1.3 L</td>\n",
       "      <td>Front</td>\n",
       "      <td>Unleaded</td>\n",
       "      <td>6 L / 100 km</td>\n",
       "      <td>1035</td>\n",
       "      <td>Grey / Black</td>\n",
       "      <td>Castle Hill, NSW</td>\n",
       "      <td>4 cyl</td>\n",
       "      <td>SUV</td>\n",
       "      <td>4 Doors</td>\n",
       "      <td>5 Seats</td>\n",
       "      <td>34990</td>\n",
       "    </tr>\n",
       "  </tbody>\n",
       "</table>\n",
       "</div>"
      ],
      "text/plain": [
       "           Brand    Year   Model               Car/Suv  \\\n",
       "0      Ssangyong  2022.0  Rexton  Sutherland Isuzu Ute   \n",
       "1             MG  2022.0     MG3             Hatchback   \n",
       "2            BMW  2022.0    430I                 Coupe   \n",
       "3  Mercedes-Benz  2011.0    E500                 Coupe   \n",
       "4        Renault  2022.0  Arkana                   SUV   \n",
       "\n",
       "                                       Title UsedOrNew Transmission  \\\n",
       "0       2022 Ssangyong Rexton Ultimate (awd)      DEMO    Automatic   \n",
       "1  2022 MG MG3 Auto Excite (with Navigation)      USED    Automatic   \n",
       "2                      2022 BMW 430I M Sport      USED    Automatic   \n",
       "3           2011 Mercedes-Benz E500 Elegance      USED    Automatic   \n",
       "4                 2022 Renault Arkana Intens      USED    Automatic   \n",
       "\n",
       "         Engine DriveType  FuelType FuelConsumption Kilometres   ColourExtInt  \\\n",
       "0  4 cyl, 2.2 L       AWD    Diesel  8.7 L / 100 km       5595  White / Black   \n",
       "1  4 cyl, 1.5 L     Front   Premium  6.7 L / 100 km         16  Black / Black   \n",
       "2    4 cyl, 2 L      Rear   Premium  6.6 L / 100 km       8472   Grey / White   \n",
       "3  8 cyl, 5.5 L      Rear   Premium   11 L / 100 km     136517  White / Brown   \n",
       "4  4 cyl, 1.3 L     Front  Unleaded    6 L / 100 km       1035   Grey / Black   \n",
       "\n",
       "            Location CylindersinEngine   BodyType     Doors     Seats   Price  \n",
       "0     Caringbah, NSW             4 cyl        SUV   4 Doors   7 Seats   51990  \n",
       "1     Brookvale, NSW             4 cyl  Hatchback   5 Doors   5 Seats   19990  \n",
       "2      Sylvania, NSW             4 cyl      Coupe   2 Doors   4 Seats  108988  \n",
       "3  Mount Druitt, NSW             8 cyl      Coupe   2 Doors   4 Seats   32990  \n",
       "4   Castle Hill, NSW             4 cyl        SUV   4 Doors   5 Seats   34990  "
      ]
     },
     "execution_count": 177,
     "metadata": {},
     "output_type": "execute_result"
    }
   ],
   "source": [
    "df.head()"
   ]
  },
  {
   "cell_type": "markdown",
   "id": "c5c335f1-79d8-4a2b-9acc-a72a7c61136e",
   "metadata": {},
   "source": [
    "Посмотрю сначала на то, какой размерности датасет, есть ли пропущенные значения в нем"
   ]
  },
  {
   "cell_type": "code",
   "execution_count": 179,
   "id": "12fe2522-d0d0-4e2c-85d0-dd4bba23f473",
   "metadata": {},
   "outputs": [
    {
     "data": {
      "text/plain": [
       "(16734, 19)"
      ]
     },
     "execution_count": 179,
     "metadata": {},
     "output_type": "execute_result"
    }
   ],
   "source": [
    "df.shape"
   ]
  },
  {
   "cell_type": "code",
   "execution_count": 180,
   "id": "d46423a6-91e6-4e42-9e3d-f644adef3c38",
   "metadata": {},
   "outputs": [
    {
     "name": "stdout",
     "output_type": "stream",
     "text": [
      "<class 'pandas.core.frame.DataFrame'>\n",
      "RangeIndex: 16734 entries, 0 to 16733\n",
      "Data columns (total 19 columns):\n",
      " #   Column             Non-Null Count  Dtype  \n",
      "---  ------             --------------  -----  \n",
      " 0   Brand              16733 non-null  object \n",
      " 1   Year               16733 non-null  float64\n",
      " 2   Model              16733 non-null  object \n",
      " 3   Car/Suv            16706 non-null  object \n",
      " 4   Title              16733 non-null  object \n",
      " 5   UsedOrNew          16733 non-null  object \n",
      " 6   Transmission       16733 non-null  object \n",
      " 7   Engine             16733 non-null  object \n",
      " 8   DriveType          16733 non-null  object \n",
      " 9   FuelType           16733 non-null  object \n",
      " 10  FuelConsumption    16733 non-null  object \n",
      " 11  Kilometres         16733 non-null  object \n",
      " 12  ColourExtInt       16733 non-null  object \n",
      " 13  Location           16284 non-null  object \n",
      " 14  CylindersinEngine  16733 non-null  object \n",
      " 15  BodyType           16452 non-null  object \n",
      " 16  Doors              15130 non-null  object \n",
      " 17  Seats              15029 non-null  object \n",
      " 18  Price              16731 non-null  object \n",
      "dtypes: float64(1), object(18)\n",
      "memory usage: 2.4+ MB\n"
     ]
    }
   ],
   "source": [
    "df.info()"
   ]
  },
  {
   "cell_type": "markdown",
   "id": "0e7121f4-2bd1-459f-b746-b2a171b710ce",
   "metadata": {},
   "source": [
    "Видно, что все признаки кроме одного числового - категориалные "
   ]
  },
  {
   "cell_type": "markdown",
   "id": "b790ad07-d0b8-4da5-a6ba-0793309afcf7",
   "metadata": {},
   "source": [
    "Рассмторим есть ли пропущенные значения в датасете "
   ]
  },
  {
   "cell_type": "code",
   "execution_count": 183,
   "id": "081d4836-faad-4483-8922-bd07d5295de5",
   "metadata": {},
   "outputs": [
    {
     "data": {
      "text/html": [
       "<div>\n",
       "<style scoped>\n",
       "    .dataframe tbody tr th:only-of-type {\n",
       "        vertical-align: middle;\n",
       "    }\n",
       "\n",
       "    .dataframe tbody tr th {\n",
       "        vertical-align: top;\n",
       "    }\n",
       "\n",
       "    .dataframe thead th {\n",
       "        text-align: right;\n",
       "    }\n",
       "</style>\n",
       "<table border=\"1\" class=\"dataframe\">\n",
       "  <thead>\n",
       "    <tr style=\"text-align: right;\">\n",
       "      <th></th>\n",
       "      <th>Количество пропущенных значений</th>\n",
       "      <th>Процент от общего числа строк (%)</th>\n",
       "    </tr>\n",
       "  </thead>\n",
       "  <tbody>\n",
       "    <tr>\n",
       "      <th>Brand</th>\n",
       "      <td>1</td>\n",
       "      <td>0.005976</td>\n",
       "    </tr>\n",
       "    <tr>\n",
       "      <th>Year</th>\n",
       "      <td>1</td>\n",
       "      <td>0.005976</td>\n",
       "    </tr>\n",
       "    <tr>\n",
       "      <th>Model</th>\n",
       "      <td>1</td>\n",
       "      <td>0.005976</td>\n",
       "    </tr>\n",
       "    <tr>\n",
       "      <th>Car/Suv</th>\n",
       "      <td>28</td>\n",
       "      <td>0.167324</td>\n",
       "    </tr>\n",
       "    <tr>\n",
       "      <th>Title</th>\n",
       "      <td>1</td>\n",
       "      <td>0.005976</td>\n",
       "    </tr>\n",
       "    <tr>\n",
       "      <th>UsedOrNew</th>\n",
       "      <td>1</td>\n",
       "      <td>0.005976</td>\n",
       "    </tr>\n",
       "    <tr>\n",
       "      <th>Transmission</th>\n",
       "      <td>1</td>\n",
       "      <td>0.005976</td>\n",
       "    </tr>\n",
       "    <tr>\n",
       "      <th>Engine</th>\n",
       "      <td>1</td>\n",
       "      <td>0.005976</td>\n",
       "    </tr>\n",
       "    <tr>\n",
       "      <th>DriveType</th>\n",
       "      <td>1</td>\n",
       "      <td>0.005976</td>\n",
       "    </tr>\n",
       "    <tr>\n",
       "      <th>FuelType</th>\n",
       "      <td>1</td>\n",
       "      <td>0.005976</td>\n",
       "    </tr>\n",
       "    <tr>\n",
       "      <th>FuelConsumption</th>\n",
       "      <td>1</td>\n",
       "      <td>0.005976</td>\n",
       "    </tr>\n",
       "    <tr>\n",
       "      <th>Kilometres</th>\n",
       "      <td>1</td>\n",
       "      <td>0.005976</td>\n",
       "    </tr>\n",
       "    <tr>\n",
       "      <th>ColourExtInt</th>\n",
       "      <td>1</td>\n",
       "      <td>0.005976</td>\n",
       "    </tr>\n",
       "    <tr>\n",
       "      <th>Location</th>\n",
       "      <td>450</td>\n",
       "      <td>2.689136</td>\n",
       "    </tr>\n",
       "    <tr>\n",
       "      <th>CylindersinEngine</th>\n",
       "      <td>1</td>\n",
       "      <td>0.005976</td>\n",
       "    </tr>\n",
       "    <tr>\n",
       "      <th>BodyType</th>\n",
       "      <td>282</td>\n",
       "      <td>1.685192</td>\n",
       "    </tr>\n",
       "    <tr>\n",
       "      <th>Doors</th>\n",
       "      <td>1604</td>\n",
       "      <td>9.585275</td>\n",
       "    </tr>\n",
       "    <tr>\n",
       "      <th>Seats</th>\n",
       "      <td>1705</td>\n",
       "      <td>10.188837</td>\n",
       "    </tr>\n",
       "    <tr>\n",
       "      <th>Price</th>\n",
       "      <td>3</td>\n",
       "      <td>0.017928</td>\n",
       "    </tr>\n",
       "  </tbody>\n",
       "</table>\n",
       "</div>"
      ],
      "text/plain": [
       "                   Количество пропущенных значений  \\\n",
       "Brand                                            1   \n",
       "Year                                             1   \n",
       "Model                                            1   \n",
       "Car/Suv                                         28   \n",
       "Title                                            1   \n",
       "UsedOrNew                                        1   \n",
       "Transmission                                     1   \n",
       "Engine                                           1   \n",
       "DriveType                                        1   \n",
       "FuelType                                         1   \n",
       "FuelConsumption                                  1   \n",
       "Kilometres                                       1   \n",
       "ColourExtInt                                     1   \n",
       "Location                                       450   \n",
       "CylindersinEngine                                1   \n",
       "BodyType                                       282   \n",
       "Doors                                         1604   \n",
       "Seats                                         1705   \n",
       "Price                                            3   \n",
       "\n",
       "                   Процент от общего числа строк (%)  \n",
       "Brand                                       0.005976  \n",
       "Year                                        0.005976  \n",
       "Model                                       0.005976  \n",
       "Car/Suv                                     0.167324  \n",
       "Title                                       0.005976  \n",
       "UsedOrNew                                   0.005976  \n",
       "Transmission                                0.005976  \n",
       "Engine                                      0.005976  \n",
       "DriveType                                   0.005976  \n",
       "FuelType                                    0.005976  \n",
       "FuelConsumption                             0.005976  \n",
       "Kilometres                                  0.005976  \n",
       "ColourExtInt                                0.005976  \n",
       "Location                                    2.689136  \n",
       "CylindersinEngine                           0.005976  \n",
       "BodyType                                    1.685192  \n",
       "Doors                                       9.585275  \n",
       "Seats                                      10.188837  \n",
       "Price                                       0.017928  "
      ]
     },
     "execution_count": 183,
     "metadata": {},
     "output_type": "execute_result"
    }
   ],
   "source": [
    "pd.DataFrame(zip(df.isna().sum(),100 * (df.isna().sum()/df.shape[0])),columns=['Количество пропущенных значений','Процент от общего числа строк (%)'], index=df.columns)"
   ]
  },
  {
   "cell_type": "markdown",
   "id": "953f3555-5c1d-46f0-87fa-9e9246958342",
   "metadata": {},
   "source": [
    "- Видно, что в каждый из признаков исходного датасета содержит пропущенные значения\n",
    "- Можно выделить признаки Doors, Seats как те, которые содержат большое количество пропущенных значений (около 10 процентов от датасета)"
   ]
  },
  {
   "cell_type": "markdown",
   "id": "d3547e7a-2b69-4f03-8f1d-42c80edd1e44",
   "metadata": {},
   "source": [
    "Посмотрю теперь сумму пропущенных значений по строкам датасета "
   ]
  },
  {
   "cell_type": "code",
   "execution_count": 186,
   "id": "279faf02-0f49-4190-8078-862afe2a7200",
   "metadata": {},
   "outputs": [
    {
     "data": {
      "text/plain": [
       "2391     19\n",
       "15802     4\n",
       "15357     4\n",
       "15351     4\n",
       "15343     4\n",
       "         ..\n",
       "5905      0\n",
       "5906      0\n",
       "5907      0\n",
       "5908      0\n",
       "16733     0\n",
       "Length: 16734, dtype: int64"
      ]
     },
     "execution_count": 186,
     "metadata": {},
     "output_type": "execute_result"
    }
   ],
   "source": [
    "missing_counts = df.isna().sum(axis=1)\n",
    "missing_counts.sort_values(ascending=False)"
   ]
  },
  {
   "cell_type": "markdown",
   "id": "31ba7fa8-4249-4184-a0b8-e97d3dde10d5",
   "metadata": {},
   "source": [
    "- Вижу, что есть строка у которой пропущеннs все значения \n",
    "- Ее можно удалить , с остальными пропущенными значениями разбираться отдельно"
   ]
  },
  {
   "cell_type": "code",
   "execution_count": 188,
   "id": "9ca693b8-4179-4984-88cb-8768a1b702bc",
   "metadata": {},
   "outputs": [
    {
     "data": {
      "text/plain": [
       "Brand                NaN\n",
       "Year                 NaN\n",
       "Model                NaN\n",
       "Car/Suv              NaN\n",
       "Title                NaN\n",
       "UsedOrNew            NaN\n",
       "Transmission         NaN\n",
       "Engine               NaN\n",
       "DriveType            NaN\n",
       "FuelType             NaN\n",
       "FuelConsumption      NaN\n",
       "Kilometres           NaN\n",
       "ColourExtInt         NaN\n",
       "Location             NaN\n",
       "CylindersinEngine    NaN\n",
       "BodyType             NaN\n",
       "Doors                NaN\n",
       "Seats                NaN\n",
       "Price                NaN\n",
       "Name: 2391, dtype: object"
      ]
     },
     "execution_count": 188,
     "metadata": {},
     "output_type": "execute_result"
    }
   ],
   "source": [
    "df.iloc[2391]"
   ]
  },
  {
   "cell_type": "code",
   "execution_count": 189,
   "id": "ec179d20-5393-41f4-b260-57ee8d3cea06",
   "metadata": {},
   "outputs": [],
   "source": [
    "df = df.drop(2391)"
   ]
  },
  {
   "cell_type": "markdown",
   "id": "8aa4852a-a360-4e67-8c4d-6b3d7364e39f",
   "metadata": {},
   "source": [
    "Количество строк в датасете которые содержат хотя бы одно пропущенное значение"
   ]
  },
  {
   "cell_type": "code",
   "execution_count": 191,
   "id": "107be988-d527-404a-81f2-9c282fa2a1f3",
   "metadata": {},
   "outputs": [
    {
     "data": {
      "text/plain": [
       "2147"
      ]
     },
     "execution_count": 191,
     "metadata": {},
     "output_type": "execute_result"
    }
   ],
   "source": [
    "df[df.isna().sum(axis=1) > 0].shape[0]"
   ]
  },
  {
   "cell_type": "markdown",
   "id": "b8dafec6-6ab0-4413-917a-4ccea25141b6",
   "metadata": {},
   "source": [
    "- Теперь, после проверки датасета на наличие явно неадекватных строк (все значения в строке пропущены)\r\n",
    "Удаление которых не создает для нас никакого data leak \r\n",
    "Приступаем к разделению данных на обучающ и и тестовые\r\n",
    "и только после этого на обучающем множестве начинаем обработку данных "
   ]
  },
  {
   "cell_type": "code",
   "execution_count": 193,
   "id": "11a0fd38-4738-4dda-94a5-49bd079bae44",
   "metadata": {},
   "outputs": [],
   "source": [
    "RANDOM_STATE = 42"
   ]
  },
  {
   "cell_type": "code",
   "execution_count": 194,
   "id": "d956321b-0745-4eb4-ac1a-20c21544db56",
   "metadata": {},
   "outputs": [],
   "source": [
    "df_train, df_test = train_test_split(df, test_size=0.2, random_state=RANDOM_STATE)"
   ]
  },
  {
   "cell_type": "markdown",
   "id": "5d40a086-0bba-4d9d-a48d-a14c1fd39a17",
   "metadata": {},
   "source": [
    "- Рассмотрим переменную Brand. Еще раз проверим на наличие пропущенных значений."
   ]
  },
  {
   "cell_type": "code",
   "execution_count": 196,
   "id": "50fcd9cb-6d2d-454a-a38f-828df471998c",
   "metadata": {},
   "outputs": [
    {
     "data": {
      "text/plain": [
       "False"
      ]
     },
     "execution_count": 196,
     "metadata": {},
     "output_type": "execute_result"
    }
   ],
   "source": [
    "train_df = df_train.copy()\n",
    "train_df.Brand.isna().any()"
   ]
  },
  {
   "cell_type": "code",
   "execution_count": 197,
   "id": "436dbbc4-1fc3-4368-bfdc-960ce398f221",
   "metadata": {},
   "outputs": [
    {
     "data": {
      "text/html": [
       "<div>\n",
       "<style scoped>\n",
       "    .dataframe tbody tr th:only-of-type {\n",
       "        vertical-align: middle;\n",
       "    }\n",
       "\n",
       "    .dataframe tbody tr th {\n",
       "        vertical-align: top;\n",
       "    }\n",
       "\n",
       "    .dataframe thead th {\n",
       "        text-align: right;\n",
       "    }\n",
       "</style>\n",
       "<table border=\"1\" class=\"dataframe\">\n",
       "  <thead>\n",
       "    <tr style=\"text-align: right;\">\n",
       "      <th></th>\n",
       "      <th>Brand</th>\n",
       "      <th>Year</th>\n",
       "      <th>Model</th>\n",
       "      <th>Car/Suv</th>\n",
       "      <th>Title</th>\n",
       "      <th>UsedOrNew</th>\n",
       "      <th>Transmission</th>\n",
       "      <th>Engine</th>\n",
       "      <th>DriveType</th>\n",
       "      <th>FuelType</th>\n",
       "      <th>FuelConsumption</th>\n",
       "      <th>Kilometres</th>\n",
       "      <th>ColourExtInt</th>\n",
       "      <th>Location</th>\n",
       "      <th>CylindersinEngine</th>\n",
       "      <th>BodyType</th>\n",
       "      <th>Doors</th>\n",
       "      <th>Seats</th>\n",
       "      <th>Price</th>\n",
       "    </tr>\n",
       "  </thead>\n",
       "  <tbody>\n",
       "  </tbody>\n",
       "</table>\n",
       "</div>"
      ],
      "text/plain": [
       "Empty DataFrame\n",
       "Columns: [Brand, Year, Model, Car/Suv, Title, UsedOrNew, Transmission, Engine, DriveType, FuelType, FuelConsumption, Kilometres, ColourExtInt, Location, CylindersinEngine, BodyType, Doors, Seats, Price]\n",
       "Index: []"
      ]
     },
     "execution_count": 197,
     "metadata": {},
     "output_type": "execute_result"
    }
   ],
   "source": [
    "train_df[train_df.Brand == '-']"
   ]
  },
  {
   "cell_type": "markdown",
   "id": "003b8f8f-ce83-42a2-9f9d-1c8d04ae8664",
   "metadata": {},
   "source": [
    "Пропущенных значений нет рассмотрим теперь количнство примеров для каждой из возможных категорий бренда"
   ]
  },
  {
   "cell_type": "markdown",
   "id": "9f30e2d3-317c-4ea4-b85e-4dfde5cab1f6",
   "metadata": {},
   "source": [
    "Видно, что есть категории содержащии большое количество примеров , а есть и набор"
   ]
  },
  {
   "cell_type": "code",
   "execution_count": 200,
   "id": "2976a005-b60e-4598-81bf-df4cdd1ea7fd",
   "metadata": {},
   "outputs": [
    {
     "data": {
      "text/plain": [
       "Brand\n",
       "Toyota         2202\n",
       "Hyundai         985\n",
       "Mazda           940\n",
       "Holden          855\n",
       "Nissan          852\n",
       "               ... \n",
       "Rolls-Royce       1\n",
       "Datsun            1\n",
       "Polestar          1\n",
       "Packard           1\n",
       "Lamborghini       1\n",
       "Name: count, Length: 75, dtype: int64"
      ]
     },
     "execution_count": 200,
     "metadata": {},
     "output_type": "execute_result"
    }
   ],
   "source": [
    "brand_counts = train_df.Brand.value_counts()\n",
    "brand_counts"
   ]
  },
  {
   "cell_type": "markdown",
   "id": "676eeb0e-24ac-4de3-b475-86412d9fb612",
   "metadata": {},
   "source": [
    "- Рассмотррим без лейблов и процентов (чтобы не наслаивалось)  как примерно выглядит набор категорий на круговой диаграмме, чтобы иметь представление в целом"
   ]
  },
  {
   "cell_type": "code",
   "execution_count": 202,
   "id": "e4b130d5-16bf-42d1-b7dd-b8b94b8a697c",
   "metadata": {},
   "outputs": [
    {
     "data": {
      "image/png": "[encoded data removed]",
      "text/plain": [
       "<Figure size 1500x500 with 1 Axes>"
      ]
     },
     "metadata": {},
     "output_type": "display_data"
    }
   ],
   "source": [
    "plt.figure(figsize=(15,5))\n",
    "plt.pie(brand_counts)\n",
    "plt.show()"
   ]
  },
  {
   "cell_type": "markdown",
   "id": "5f4d58ed-4f47-4eed-a941-98a983a2db8c",
   "metadata": {},
   "source": [
    "- Видно, что есть большое количество категорий , имеющих маленькое количество примеров в датасеете, скорее всего часть таких \"одиночек\" попали и в валиадационную и тестовую выборку "
   ]
  },
  {
   "cell_type": "markdown",
   "id": "3399b21f-57fe-4791-9bed-cca62994de33",
   "metadata": {},
   "source": [
    "- Требуется создать новую категорию Other, куда собрать категории имеющих малое количесвто примеров в датасете. Однако точно сказать какой порог оптимален нельзя. Нужно будет подобрать на валидационной выборке оптимальное значение параметра который оприделяет порог разбиения."
   ]
  },
  {
   "cell_type": "markdown",
   "id": "8ced7caf-338a-4e5d-bc00-ee01d595dd4d",
   "metadata": {},
   "source": [
    "Рассмотрим зависимую переменную Price"
   ]
  },
  {
   "cell_type": "code",
   "execution_count": 206,
   "id": "1158754d-6f55-48a9-9b9c-1bb660e9f98c",
   "metadata": {},
   "outputs": [
    {
     "data": {
      "text/plain": [
       "True"
      ]
     },
     "execution_count": 206,
     "metadata": {},
     "output_type": "execute_result"
    }
   ],
   "source": [
    "train_df.Price.isna().any()"
   ]
  },
  {
   "cell_type": "code",
   "execution_count": 207,
   "id": "0b93f741-24c8-4b97-9fb9-cacc8edef58d",
   "metadata": {},
   "outputs": [
    {
     "name": "stdout",
     "output_type": "stream",
     "text": [
      "<class 'pandas.core.series.Series'>\n",
      "Index: 13386 entries, 7594 to 15796\n",
      "Series name: Price\n",
      "Non-Null Count  Dtype \n",
      "--------------  ----- \n",
      "13385 non-null  object\n",
      "dtypes: object(1)\n",
      "memory usage: 209.2+ KB\n"
     ]
    }
   ],
   "source": [
    "train_df.Price.info()"
   ]
  },
  {
   "cell_type": "code",
   "execution_count": 208,
   "id": "fedea077-7b5f-4820-9c57-ea4abe178978",
   "metadata": {},
   "outputs": [
    {
     "data": {
      "text/plain": [
       "7594     30990\n",
       "10634    14999\n",
       "4411     29995\n",
       "12403    29999\n",
       "9982     23750\n",
       "Name: Price, dtype: object"
      ]
     },
     "execution_count": 208,
     "metadata": {},
     "output_type": "execute_result"
    }
   ],
   "source": [
    "train_df.Price.head()"
   ]
  },
  {
   "cell_type": "markdown",
   "id": "1bef788b-6e98-40cf-a52e-334d377655e8",
   "metadata": {},
   "source": [
    "Виден тип данных object, хотя судя по всему должен быть int/float\n",
    "Проверим все ли значения могут быть числовыми"
   ]
  },
  {
   "cell_type": "code",
   "execution_count": 210,
   "id": "5f022431-8197-4bab-adf1-19b2b6e10661",
   "metadata": {},
   "outputs": [
    {
     "data": {
      "text/plain": [
       "16424    POA\n",
       "15955    POA\n",
       "16366    POA\n",
       "15310    POA\n",
       "16379    POA\n",
       "16478    POA\n",
       "16314    POA\n",
       "15322    POA\n",
       "15909    POA\n",
       "11039    NaN\n",
       "16153    POA\n",
       "16156    POA\n",
       "16399    POA\n",
       "16095    POA\n",
       "15787    POA\n",
       "15397    POA\n",
       "16252    POA\n",
       "15686    POA\n",
       "15688    POA\n",
       "16310    POA\n",
       "15662    POA\n",
       "16482    POA\n",
       "16278    POA\n",
       "16347    POA\n",
       "16012    POA\n",
       "16063    POA\n",
       "15695    POA\n",
       "16597    POA\n",
       "16300    POA\n",
       "16051    POA\n",
       "16374    POA\n",
       "16144    POA\n",
       "15782    POA\n",
       "16353    POA\n",
       "16245    POA\n",
       "15329    POA\n",
       "16313    POA\n",
       "15266    POA\n",
       "Name: Price, dtype: object"
      ]
     },
     "execution_count": 210,
     "metadata": {},
     "output_type": "execute_result"
    }
   ],
   "source": [
    "numeric_values = pd.to_numeric(train_df.Price, errors='coerce')\n",
    "non_numeric_mask = pd.isnull(numeric_values)  \n",
    "non_numeric_values = train_df.Price[non_numeric_mask]\n",
    "non_numeric_values"
   ]
  },
  {
   "cell_type": "markdown",
   "id": "be9d1435-2a40-4f33-ac5a-62514a5c5847",
   "metadata": {},
   "source": [
    "Видим одно и тоже значение - POA. В гугле говорится что это значит - цена доступна при обращении  "
   ]
  },
  {
   "cell_type": "code",
   "execution_count": 212,
   "id": "6c06600d-388a-4f60-8877-872bb1f2fec4",
   "metadata": {},
   "outputs": [
    {
     "data": {
      "text/plain": [
       "(38,)"
      ]
     },
     "execution_count": 212,
     "metadata": {},
     "output_type": "execute_result"
    }
   ],
   "source": [
    "non_numeric_values.shape"
   ]
  },
  {
   "cell_type": "markdown",
   "id": "6a1be2ae-fb0a-4cd4-af3a-db8cd80f16a2",
   "metadata": {},
   "source": [
    "Строки с таким значением целевой перменной можно удалить "
   ]
  },
  {
   "cell_type": "code",
   "execution_count": 214,
   "id": "98f88d4c-44fa-4536-b7c8-ef36b4314af9",
   "metadata": {},
   "outputs": [],
   "source": [
    "train_df = train_df.drop(non_numeric_values.index)\n",
    "\n",
    "train_df['Price'] = train_df['Price'].astype(float)"
   ]
  },
  {
   "cell_type": "code",
   "execution_count": 215,
   "id": "d2c4845c-3d0b-4b65-bb18-5c31f6b59179",
   "metadata": {},
   "outputs": [
    {
     "data": {
      "text/plain": [
       "count    1.334800e+04\n",
       "mean     3.725519e+04\n",
       "std      3.714690e+04\n",
       "min      8.800000e+01\n",
       "25%      1.899900e+04\n",
       "50%      2.950000e+04\n",
       "75%      4.399000e+04\n",
       "max      1.500000e+06\n",
       "Name: Price, dtype: float64"
      ]
     },
     "execution_count": 215,
     "metadata": {},
     "output_type": "execute_result"
    }
   ],
   "source": [
    "train_df['Price'].describe()"
   ]
  },
  {
   "cell_type": "code",
   "execution_count": 216,
   "id": "0cdd39ce-b9c8-4e88-9434-c29076d5ec15",
   "metadata": {},
   "outputs": [
    {
     "data": {
      "text/plain": [
       "Text(0.5, 0, 'Price')"
      ]
     },
     "execution_count": 216,
     "metadata": {},
     "output_type": "execute_result"
    },
    {
     "data": {
      "image/png": "[encoded data removed]",
      "text/plain": [
       "<Figure size 1000x600 with 1 Axes>"
      ]
     },
     "metadata": {},
     "output_type": "display_data"
    }
   ],
   "source": [
    "plt.figure(figsize=(10, 6))\n",
    "\n",
    "sns.boxplot(x='Price', data=train_df, width=0.5)\n",
    "\n",
    "plt.title('Boxplot of Price')\n",
    "plt.xlabel('Price')"
   ]
  },
  {
   "cell_type": "markdown",
   "id": "9bd62d50-84ca-44f9-ab04-afb73eadf7d6",
   "metadata": {},
   "source": [
    "Видно что есть выбросы , в частоности один с очень большой ценой "
   ]
  },
  {
   "cell_type": "code",
   "execution_count": 218,
   "id": "976ecb26-ef7d-4360-bead-2bc7f82f4bbb",
   "metadata": {},
   "outputs": [],
   "source": [
    "Q1 = train_df['Price'].quantile(0.05)\n",
    "Q3 = train_df['Price'].quantile(0.95)\n",
    "IQR = Q3 - Q1\n",
    "\n",
    "lower_bound = Q1 - 1.5 * IQR\n",
    "upper_bound = Q3 + 1.5 * IQR\n",
    "\n",
    "train_df = train_df[(train_df['Price'] >= lower_bound) & (train_df['Price'] <= upper_bound)]"
   ]
  },
  {
   "cell_type": "code",
   "execution_count": 219,
   "id": "d5bbbf3d-e2e8-4854-a599-3310c8372649",
   "metadata": {},
   "outputs": [
    {
     "data": {
      "text/html": [
       "<div>\n",
       "<style scoped>\n",
       "    .dataframe tbody tr th:only-of-type {\n",
       "        vertical-align: middle;\n",
       "    }\n",
       "\n",
       "    .dataframe tbody tr th {\n",
       "        vertical-align: top;\n",
       "    }\n",
       "\n",
       "    .dataframe thead th {\n",
       "        text-align: right;\n",
       "    }\n",
       "</style>\n",
       "<table border=\"1\" class=\"dataframe\">\n",
       "  <thead>\n",
       "    <tr style=\"text-align: right;\">\n",
       "      <th></th>\n",
       "      <th>Brand</th>\n",
       "      <th>Year</th>\n",
       "      <th>Model</th>\n",
       "      <th>Car/Suv</th>\n",
       "      <th>Title</th>\n",
       "      <th>UsedOrNew</th>\n",
       "      <th>Transmission</th>\n",
       "      <th>Engine</th>\n",
       "      <th>DriveType</th>\n",
       "      <th>FuelType</th>\n",
       "      <th>FuelConsumption</th>\n",
       "      <th>Kilometres</th>\n",
       "      <th>ColourExtInt</th>\n",
       "      <th>Location</th>\n",
       "      <th>CylindersinEngine</th>\n",
       "      <th>BodyType</th>\n",
       "      <th>Doors</th>\n",
       "      <th>Seats</th>\n",
       "      <th>Price</th>\n",
       "    </tr>\n",
       "  </thead>\n",
       "  <tbody>\n",
       "    <tr>\n",
       "      <th>7594</th>\n",
       "      <td>Mazda</td>\n",
       "      <td>2019.0</td>\n",
       "      <td>3</td>\n",
       "      <td>USED Dealer ad</td>\n",
       "      <td>2019 Mazda 3</td>\n",
       "      <td>USED</td>\n",
       "      <td>Automatic</td>\n",
       "      <td>-</td>\n",
       "      <td>Front</td>\n",
       "      <td>Unleaded</td>\n",
       "      <td>-</td>\n",
       "      <td>18664</td>\n",
       "      <td>Red / 2019/05</td>\n",
       "      <td>Dandenong South, VIC</td>\n",
       "      <td>-</td>\n",
       "      <td>NaN</td>\n",
       "      <td>NaN</td>\n",
       "      <td>NaN</td>\n",
       "      <td>30990.0</td>\n",
       "    </tr>\n",
       "    <tr>\n",
       "      <th>10634</th>\n",
       "      <td>Mazda</td>\n",
       "      <td>2018.0</td>\n",
       "      <td>2</td>\n",
       "      <td>Hatchback</td>\n",
       "      <td>2018 Mazda 2 Maxx</td>\n",
       "      <td>USED</td>\n",
       "      <td>Automatic</td>\n",
       "      <td>4 cyl, 1.5 L</td>\n",
       "      <td>Front</td>\n",
       "      <td>Unleaded</td>\n",
       "      <td>4.9 L / 100 km</td>\n",
       "      <td>23600</td>\n",
       "      <td>White / -</td>\n",
       "      <td>Archerfield, QLD</td>\n",
       "      <td>4 cyl</td>\n",
       "      <td>Hatchback</td>\n",
       "      <td>5 Doors</td>\n",
       "      <td>5 Seats</td>\n",
       "      <td>14999.0</td>\n",
       "    </tr>\n",
       "    <tr>\n",
       "      <th>4411</th>\n",
       "      <td>Ford</td>\n",
       "      <td>2017.0</td>\n",
       "      <td>Ranger</td>\n",
       "      <td>Ute / Tray</td>\n",
       "      <td>2017 Ford Ranger XL 2.2 HI-Rider (4X2)</td>\n",
       "      <td>USED</td>\n",
       "      <td>Automatic</td>\n",
       "      <td>4 cyl, 2.2 L</td>\n",
       "      <td>Rear</td>\n",
       "      <td>Diesel</td>\n",
       "      <td>7.5 L / 100 km</td>\n",
       "      <td>219442</td>\n",
       "      <td>White / Grey</td>\n",
       "      <td>Minchinbury, NSW</td>\n",
       "      <td>4 cyl</td>\n",
       "      <td>Ute / Tray</td>\n",
       "      <td>4 Doors</td>\n",
       "      <td>5 Seats</td>\n",
       "      <td>29995.0</td>\n",
       "    </tr>\n",
       "    <tr>\n",
       "      <th>12403</th>\n",
       "      <td>LDV</td>\n",
       "      <td>2020.0</td>\n",
       "      <td>V80</td>\n",
       "      <td>Qld 4x4 Pty Ltd</td>\n",
       "      <td>2020 LDV V80 HIGH ROOF LONG WHEEL</td>\n",
       "      <td>USED</td>\n",
       "      <td>Automatic</td>\n",
       "      <td>-</td>\n",
       "      <td>Other</td>\n",
       "      <td>Diesel</td>\n",
       "      <td>-</td>\n",
       "      <td>61972</td>\n",
       "      <td>White / -</td>\n",
       "      <td>Baringa, QLD</td>\n",
       "      <td>-</td>\n",
       "      <td>Commercial</td>\n",
       "      <td>NaN</td>\n",
       "      <td>NaN</td>\n",
       "      <td>29999.0</td>\n",
       "    </tr>\n",
       "    <tr>\n",
       "      <th>9982</th>\n",
       "      <td>Hyundai</td>\n",
       "      <td>2019.0</td>\n",
       "      <td>I30</td>\n",
       "      <td>Hatchback</td>\n",
       "      <td>2019 Hyundai I30 Active</td>\n",
       "      <td>USED</td>\n",
       "      <td>Automatic</td>\n",
       "      <td>4 cyl, 2 L</td>\n",
       "      <td>Front</td>\n",
       "      <td>Unleaded</td>\n",
       "      <td>7.4 L / 100 km</td>\n",
       "      <td>63396</td>\n",
       "      <td>Red / Black</td>\n",
       "      <td>Elsternwick, VIC</td>\n",
       "      <td>4 cyl</td>\n",
       "      <td>Hatchback</td>\n",
       "      <td>4 Doors</td>\n",
       "      <td>5 Seats</td>\n",
       "      <td>23750.0</td>\n",
       "    </tr>\n",
       "    <tr>\n",
       "      <th>...</th>\n",
       "      <td>...</td>\n",
       "      <td>...</td>\n",
       "      <td>...</td>\n",
       "      <td>...</td>\n",
       "      <td>...</td>\n",
       "      <td>...</td>\n",
       "      <td>...</td>\n",
       "      <td>...</td>\n",
       "      <td>...</td>\n",
       "      <td>...</td>\n",
       "      <td>...</td>\n",
       "      <td>...</td>\n",
       "      <td>...</td>\n",
       "      <td>...</td>\n",
       "      <td>...</td>\n",
       "      <td>...</td>\n",
       "      <td>...</td>\n",
       "      <td>...</td>\n",
       "      <td>...</td>\n",
       "    </tr>\n",
       "    <tr>\n",
       "      <th>11285</th>\n",
       "      <td>Lexus</td>\n",
       "      <td>2014.0</td>\n",
       "      <td>IS300H</td>\n",
       "      <td>Sedan</td>\n",
       "      <td>2014 Lexus IS300H Luxury Hybrid</td>\n",
       "      <td>USED</td>\n",
       "      <td>Automatic</td>\n",
       "      <td>4 cyl, 2.5 L</td>\n",
       "      <td>Rear</td>\n",
       "      <td>Hybrid</td>\n",
       "      <td>4.9 L / 100 km</td>\n",
       "      <td>69839</td>\n",
       "      <td>Silver / Beige</td>\n",
       "      <td>Hoppers Crossing, VIC</td>\n",
       "      <td>4 cyl</td>\n",
       "      <td>Sedan</td>\n",
       "      <td>4 Doors</td>\n",
       "      <td>5 Seats</td>\n",
       "      <td>35990.0</td>\n",
       "    </tr>\n",
       "    <tr>\n",
       "      <th>11965</th>\n",
       "      <td>Hyundai</td>\n",
       "      <td>2013.0</td>\n",
       "      <td>Elantra</td>\n",
       "      <td>08 **** ****\\n</td>\n",
       "      <td>2013 Hyundai Elantra MD</td>\n",
       "      <td>USED</td>\n",
       "      <td>-</td>\n",
       "      <td>-</td>\n",
       "      <td>Front</td>\n",
       "      <td>-</td>\n",
       "      <td>-</td>\n",
       "      <td>155815</td>\n",
       "      <td>- / -</td>\n",
       "      <td>Blair Athol, SA</td>\n",
       "      <td>-</td>\n",
       "      <td>NaN</td>\n",
       "      <td>NaN</td>\n",
       "      <td>NaN</td>\n",
       "      <td>9999.0</td>\n",
       "    </tr>\n",
       "    <tr>\n",
       "      <th>5391</th>\n",
       "      <td>LDV</td>\n",
       "      <td>2021.0</td>\n",
       "      <td>T60</td>\n",
       "      <td>Ute / Tray</td>\n",
       "      <td>2021 LDV T60 PRO (4X4)</td>\n",
       "      <td>USED</td>\n",
       "      <td>Automatic</td>\n",
       "      <td>4 cyl, 2.8 L</td>\n",
       "      <td>4WD</td>\n",
       "      <td>Diesel</td>\n",
       "      <td>8.5 L / 100 km</td>\n",
       "      <td>29876</td>\n",
       "      <td>Grey / -</td>\n",
       "      <td>West Ryde, NSW</td>\n",
       "      <td>4 cyl</td>\n",
       "      <td>Ute / Tray</td>\n",
       "      <td>4 Doors</td>\n",
       "      <td>5 Seats</td>\n",
       "      <td>28388.0</td>\n",
       "    </tr>\n",
       "    <tr>\n",
       "      <th>860</th>\n",
       "      <td>Mazda</td>\n",
       "      <td>2014.0</td>\n",
       "      <td>3</td>\n",
       "      <td>Sedan</td>\n",
       "      <td>2014 Mazda 3 NEO</td>\n",
       "      <td>USED</td>\n",
       "      <td>Manual</td>\n",
       "      <td>4 cyl, 2 L</td>\n",
       "      <td>Front</td>\n",
       "      <td>Unleaded</td>\n",
       "      <td>5.8 L / 100 km</td>\n",
       "      <td>148421</td>\n",
       "      <td>Silver / Black</td>\n",
       "      <td>Minchinbury, NSW</td>\n",
       "      <td>4 cyl</td>\n",
       "      <td>Sedan</td>\n",
       "      <td>4 Doors</td>\n",
       "      <td>5 Seats</td>\n",
       "      <td>14880.0</td>\n",
       "    </tr>\n",
       "    <tr>\n",
       "      <th>15796</th>\n",
       "      <td>LDV</td>\n",
       "      <td>2023.0</td>\n",
       "      <td>G10+</td>\n",
       "      <td>NaN</td>\n",
       "      <td>2023 LDV G10+ G10+21</td>\n",
       "      <td>NEW</td>\n",
       "      <td>-</td>\n",
       "      <td>-</td>\n",
       "      <td>Other</td>\n",
       "      <td>-</td>\n",
       "      <td>-</td>\n",
       "      <td>-</td>\n",
       "      <td>White / -</td>\n",
       "      <td>Brookvale, NSW</td>\n",
       "      <td>-</td>\n",
       "      <td>NaN</td>\n",
       "      <td>NaN</td>\n",
       "      <td>NaN</td>\n",
       "      <td>38937.0</td>\n",
       "    </tr>\n",
       "  </tbody>\n",
       "</table>\n",
       "<p>13242 rows × 19 columns</p>\n",
       "</div>"
      ],
      "text/plain": [
       "         Brand    Year    Model          Car/Suv  \\\n",
       "7594     Mazda  2019.0        3   USED Dealer ad   \n",
       "10634    Mazda  2018.0        2        Hatchback   \n",
       "4411      Ford  2017.0   Ranger       Ute / Tray   \n",
       "12403      LDV  2020.0      V80  Qld 4x4 Pty Ltd   \n",
       "9982   Hyundai  2019.0      I30        Hatchback   \n",
       "...        ...     ...      ...              ...   \n",
       "11285    Lexus  2014.0   IS300H            Sedan   \n",
       "11965  Hyundai  2013.0  Elantra   08 **** ****\\n   \n",
       "5391       LDV  2021.0      T60       Ute / Tray   \n",
       "860      Mazda  2014.0        3            Sedan   \n",
       "15796      LDV  2023.0     G10+              NaN   \n",
       "\n",
       "                                        Title UsedOrNew Transmission  \\\n",
       "7594                             2019 Mazda 3      USED    Automatic   \n",
       "10634                       2018 Mazda 2 Maxx      USED    Automatic   \n",
       "4411   2017 Ford Ranger XL 2.2 HI-Rider (4X2)      USED    Automatic   \n",
       "12403       2020 LDV V80 HIGH ROOF LONG WHEEL      USED    Automatic   \n",
       "9982                  2019 Hyundai I30 Active      USED    Automatic   \n",
       "...                                       ...       ...          ...   \n",
       "11285         2014 Lexus IS300H Luxury Hybrid      USED    Automatic   \n",
       "11965                 2013 Hyundai Elantra MD      USED            -   \n",
       "5391                   2021 LDV T60 PRO (4X4)      USED    Automatic   \n",
       "860                          2014 Mazda 3 NEO      USED       Manual   \n",
       "15796                    2023 LDV G10+ G10+21       NEW            -   \n",
       "\n",
       "             Engine DriveType  FuelType FuelConsumption Kilometres  \\\n",
       "7594              -     Front  Unleaded               -      18664   \n",
       "10634  4 cyl, 1.5 L     Front  Unleaded  4.9 L / 100 km      23600   \n",
       "4411   4 cyl, 2.2 L      Rear    Diesel  7.5 L / 100 km     219442   \n",
       "12403             -     Other    Diesel               -      61972   \n",
       "9982     4 cyl, 2 L     Front  Unleaded  7.4 L / 100 km      63396   \n",
       "...             ...       ...       ...             ...        ...   \n",
       "11285  4 cyl, 2.5 L      Rear    Hybrid  4.9 L / 100 km      69839   \n",
       "11965             -     Front         -               -     155815   \n",
       "5391   4 cyl, 2.8 L       4WD    Diesel  8.5 L / 100 km      29876   \n",
       "860      4 cyl, 2 L     Front  Unleaded  5.8 L / 100 km     148421   \n",
       "15796             -     Other         -               -          -   \n",
       "\n",
       "         ColourExtInt               Location CylindersinEngine    BodyType  \\\n",
       "7594    Red / 2019/05   Dandenong South, VIC                 -         NaN   \n",
       "10634       White / -       Archerfield, QLD             4 cyl   Hatchback   \n",
       "4411     White / Grey       Minchinbury, NSW             4 cyl  Ute / Tray   \n",
       "12403       White / -           Baringa, QLD                 -  Commercial   \n",
       "9982      Red / Black       Elsternwick, VIC             4 cyl   Hatchback   \n",
       "...               ...                    ...               ...         ...   \n",
       "11285  Silver / Beige  Hoppers Crossing, VIC             4 cyl       Sedan   \n",
       "11965           - / -        Blair Athol, SA                 -         NaN   \n",
       "5391         Grey / -         West Ryde, NSW             4 cyl  Ute / Tray   \n",
       "860    Silver / Black       Minchinbury, NSW             4 cyl       Sedan   \n",
       "15796       White / -         Brookvale, NSW                 -         NaN   \n",
       "\n",
       "          Doors     Seats    Price  \n",
       "7594        NaN       NaN  30990.0  \n",
       "10634   5 Doors   5 Seats  14999.0  \n",
       "4411    4 Doors   5 Seats  29995.0  \n",
       "12403       NaN       NaN  29999.0  \n",
       "9982    4 Doors   5 Seats  23750.0  \n",
       "...         ...       ...      ...  \n",
       "11285   4 Doors   5 Seats  35990.0  \n",
       "11965       NaN       NaN   9999.0  \n",
       "5391    4 Doors   5 Seats  28388.0  \n",
       "860     4 Doors   5 Seats  14880.0  \n",
       "15796       NaN       NaN  38937.0  \n",
       "\n",
       "[13242 rows x 19 columns]"
      ]
     },
     "execution_count": 219,
     "metadata": {},
     "output_type": "execute_result"
    }
   ],
   "source": [
    "train_df"
   ]
  },
  {
   "cell_type": "markdown",
   "id": "434ecac7-b219-4f79-9139-c0f7116d6291",
   "metadata": {},
   "source": [
    "- Рассмотрим переменную Year"
   ]
  },
  {
   "cell_type": "code",
   "execution_count": 221,
   "id": "b4fe4ae1-ccb4-4c9a-8d1c-b0d463161319",
   "metadata": {},
   "outputs": [
    {
     "data": {
      "text/html": [
       "<div>\n",
       "<style scoped>\n",
       "    .dataframe tbody tr th:only-of-type {\n",
       "        vertical-align: middle;\n",
       "    }\n",
       "\n",
       "    .dataframe tbody tr th {\n",
       "        vertical-align: top;\n",
       "    }\n",
       "\n",
       "    .dataframe thead th {\n",
       "        text-align: right;\n",
       "    }\n",
       "</style>\n",
       "<table border=\"1\" class=\"dataframe\">\n",
       "  <thead>\n",
       "    <tr style=\"text-align: right;\">\n",
       "      <th></th>\n",
       "      <th>Brand</th>\n",
       "      <th>Year</th>\n",
       "      <th>Model</th>\n",
       "      <th>Car/Suv</th>\n",
       "      <th>Title</th>\n",
       "      <th>UsedOrNew</th>\n",
       "      <th>Transmission</th>\n",
       "      <th>Engine</th>\n",
       "      <th>DriveType</th>\n",
       "      <th>FuelType</th>\n",
       "      <th>FuelConsumption</th>\n",
       "      <th>Kilometres</th>\n",
       "      <th>ColourExtInt</th>\n",
       "      <th>Location</th>\n",
       "      <th>CylindersinEngine</th>\n",
       "      <th>BodyType</th>\n",
       "      <th>Doors</th>\n",
       "      <th>Seats</th>\n",
       "      <th>Price</th>\n",
       "    </tr>\n",
       "  </thead>\n",
       "  <tbody>\n",
       "  </tbody>\n",
       "</table>\n",
       "</div>"
      ],
      "text/plain": [
       "Empty DataFrame\n",
       "Columns: [Brand, Year, Model, Car/Suv, Title, UsedOrNew, Transmission, Engine, DriveType, FuelType, FuelConsumption, Kilometres, ColourExtInt, Location, CylindersinEngine, BodyType, Doors, Seats, Price]\n",
       "Index: []"
      ]
     },
     "execution_count": 221,
     "metadata": {},
     "output_type": "execute_result"
    }
   ],
   "source": [
    "train_df[train_df.Year == '-']"
   ]
  },
  {
   "cell_type": "code",
   "execution_count": 222,
   "id": "6f14788c-3269-4593-953b-491faf40daf3",
   "metadata": {},
   "outputs": [],
   "source": [
    "count_year = train_df.Year.value_counts().sort_index()"
   ]
  },
  {
   "cell_type": "code",
   "execution_count": 223,
   "id": "dfbe1488-8ab7-4327-b383-d01a43b0794e",
   "metadata": {},
   "outputs": [
    {
     "data": {
      "image/png": "[encoded data removed]",
      "text/plain": [
       "<Figure size 1200x600 with 1 Axes>"
      ]
     },
     "metadata": {},
     "output_type": "display_data"
    }
   ],
   "source": [
    "plt.figure(figsize=(12, 6))\n",
    "plt.bar(count_year.index, count_year.values, color='skyblue')\n",
    "plt.xlabel('Год выпуска')\n",
    "plt.ylabel('Количество записей')\n",
    "plt.title('Распределение количества записей по годам')\n",
    "plt.xticks(rotation=45)\n",
    "plt.tight_layout()\n",
    "plt.show()"
   ]
  },
  {
   "cell_type": "markdown",
   "id": "b9ca7b2c-afc2-4097-afb4-1d70335a5225",
   "metadata": {},
   "source": [
    "Истерсно что ярко выражен спад количеств записей с машинами годом выпуска 2020 и 2021 годы - в это время была эпижемия covid, разрыв цепочек и заводы выпустили мало авто"
   ]
  },
  {
   "cell_type": "markdown",
   "id": "d1e5fb9b-97b1-4d08-8ead-b50c0bba5010",
   "metadata": {},
   "source": [
    "Оставим его использование напрямую как числвого признака , как тенденцию влияния старости или новизны на целевую переменную"
   ]
  },
  {
   "cell_type": "markdown",
   "id": "1145f031-2916-4e6a-9ae4-336e3894608e",
   "metadata": {},
   "source": [
    "Model"
   ]
  },
  {
   "cell_type": "code",
   "execution_count": 227,
   "id": "a9e94614-7103-4e55-bdb5-bb71e64c3d39",
   "metadata": {},
   "outputs": [
    {
     "data": {
      "text/html": [
       "<div>\n",
       "<style scoped>\n",
       "    .dataframe tbody tr th:only-of-type {\n",
       "        vertical-align: middle;\n",
       "    }\n",
       "\n",
       "    .dataframe tbody tr th {\n",
       "        vertical-align: top;\n",
       "    }\n",
       "\n",
       "    .dataframe thead th {\n",
       "        text-align: right;\n",
       "    }\n",
       "</style>\n",
       "<table border=\"1\" class=\"dataframe\">\n",
       "  <thead>\n",
       "    <tr style=\"text-align: right;\">\n",
       "      <th></th>\n",
       "      <th>Brand</th>\n",
       "      <th>Year</th>\n",
       "      <th>Model</th>\n",
       "      <th>Car/Suv</th>\n",
       "      <th>Title</th>\n",
       "      <th>UsedOrNew</th>\n",
       "      <th>Transmission</th>\n",
       "      <th>Engine</th>\n",
       "      <th>DriveType</th>\n",
       "      <th>FuelType</th>\n",
       "      <th>FuelConsumption</th>\n",
       "      <th>Kilometres</th>\n",
       "      <th>ColourExtInt</th>\n",
       "      <th>Location</th>\n",
       "      <th>CylindersinEngine</th>\n",
       "      <th>BodyType</th>\n",
       "      <th>Doors</th>\n",
       "      <th>Seats</th>\n",
       "      <th>Price</th>\n",
       "    </tr>\n",
       "  </thead>\n",
       "  <tbody>\n",
       "  </tbody>\n",
       "</table>\n",
       "</div>"
      ],
      "text/plain": [
       "Empty DataFrame\n",
       "Columns: [Brand, Year, Model, Car/Suv, Title, UsedOrNew, Transmission, Engine, DriveType, FuelType, FuelConsumption, Kilometres, ColourExtInt, Location, CylindersinEngine, BodyType, Doors, Seats, Price]\n",
       "Index: []"
      ]
     },
     "execution_count": 227,
     "metadata": {},
     "output_type": "execute_result"
    }
   ],
   "source": [
    "train_df[train_df.Model == '-']"
   ]
  },
  {
   "cell_type": "code",
   "execution_count": 228,
   "id": "5626683d-7510-4d1d-925f-1e82d73ad636",
   "metadata": {},
   "outputs": [
    {
     "data": {
      "text/plain": [
       "Model\n",
       "Hilux          430\n",
       "Corolla        405\n",
       "Ranger         398\n",
       "Landcruiser    370\n",
       "I30            366\n",
       "              ... \n",
       "Celerio          1\n",
       "R-Class          1\n",
       "Vectra           1\n",
       "ES300            1\n",
       "120              1\n",
       "Name: count, Length: 781, dtype: int64"
      ]
     },
     "execution_count": 228,
     "metadata": {},
     "output_type": "execute_result"
    }
   ],
   "source": [
    "model_counts = df.Model.value_counts()\n",
    "model_counts"
   ]
  },
  {
   "cell_type": "code",
   "execution_count": 229,
   "id": "59769f41-4176-418c-9e5b-804f0a056cd9",
   "metadata": {},
   "outputs": [
    {
     "data": {
      "image/png": "[encoded data removed]",
      "text/plain": [
       "<Figure size 1500x500 with 1 Axes>"
      ]
     },
     "metadata": {},
     "output_type": "display_data"
    }
   ],
   "source": [
    "plt.figure(figsize=(15,5))\n",
    "plt.pie(model_counts[model_counts>100])\n",
    "plt.show()"
   ]
  },
  {
   "cell_type": "markdown",
   "id": "0b8d63dc-4924-470f-945f-5a4f23b7d82a",
   "metadata": {},
   "source": [
    "Переменная Car/Suv содержит много данных которые зашумлены , встречаются как названия автосалонов , так и просто набор символов (*****) (похоже на вин номер)\n",
    "\n",
    "Стоит отметить что в основном , наиболее частные категории соответвуют адеватным обозначениям типа кузова автомобиля \n"
   ]
  },
  {
   "cell_type": "code",
   "execution_count": 231,
   "id": "090db2f0-1fe4-42d7-bd03-d841017a0918",
   "metadata": {},
   "outputs": [
    {
     "data": {
      "text/plain": [
       "(13242, 19)"
      ]
     },
     "execution_count": 231,
     "metadata": {},
     "output_type": "execute_result"
    }
   ],
   "source": [
    "train_df.shape"
   ]
  },
  {
   "cell_type": "code",
   "execution_count": 232,
   "id": "b07c48eb-2415-4a11-8b0b-e3ab0bf7d657",
   "metadata": {},
   "outputs": [
    {
     "data": {
      "text/plain": [
       "10775"
      ]
     },
     "execution_count": 232,
     "metadata": {},
     "output_type": "execute_result"
    }
   ],
   "source": [
    "(train_df['Car/Suv'] == train_df['BodyType']).sum()"
   ]
  },
  {
   "cell_type": "code",
   "execution_count": 233,
   "id": "a2f08d72-ec92-4309-a0b9-9139b4406fa2",
   "metadata": {},
   "outputs": [
    {
     "data": {
      "text/plain": [
       "2467"
      ]
     },
     "execution_count": 233,
     "metadata": {},
     "output_type": "execute_result"
    }
   ],
   "source": [
    "(train_df['Car/Suv'] != train_df['BodyType']).sum()"
   ]
  },
  {
   "cell_type": "markdown",
   "id": "28fe3781-32b0-417b-a358-55fce8cc593a",
   "metadata": {},
   "source": [
    "Однако, есть важный момент можно заметить что часто совпадают колокнки BodyType и Car/Suv, в БоdyType более осмысленно заполнено.\n",
    "Можно исопльзовать значения в колонке Car/Suv, на случай если в колонке Car/Suv пропущенны значения (None или \"-\")"
   ]
  },
  {
   "cell_type": "code",
   "execution_count": 235,
   "id": "4d60ce4d-16d3-4f12-a1d5-8119aa22310d",
   "metadata": {},
   "outputs": [
    {
     "data": {
      "text/html": [
       "<div>\n",
       "<style scoped>\n",
       "    .dataframe tbody tr th:only-of-type {\n",
       "        vertical-align: middle;\n",
       "    }\n",
       "\n",
       "    .dataframe tbody tr th {\n",
       "        vertical-align: top;\n",
       "    }\n",
       "\n",
       "    .dataframe thead th {\n",
       "        text-align: right;\n",
       "    }\n",
       "</style>\n",
       "<table border=\"1\" class=\"dataframe\">\n",
       "  <thead>\n",
       "    <tr style=\"text-align: right;\">\n",
       "      <th></th>\n",
       "      <th>Brand</th>\n",
       "      <th>Year</th>\n",
       "      <th>Model</th>\n",
       "      <th>Car/Suv</th>\n",
       "      <th>Title</th>\n",
       "      <th>UsedOrNew</th>\n",
       "      <th>Transmission</th>\n",
       "      <th>Engine</th>\n",
       "      <th>DriveType</th>\n",
       "      <th>FuelType</th>\n",
       "      <th>FuelConsumption</th>\n",
       "      <th>Kilometres</th>\n",
       "      <th>ColourExtInt</th>\n",
       "      <th>Location</th>\n",
       "      <th>CylindersinEngine</th>\n",
       "      <th>BodyType</th>\n",
       "      <th>Doors</th>\n",
       "      <th>Seats</th>\n",
       "      <th>Price</th>\n",
       "    </tr>\n",
       "  </thead>\n",
       "  <tbody>\n",
       "  </tbody>\n",
       "</table>\n",
       "</div>"
      ],
      "text/plain": [
       "Empty DataFrame\n",
       "Columns: [Brand, Year, Model, Car/Suv, Title, UsedOrNew, Transmission, Engine, DriveType, FuelType, FuelConsumption, Kilometres, ColourExtInt, Location, CylindersinEngine, BodyType, Doors, Seats, Price]\n",
       "Index: []"
      ]
     },
     "execution_count": 235,
     "metadata": {},
     "output_type": "execute_result"
    }
   ],
   "source": [
    "train_df[train_df['BodyType'] == '-']"
   ]
  },
  {
   "cell_type": "code",
   "execution_count": 236,
   "id": "84a53685-0e40-4849-80fe-0d28f4333fd3",
   "metadata": {},
   "outputs": [
    {
     "data": {
      "text/plain": [
       "BodyType\n",
       "SUV             5485\n",
       "Hatchback       2168\n",
       "Ute / Tray      2013\n",
       "Sedan           1542\n",
       "Wagon            976\n",
       "Commercial       477\n",
       "Coupe            239\n",
       "Convertible       87\n",
       "People Mover      17\n",
       "Other             16\n",
       "Name: count, dtype: int64"
      ]
     },
     "execution_count": 236,
     "metadata": {},
     "output_type": "execute_result"
    }
   ],
   "source": [
    "train_df.BodyType.value_counts()"
   ]
  },
  {
   "cell_type": "markdown",
   "id": "54100275-224b-405a-802e-99b8c3dee64b",
   "metadata": {},
   "source": [
    "Копнеим еще глубже и посмотрим какие значения принимает car/suv в случае когда BodyType Null"
   ]
  },
  {
   "cell_type": "code",
   "execution_count": 238,
   "id": "ba370027-7842-4142-9cfb-912a61d7155a",
   "metadata": {},
   "outputs": [
    {
     "data": {
      "text/html": [
       "<div>\n",
       "<style scoped>\n",
       "    .dataframe tbody tr th:only-of-type {\n",
       "        vertical-align: middle;\n",
       "    }\n",
       "\n",
       "    .dataframe tbody tr th {\n",
       "        vertical-align: top;\n",
       "    }\n",
       "\n",
       "    .dataframe thead th {\n",
       "        text-align: right;\n",
       "    }\n",
       "</style>\n",
       "<table border=\"1\" class=\"dataframe\">\n",
       "  <thead>\n",
       "    <tr style=\"text-align: right;\">\n",
       "      <th></th>\n",
       "      <th>Car/Suv</th>\n",
       "      <th>BodyType</th>\n",
       "    </tr>\n",
       "  </thead>\n",
       "  <tbody>\n",
       "    <tr>\n",
       "      <th>7594</th>\n",
       "      <td>USED Dealer ad</td>\n",
       "      <td>NaN</td>\n",
       "    </tr>\n",
       "    <tr>\n",
       "      <th>15832</th>\n",
       "      <td>USED Dealer ad</td>\n",
       "      <td>NaN</td>\n",
       "    </tr>\n",
       "    <tr>\n",
       "      <th>4210</th>\n",
       "      <td>USED Dealer ad</td>\n",
       "      <td>NaN</td>\n",
       "    </tr>\n",
       "    <tr>\n",
       "      <th>274</th>\n",
       "      <td>USED Dealer ad</td>\n",
       "      <td>NaN</td>\n",
       "    </tr>\n",
       "    <tr>\n",
       "      <th>4295</th>\n",
       "      <td>USED Dealer ad</td>\n",
       "      <td>NaN</td>\n",
       "    </tr>\n",
       "  </tbody>\n",
       "</table>\n",
       "</div>"
      ],
      "text/plain": [
       "              Car/Suv BodyType\n",
       "7594   USED Dealer ad      NaN\n",
       "15832  USED Dealer ad      NaN\n",
       "4210   USED Dealer ad      NaN\n",
       "274    USED Dealer ad      NaN\n",
       "4295   USED Dealer ad      NaN"
      ]
     },
     "execution_count": 238,
     "metadata": {},
     "output_type": "execute_result"
    }
   ],
   "source": [
    "difference_df = train_df.loc[(train_df['Car/Suv'] != train_df['BodyType']) & ( train_df['BodyType'].isnull())][['Car/Suv','BodyType']]\n",
    "difference_df.head()"
   ]
  },
  {
   "cell_type": "code",
   "execution_count": null,
   "id": "3b434cff-58d1-4aa4-8f19-a73172d0fdf2",
   "metadata": {},
   "outputs": [],
   "source": []
  },
  {
   "cell_type": "markdown",
   "id": "3d644a74-3461-4cbe-81a7-f5b30c3dc13b",
   "metadata": {},
   "source": [
    "Всего 220 колоно к с NAN в BodyType, посмотрим какие категории в Car/Suv соответствуют им и в каком количестве"
   ]
  },
  {
   "cell_type": "code",
   "execution_count": 240,
   "id": "b424709b-6f71-45bb-b884-9f6acc65053d",
   "metadata": {},
   "outputs": [
    {
     "data": {
      "text/html": [
       "<div>\n",
       "<style scoped>\n",
       "    .dataframe tbody tr th:only-of-type {\n",
       "        vertical-align: middle;\n",
       "    }\n",
       "\n",
       "    .dataframe tbody tr th {\n",
       "        vertical-align: top;\n",
       "    }\n",
       "\n",
       "    .dataframe thead th {\n",
       "        text-align: right;\n",
       "    }\n",
       "</style>\n",
       "<table border=\"1\" class=\"dataframe\">\n",
       "  <thead>\n",
       "    <tr style=\"text-align: right;\">\n",
       "      <th></th>\n",
       "      <th>BodyType</th>\n",
       "    </tr>\n",
       "    <tr>\n",
       "      <th>Car/Suv</th>\n",
       "      <th></th>\n",
       "    </tr>\n",
       "  </thead>\n",
       "  <tbody>\n",
       "    <tr>\n",
       "      <th>02 **** ****\\n</th>\n",
       "      <td>14</td>\n",
       "    </tr>\n",
       "    <tr>\n",
       "      <th>03 **** ****\\n</th>\n",
       "      <td>26</td>\n",
       "    </tr>\n",
       "    <tr>\n",
       "      <th>07 **** ****\\n</th>\n",
       "      <td>3</td>\n",
       "    </tr>\n",
       "    <tr>\n",
       "      <th>08 **** ****\\n</th>\n",
       "      <td>4</td>\n",
       "    </tr>\n",
       "    <tr>\n",
       "      <th>USED Dealer ad</th>\n",
       "      <td>165</td>\n",
       "    </tr>\n",
       "  </tbody>\n",
       "</table>\n",
       "</div>"
      ],
      "text/plain": [
       "                BodyType\n",
       "Car/Suv                 \n",
       "02 **** ****\\n        14\n",
       "03 **** ****\\n        26\n",
       "07 **** ****\\n         3\n",
       "08 **** ****\\n         4\n",
       "USED Dealer ad       165"
      ]
     },
     "execution_count": 240,
     "metadata": {},
     "output_type": "execute_result"
    }
   ],
   "source": [
    "difference_df.BodyType = difference_df.BodyType.isnull()\n",
    "difference_df.groupby('Car/Suv').count() "
   ]
  },
  {
   "cell_type": "markdown",
   "id": "298d2737-8ef7-49f1-9227-3d81fd8ca723",
   "metadata": {},
   "source": [
    "Видно, что значения Used Dealer ad очень часто встречается при значениях NAN в колонке BodyType\n",
    "Можно исопльзовать исходные категории прееменной BodyTypе плюс еще две категории где значение в колонке BodyType nan : Used dealer ad  и строковое значение содержащее \"**** ****\" обьядиняющее в себя все возможные вариации такой строки\n"
   ]
  },
  {
   "cell_type": "markdown",
   "id": "ff9b3009-51b8-45f1-810b-83c69be3a21c",
   "metadata": {},
   "source": [
    "Колонку же Car/Suv можно не использовать , мы из нее получили необходимую инфрмацию чтобы заполнить пропущенные данные в колонке в Колонке BodyTYpe которая более информативна"
   ]
  },
  {
   "cell_type": "markdown",
   "id": "97ab5588-d43d-4de6-b56b-9cba15c52204",
   "metadata": {},
   "source": [
    "- Рассмотрим признак UsedOrNew"
   ]
  },
  {
   "cell_type": "code",
   "execution_count": 244,
   "id": "1f396d54-ccf0-4909-a2f7-b21e342751ef",
   "metadata": {},
   "outputs": [
    {
     "data": {
      "text/plain": [
       "False"
      ]
     },
     "execution_count": 244,
     "metadata": {},
     "output_type": "execute_result"
    }
   ],
   "source": [
    "train_df['UsedOrNew'].isnull().any()"
   ]
  },
  {
   "cell_type": "code",
   "execution_count": 245,
   "id": "0662dc88-9d61-45e8-9ab6-c8b15164b69b",
   "metadata": {},
   "outputs": [
    {
     "data": {
      "text/plain": [
       "UsedOrNew\n",
       "USED    11939\n",
       "NEW       895\n",
       "DEMO      408\n",
       "Name: count, dtype: int64"
      ]
     },
     "execution_count": 245,
     "metadata": {},
     "output_type": "execute_result"
    }
   ],
   "source": [
    "train_df['UsedOrNew'].value_counts()"
   ]
  },
  {
   "cell_type": "markdown",
   "id": "c07f2b3e-cdc3-4231-9b4a-34f47ce29f35",
   "metadata": {},
   "source": [
    "Видно, что с этим признаком все хорошо, есть три логичных категории , основная часть это модели с пробегом"
   ]
  },
  {
   "cell_type": "markdown",
   "id": "14806900-328b-4f25-8a11-30c88f810fc0",
   "metadata": {},
   "source": [
    "Рассмотрим теперь FuelType"
   ]
  },
  {
   "cell_type": "code",
   "execution_count": 248,
   "id": "ab4b992d-5ac0-4855-81cb-2cf76c354342",
   "metadata": {},
   "outputs": [
    {
     "data": {
      "text/plain": [
       "FuelType\n",
       "Unleaded    5576\n",
       "Diesel      3867\n",
       "Premium     2652\n",
       "-            507\n",
       "Hybrid       499\n",
       "Electric      92\n",
       "Other         34\n",
       "LPG           12\n",
       "Leaded         3\n",
       "Name: count, dtype: int64"
      ]
     },
     "execution_count": 248,
     "metadata": {},
     "output_type": "execute_result"
    }
   ],
   "source": [
    "train_df['FuelType'].value_counts()"
   ]
  },
  {
   "cell_type": "markdown",
   "id": "8d036a28-d539-4597-b7c3-2111320efb05",
   "metadata": {},
   "source": [
    "Оставим '-' как отдельную категорию , с ней имеется приличное количество примеров в датасете.\n",
    "Погуглил что такое LPG и Leaded\n",
    "- LPG - тип аккумулятора можно отнести к Electric\n",
    "- Leaded - присадка к топливу можно отнести к Premium\n"
   ]
  },
  {
   "cell_type": "markdown",
   "id": "4199a498-9417-41c9-a4c8-049f6f534924",
   "metadata": {},
   "source": [
    "- Рассмотрим признак Transmission"
   ]
  },
  {
   "cell_type": "code",
   "execution_count": 251,
   "id": "48e8d4b3-1bb7-49fd-afb4-421092abf416",
   "metadata": {},
   "outputs": [
    {
     "data": {
      "text/plain": [
       "Transmission\n",
       "Automatic    11474\n",
       "Manual        1564\n",
       "-              204\n",
       "Name: count, dtype: int64"
      ]
     },
     "execution_count": 251,
     "metadata": {},
     "output_type": "execute_result"
    }
   ],
   "source": [
    "train_df.Transmission.value_counts()"
   ]
  },
  {
   "cell_type": "markdown",
   "id": "ae106a30-0984-4445-b491-dbb04efe8565",
   "metadata": {},
   "source": [
    "Видим три категории , категорию '-' можно заменить модой так как очень сильно превалирует категория automatic"
   ]
  },
  {
   "cell_type": "markdown",
   "id": "18d5314f-1d38-40e8-919d-ffafabbc8c98",
   "metadata": {},
   "source": [
    "- Расмотрим признак Kilometres"
   ]
  },
  {
   "cell_type": "code",
   "execution_count": 254,
   "id": "0c07ce1d-db73-4108-90b2-45feb42620e3",
   "metadata": {},
   "outputs": [
    {
     "data": {
      "text/plain": [
       "False"
      ]
     },
     "execution_count": 254,
     "metadata": {},
     "output_type": "execute_result"
    }
   ],
   "source": [
    "train_df.Kilometres.isna().any()"
   ]
  },
  {
   "cell_type": "markdown",
   "id": "2f09ed56-80a4-4163-be9a-09024980b4de",
   "metadata": {},
   "source": [
    "Однако имеются значения '-' и '- / -' которые необходимо заменить\n"
   ]
  },
  {
   "cell_type": "markdown",
   "id": "936f75e3-d0df-4020-b13f-e3fe9bd8bd6f",
   "metadata": {},
   "source": [
    "Будем заменять пропущенные значения медианными"
   ]
  },
  {
   "cell_type": "code",
   "execution_count": 257,
   "id": "7c706ba6-d5fd-48e0-ac2e-b5310844eb63",
   "metadata": {},
   "outputs": [
    {
     "data": {
      "text/plain": [
       "86143.0"
      ]
     },
     "execution_count": 257,
     "metadata": {},
     "output_type": "execute_result"
    }
   ],
   "source": [
    "train_df[(train_df.Kilometres != '-') & (train_df.Kilometres != '- / -')].Kilometres.astype(int).median()"
   ]
  },
  {
   "cell_type": "markdown",
   "id": "bf1bcab3-0f11-4a80-9a88-2823b54c265f",
   "metadata": {},
   "source": [
    "- Рассмотрим переменную FuelConsumption"
   ]
  },
  {
   "cell_type": "markdown",
   "id": "10829078-8d21-40e4-aa44-cafafa29a67b",
   "metadata": {},
   "source": [
    "Приведем к числовым значениям там где это возможно, после чего заполним пропущенные значения"
   ]
  },
  {
   "cell_type": "code",
   "execution_count": 260,
   "id": "5daf00ef-4f16-4751-bf75-f00c33cdc97d",
   "metadata": {},
   "outputs": [
    {
     "data": {
      "text/plain": [
       "False"
      ]
     },
     "execution_count": 260,
     "metadata": {},
     "output_type": "execute_result"
    }
   ],
   "source": [
    "train_df.FuelConsumption.isna().any()"
   ]
  },
  {
   "cell_type": "code",
   "execution_count": 261,
   "id": "7f3f5b11-4b9d-4303-953c-40012ccdeb86",
   "metadata": {},
   "outputs": [],
   "source": [
    "train_df.FuelConsumption = train_df.FuelConsumption.apply(lambda x: float(x.split('L')[0]) if x and x != '-' else np.nan)"
   ]
  },
  {
   "cell_type": "code",
   "execution_count": 262,
   "id": "21f0f549-e0bc-430e-b2f9-a598acb185ea",
   "metadata": {},
   "outputs": [
    {
     "data": {
      "text/plain": [
       "<Axes: >"
      ]
     },
     "execution_count": 262,
     "metadata": {},
     "output_type": "execute_result"
    },
    {
     "data": {
      "image/png": "[encoded data removed]",
      "text/plain": [
       "<Figure size 640x480 with 1 Axes>"
      ]
     },
     "metadata": {},
     "output_type": "display_data"
    }
   ],
   "source": [
    "train_df.FuelConsumption.hist(bins=50)"
   ]
  },
  {
   "cell_type": "code",
   "execution_count": 263,
   "id": "a7190f8f-8627-4ff1-a394-57aa5c9e6732",
   "metadata": {},
   "outputs": [
    {
     "data": {
      "text/plain": [
       "1334"
      ]
     },
     "execution_count": 263,
     "metadata": {},
     "output_type": "execute_result"
    }
   ],
   "source": [
    "train_df.FuelConsumption.isna().sum()"
   ]
  },
  {
   "cell_type": "markdown",
   "id": "cbeb3ce5-6023-4162-a6d0-5b30f9976b52",
   "metadata": {},
   "source": [
    "Видим приличное количество значений 0 и близко к этому при расходе топлива - это не выброс , это иза электромобилей и гибридных авто"
   ]
  },
  {
   "cell_type": "code",
   "execution_count": 265,
   "id": "a6cd78d9-deb2-4942-90e4-429407f1cac0",
   "metadata": {},
   "outputs": [
    {
     "data": {
      "text/html": [
       "<div>\n",
       "<style scoped>\n",
       "    .dataframe tbody tr th:only-of-type {\n",
       "        vertical-align: middle;\n",
       "    }\n",
       "\n",
       "    .dataframe tbody tr th {\n",
       "        vertical-align: top;\n",
       "    }\n",
       "\n",
       "    .dataframe thead th {\n",
       "        text-align: right;\n",
       "    }\n",
       "</style>\n",
       "<table border=\"1\" class=\"dataframe\">\n",
       "  <thead>\n",
       "    <tr style=\"text-align: right;\">\n",
       "      <th></th>\n",
       "      <th>Brand</th>\n",
       "      <th>Year</th>\n",
       "      <th>Model</th>\n",
       "      <th>Car/Suv</th>\n",
       "      <th>Title</th>\n",
       "      <th>UsedOrNew</th>\n",
       "      <th>Transmission</th>\n",
       "      <th>Engine</th>\n",
       "      <th>DriveType</th>\n",
       "      <th>FuelType</th>\n",
       "      <th>FuelConsumption</th>\n",
       "      <th>Kilometres</th>\n",
       "      <th>ColourExtInt</th>\n",
       "      <th>Location</th>\n",
       "      <th>CylindersinEngine</th>\n",
       "      <th>BodyType</th>\n",
       "      <th>Doors</th>\n",
       "      <th>Seats</th>\n",
       "      <th>Price</th>\n",
       "    </tr>\n",
       "  </thead>\n",
       "  <tbody>\n",
       "    <tr>\n",
       "      <th>7594</th>\n",
       "      <td>Mazda</td>\n",
       "      <td>2019.0</td>\n",
       "      <td>3</td>\n",
       "      <td>USED Dealer ad</td>\n",
       "      <td>2019 Mazda 3</td>\n",
       "      <td>USED</td>\n",
       "      <td>Automatic</td>\n",
       "      <td>-</td>\n",
       "      <td>Front</td>\n",
       "      <td>Unleaded</td>\n",
       "      <td>NaN</td>\n",
       "      <td>18664</td>\n",
       "      <td>Red / 2019/05</td>\n",
       "      <td>Dandenong South, VIC</td>\n",
       "      <td>-</td>\n",
       "      <td>NaN</td>\n",
       "      <td>NaN</td>\n",
       "      <td>NaN</td>\n",
       "      <td>30990.0</td>\n",
       "    </tr>\n",
       "    <tr>\n",
       "      <th>12403</th>\n",
       "      <td>LDV</td>\n",
       "      <td>2020.0</td>\n",
       "      <td>V80</td>\n",
       "      <td>Qld 4x4 Pty Ltd</td>\n",
       "      <td>2020 LDV V80 HIGH ROOF LONG WHEEL</td>\n",
       "      <td>USED</td>\n",
       "      <td>Automatic</td>\n",
       "      <td>-</td>\n",
       "      <td>Other</td>\n",
       "      <td>Diesel</td>\n",
       "      <td>NaN</td>\n",
       "      <td>61972</td>\n",
       "      <td>White / -</td>\n",
       "      <td>Baringa, QLD</td>\n",
       "      <td>-</td>\n",
       "      <td>Commercial</td>\n",
       "      <td>NaN</td>\n",
       "      <td>NaN</td>\n",
       "      <td>29999.0</td>\n",
       "    </tr>\n",
       "    <tr>\n",
       "      <th>15832</th>\n",
       "      <td>BMW</td>\n",
       "      <td>1975.0</td>\n",
       "      <td>2002</td>\n",
       "      <td>USED Dealer ad</td>\n",
       "      <td>1975 BMW 2002</td>\n",
       "      <td>USED</td>\n",
       "      <td>Automatic</td>\n",
       "      <td>-</td>\n",
       "      <td>Rear</td>\n",
       "      <td>Leaded</td>\n",
       "      <td>NaN</td>\n",
       "      <td>110306</td>\n",
       "      <td>Green / Cream Cloth</td>\n",
       "      <td>Rozelle, NSW</td>\n",
       "      <td>-</td>\n",
       "      <td>NaN</td>\n",
       "      <td>NaN</td>\n",
       "      <td>NaN</td>\n",
       "      <td>39990.0</td>\n",
       "    </tr>\n",
       "    <tr>\n",
       "      <th>12387</th>\n",
       "      <td>Nissan</td>\n",
       "      <td>2015.0</td>\n",
       "      <td>Navara</td>\n",
       "      <td>Qld 4x4 Pty Ltd</td>\n",
       "      <td>2015 Nissan Navara ST</td>\n",
       "      <td>USED</td>\n",
       "      <td>Manual</td>\n",
       "      <td>-</td>\n",
       "      <td>Other</td>\n",
       "      <td>Diesel</td>\n",
       "      <td>NaN</td>\n",
       "      <td>169969</td>\n",
       "      <td>Black / -</td>\n",
       "      <td>Baringa, QLD</td>\n",
       "      <td>-</td>\n",
       "      <td>Ute / Tray</td>\n",
       "      <td>NaN</td>\n",
       "      <td>NaN</td>\n",
       "      <td>29999.0</td>\n",
       "    </tr>\n",
       "    <tr>\n",
       "      <th>16690</th>\n",
       "      <td>Mercedes-Benz</td>\n",
       "      <td>2013.0</td>\n",
       "      <td>Sprinter</td>\n",
       "      <td>M &amp; G Motors</td>\n",
       "      <td>2013 Mercedes-Benz Sprinter 313 CDI</td>\n",
       "      <td>USED</td>\n",
       "      <td>Automatic</td>\n",
       "      <td>-</td>\n",
       "      <td>Other</td>\n",
       "      <td>-</td>\n",
       "      <td>NaN</td>\n",
       "      <td>339589</td>\n",
       "      <td>White / -</td>\n",
       "      <td>Braybrook, VIC</td>\n",
       "      <td>-</td>\n",
       "      <td>Commercial</td>\n",
       "      <td>NaN</td>\n",
       "      <td>NaN</td>\n",
       "      <td>19988.0</td>\n",
       "    </tr>\n",
       "  </tbody>\n",
       "</table>\n",
       "</div>"
      ],
      "text/plain": [
       "               Brand    Year     Model          Car/Suv  \\\n",
       "7594           Mazda  2019.0         3   USED Dealer ad   \n",
       "12403            LDV  2020.0       V80  Qld 4x4 Pty Ltd   \n",
       "15832            BMW  1975.0      2002   USED Dealer ad   \n",
       "12387         Nissan  2015.0    Navara  Qld 4x4 Pty Ltd   \n",
       "16690  Mercedes-Benz  2013.0  Sprinter     M & G Motors   \n",
       "\n",
       "                                     Title UsedOrNew Transmission Engine  \\\n",
       "7594                          2019 Mazda 3      USED    Automatic      -   \n",
       "12403    2020 LDV V80 HIGH ROOF LONG WHEEL      USED    Automatic      -   \n",
       "15832                        1975 BMW 2002      USED    Automatic      -   \n",
       "12387                2015 Nissan Navara ST      USED       Manual      -   \n",
       "16690  2013 Mercedes-Benz Sprinter 313 CDI      USED    Automatic      -   \n",
       "\n",
       "      DriveType  FuelType  FuelConsumption Kilometres         ColourExtInt  \\\n",
       "7594      Front  Unleaded              NaN      18664        Red / 2019/05   \n",
       "12403     Other    Diesel              NaN      61972            White / -   \n",
       "15832      Rear    Leaded              NaN     110306  Green / Cream Cloth   \n",
       "12387     Other    Diesel              NaN     169969            Black / -   \n",
       "16690     Other         -              NaN     339589            White / -   \n",
       "\n",
       "                   Location CylindersinEngine    BodyType Doors Seats    Price  \n",
       "7594   Dandenong South, VIC                 -         NaN   NaN   NaN  30990.0  \n",
       "12403          Baringa, QLD                 -  Commercial   NaN   NaN  29999.0  \n",
       "15832          Rozelle, NSW                 -         NaN   NaN   NaN  39990.0  \n",
       "12387          Baringa, QLD                 -  Ute / Tray   NaN   NaN  29999.0  \n",
       "16690        Braybrook, VIC                 -  Commercial   NaN   NaN  19988.0  "
      ]
     },
     "execution_count": 265,
     "metadata": {},
     "output_type": "execute_result"
    }
   ],
   "source": [
    "train_df[train_df.FuelConsumption.isna()].head()"
   ]
  },
  {
   "cell_type": "markdown",
   "id": "788f61ab-3a28-4bfc-bdb8-b7163938b237",
   "metadata": {},
   "source": [
    "- Расмсмотрим в паре две признака - Engine и CylindersinEngine\n",
    "Видно что они свзаны  между собой - первое занчение в Engine - это и есть значение CylindersinEngine"
   ]
  },
  {
   "cell_type": "code",
   "execution_count": 267,
   "id": "f32f184e-b5db-42ed-8248-4d66e3a1b745",
   "metadata": {},
   "outputs": [
    {
     "data": {
      "text/html": [
       "<div>\n",
       "<style scoped>\n",
       "    .dataframe tbody tr th:only-of-type {\n",
       "        vertical-align: middle;\n",
       "    }\n",
       "\n",
       "    .dataframe tbody tr th {\n",
       "        vertical-align: top;\n",
       "    }\n",
       "\n",
       "    .dataframe thead th {\n",
       "        text-align: right;\n",
       "    }\n",
       "</style>\n",
       "<table border=\"1\" class=\"dataframe\">\n",
       "  <thead>\n",
       "    <tr style=\"text-align: right;\">\n",
       "      <th></th>\n",
       "      <th>Engine</th>\n",
       "      <th>CylindersinEngine</th>\n",
       "    </tr>\n",
       "  </thead>\n",
       "  <tbody>\n",
       "    <tr>\n",
       "      <th>7594</th>\n",
       "      <td>-</td>\n",
       "      <td>-</td>\n",
       "    </tr>\n",
       "    <tr>\n",
       "      <th>10634</th>\n",
       "      <td>4 cyl, 1.5 L</td>\n",
       "      <td>4 cyl</td>\n",
       "    </tr>\n",
       "    <tr>\n",
       "      <th>4411</th>\n",
       "      <td>4 cyl, 2.2 L</td>\n",
       "      <td>4 cyl</td>\n",
       "    </tr>\n",
       "    <tr>\n",
       "      <th>12403</th>\n",
       "      <td>-</td>\n",
       "      <td>-</td>\n",
       "    </tr>\n",
       "    <tr>\n",
       "      <th>9982</th>\n",
       "      <td>4 cyl, 2 L</td>\n",
       "      <td>4 cyl</td>\n",
       "    </tr>\n",
       "  </tbody>\n",
       "</table>\n",
       "</div>"
      ],
      "text/plain": [
       "             Engine CylindersinEngine\n",
       "7594              -                 -\n",
       "10634  4 cyl, 1.5 L             4 cyl\n",
       "4411   4 cyl, 2.2 L             4 cyl\n",
       "12403             -                 -\n",
       "9982     4 cyl, 2 L             4 cyl"
      ]
     },
     "execution_count": 267,
     "metadata": {},
     "output_type": "execute_result"
    }
   ],
   "source": [
    "train_df[['Engine','CylindersinEngine']].head()"
   ]
  },
  {
   "cell_type": "code",
   "execution_count": 268,
   "id": "f3ce1dd6-e5f0-4f04-93de-19081f2a361e",
   "metadata": {},
   "outputs": [
    {
     "data": {
      "text/plain": [
       "13242"
      ]
     },
     "execution_count": 268,
     "metadata": {},
     "output_type": "execute_result"
    }
   ],
   "source": [
    "(train_df.Engine.apply(lambda x: x.split(',')[0]) == train_df.CylindersinEngine).sum()"
   ]
  },
  {
   "cell_type": "markdown",
   "id": "f7434bf2-c86b-46e0-bda9-5ca3dca97220",
   "metadata": {},
   "source": [
    "Поэтому используем только второе значение у Engine"
   ]
  },
  {
   "cell_type": "code",
   "execution_count": 270,
   "id": "714d3666-636d-491e-b7a0-7c6883eb3d68",
   "metadata": {},
   "outputs": [
    {
     "data": {
      "text/plain": [
       "7594                -\n",
       "10634    4 cyl, 1.5 L\n",
       "4411     4 cyl, 2.2 L\n",
       "12403               -\n",
       "9982       4 cyl, 2 L\n",
       "             ...     \n",
       "11285    4 cyl, 2.5 L\n",
       "11965               -\n",
       "5391     4 cyl, 2.8 L\n",
       "860        4 cyl, 2 L\n",
       "15796               -\n",
       "Name: Engine, Length: 13242, dtype: object"
      ]
     },
     "execution_count": 270,
     "metadata": {},
     "output_type": "execute_result"
    }
   ],
   "source": [
    "train_df.Engine"
   ]
  },
  {
   "cell_type": "code",
   "execution_count": 271,
   "id": "573a0649-eb4c-44a9-a07a-1d6f76408e2c",
   "metadata": {},
   "outputs": [
    {
     "data": {
      "text/plain": [
       "CylindersinEngine\n",
       "4 cyl     9184\n",
       "6 cyl     1627\n",
       "-         1319\n",
       "8 cyl      444\n",
       "5 cyl      315\n",
       "3 cyl      258\n",
       "0 L         85\n",
       "12 cyl       5\n",
       "2 cyl        3\n",
       "10 cyl       1\n",
       "2 L          1\n",
       "Name: count, dtype: int64"
      ]
     },
     "execution_count": 271,
     "metadata": {},
     "output_type": "execute_result"
    }
   ],
   "source": [
    "train_df.CylindersinEngine.value_counts()"
   ]
  },
  {
   "cell_type": "markdown",
   "id": "58a18dc5-9904-465f-8c9b-7cb8e4f9c6da",
   "metadata": {},
   "source": [
    "- Для CylindersinEngine заменим на категорию с прочерком все цилиндры и значения которых мало меньше 86"
   ]
  },
  {
   "cell_type": "markdown",
   "id": "14eaae9e-679c-413b-9458-73bc0cf90de3",
   "metadata": {},
   "source": [
    "Получим второе значение из признака Engine"
   ]
  },
  {
   "cell_type": "code",
   "execution_count": 274,
   "id": "3bb89807-f43c-469d-96f3-75cd9278fe7d",
   "metadata": {},
   "outputs": [
    {
     "data": {
      "text/plain": [
       "<Axes: >"
      ]
     },
     "execution_count": 274,
     "metadata": {},
     "output_type": "execute_result"
    },
    {
     "data": {
      "image/png": "[encoded data removed]",
      "text/plain": [
       "<Figure size 640x480 with 1 Axes>"
      ]
     },
     "metadata": {},
     "output_type": "display_data"
    }
   ],
   "source": [
    "def extract_liters(value):\n",
    "    match = re.search(r'(\\d+\\.?\\d*) L', value)\n",
    "    return float(match.group(1)) if match else np.nan\n",
    "engine_vals = train_df.Engine.apply(extract_liters)\n",
    "engine_vals.hist(bins=30)"
   ]
  },
  {
   "cell_type": "code",
   "execution_count": 275,
   "id": "339f32eb-1cbb-494d-8beb-cdf16b29d60f",
   "metadata": {},
   "outputs": [
    {
     "data": {
      "text/plain": [
       "1320"
      ]
     },
     "execution_count": 275,
     "metadata": {},
     "output_type": "execute_result"
    }
   ],
   "source": [
    "engine_vals.isna().sum()"
   ]
  },
  {
   "cell_type": "code",
   "execution_count": 276,
   "id": "de8f2c29-7122-49df-83db-683260ce67eb",
   "metadata": {},
   "outputs": [
    {
     "data": {
      "text/plain": [
       "7594     NaN\n",
       "10634    1.5\n",
       "4411     2.2\n",
       "12403    NaN\n",
       "9982     2.0\n",
       "        ... \n",
       "11285    2.5\n",
       "11965    NaN\n",
       "5391     2.8\n",
       "860      2.0\n",
       "15796    NaN\n",
       "Name: Engine, Length: 13242, dtype: float64"
      ]
     },
     "execution_count": 276,
     "metadata": {},
     "output_type": "execute_result"
    }
   ],
   "source": [
    "engine_vals"
   ]
  },
  {
   "cell_type": "markdown",
   "id": "3f0d6270-cbc5-431c-8c6b-598b53e73942",
   "metadata": {},
   "source": [
    "Опять же отталкиваясь от категории, если электричка то 0, если гибрид медиана среди гибридов все остальное медиана среди омтальных категорий \n"
   ]
  },
  {
   "cell_type": "markdown",
   "id": "b439356a-19cf-40d4-bf50-b9c3cc72d8da",
   "metadata": {},
   "source": [
    "Рассмотрим DriveType"
   ]
  },
  {
   "cell_type": "code",
   "execution_count": 279,
   "id": "8f8e38b7-2b31-41c1-80db-27330b5b248c",
   "metadata": {},
   "outputs": [
    {
     "data": {
      "image/png": "[encoded data removed]",
      "text/plain": [
       "<Figure size 700x500 with 1 Axes>"
      ]
     },
     "metadata": {},
     "output_type": "display_data"
    }
   ],
   "source": [
    "plt.figure(figsize=(7,5))\n",
    "ax = sns.countplot(data=train_df, x='DriveType')\n",
    "for i in ax.containers:\n",
    "    ax.bar_label(i,)\n",
    "plt.show()"
   ]
  },
  {
   "cell_type": "markdown",
   "id": "325aca85-aa9d-4dfa-a89e-3c1ccf2364f7",
   "metadata": {},
   "source": [
    "Категориальная переменная без пропущенных и каких либо значений"
   ]
  },
  {
   "cell_type": "markdown",
   "id": "21f53dc7-db2e-4b74-81bb-22ef4f08a1b8",
   "metadata": {},
   "source": [
    "Рассмотрим переменную ColourExtInt\n",
    "Выберем первую часть цвета , несущую основную информацию"
   ]
  },
  {
   "cell_type": "code",
   "execution_count": 282,
   "id": "401f4693-a513-40b6-a00a-4c9f5bbd1578",
   "metadata": {},
   "outputs": [
    {
     "data": {
      "text/plain": [
       "ColourExtInt\n",
       "White        4765\n",
       "Silver       1830\n",
       "Grey         1820\n",
       "Black        1542\n",
       "Blue         1252\n",
       "Red           887\n",
       "-             310\n",
       "5 years       204\n",
       "Green         131\n",
       "Brown         113\n",
       "Gold          107\n",
       "Orange         85\n",
       "Yellow         64\n",
       "3 years        48\n",
       "6 years        22\n",
       "7 years        20\n",
       "4 years         8\n",
       "Beige           8\n",
       "Purple          8\n",
       "Burgundy        7\n",
       "Bronze          6\n",
       "1 years         2\n",
       "Pink            1\n",
       "Cream           1\n",
       "Turquoise       1\n",
       "Name: count, dtype: int64"
      ]
     },
     "execution_count": 282,
     "metadata": {},
     "output_type": "execute_result"
    }
   ],
   "source": [
    "train_df.ColourExtInt.apply(lambda x: x.split(' / ')[0]).value_counts()"
   ]
  },
  {
   "cell_type": "markdown",
   "id": "e8598920-a2c0-43ae-9a30-9bc4e5bc0933",
   "metadata": {},
   "source": [
    "Категории у которых указывается все что связано с годом (не понятно почему) надо соберем в одну категорию Other"
   ]
  },
  {
   "cell_type": "markdown",
   "id": "009ef86e-4d08-41a9-ae17-ad5bbb8d8949",
   "metadata": {},
   "source": [
    "Рассмотрим признак который характеризует полное название авто, он в себе содержит части из столбцов таблицы рассмотренных ранее проверим есть ли что то еще информативное в нем\n",
    "- Уберем первые три слова в описании - это в основном известная информация , посмотрим встречается лм еще что то часто похожее не признак, Обычно важна не только модель машины но и еще ее шильдик (sport,quattro)\n",
    "- посмотрим, что в основном выводится после как дополнительные указания к модели"
   ]
  },
  {
   "cell_type": "code",
   "execution_count": 285,
   "id": "a59aa954-4441-42cd-850b-3a8955fb9ab3",
   "metadata": {},
   "outputs": [
    {
     "data": {
      "text/plain": [
       "7594                          \n",
       "10634                     Maxx\n",
       "4411     XL 2.2 HI-Rider (4X2)\n",
       "12403     HIGH ROOF LONG WHEEL\n",
       "9982                    Active\n",
       "                 ...          \n",
       "11285            Luxury Hybrid\n",
       "11965                       MD\n",
       "5391                 PRO (4X4)\n",
       "860                        NEO\n",
       "15796                   G10+21\n",
       "Name: Title, Length: 13242, dtype: object"
      ]
     },
     "execution_count": 285,
     "metadata": {},
     "output_type": "execute_result"
    }
   ],
   "source": [
    "def remove_first_three_words(text):\n",
    "    return ' '.join(text.split()[3:]) if len(text.split()) > 3 else ''\n",
    "\n",
    "train_df['Title'].apply(remove_first_three_words)"
   ]
  },
  {
   "cell_type": "markdown",
   "id": "3e2a1fe6-a206-4249-94ad-9fbe6b32a296",
   "metadata": {},
   "source": [
    "Видны уже известные категории по типу привода авто (4x4) и тд, также надо удалить знаечния через точку и числа просто, они не информативные это может быть например литраж двигателя который есть в другой переменной"
   ]
  },
  {
   "cell_type": "code",
   "execution_count": 287,
   "id": "96427d47-a4e8-4608-a9d1-6f54f70fcbfd",
   "metadata": {},
   "outputs": [
    {
     "name": "stdout",
     "output_type": "stream",
     "text": [
      "Самые часто встречающиеся слова:\n",
      "Sport: 791\n",
      "S: 541\n",
      "Active: 454\n",
      "TSI: 425\n",
      "Hybrid: 363\n",
      "ST: 344\n",
      "Ascent: 330\n",
      "Seat: 276\n",
      "GXL: 275\n",
      "LS: 256\n",
      "GT: 241\n",
      "Tfsi: 225\n",
      "Premium: 218\n",
      "TDI: 217\n",
      "Quattro: 217\n"
     ]
    }
   ],
   "source": [
    "def remove_words_in_parentheses(text):\n",
    "    text = re.sub(r'\\([^)]*\\)', '', text)\n",
    "    text = re.sub(r'\\b\\d+\\.\\d+\\b', '', text)\n",
    "    text = re.sub(r'\\b\\d+', '', text)\n",
    "    return text\n",
    "\n",
    "\n",
    "temp = train_df['Title'].apply(remove_first_three_words)\n",
    "temp = temp.apply(remove_words_in_parentheses)\n",
    "\n",
    "all_words = ' '.join(temp).split()\n",
    "\n",
    "word_counts = Counter(all_words)\n",
    "\n",
    "top_words = word_counts.most_common(15)\n",
    "print(\"Самые часто встречающиеся слова:\")\n",
    "for word, count in top_words:\n",
    "    print(f\"{word}: {count}\")"
   ]
  },
  {
   "cell_type": "code",
   "execution_count": 288,
   "id": "23acaa0a-4a1c-42e2-99a6-e1ecaf074d4b",
   "metadata": {},
   "outputs": [
    {
     "data": {
      "text/plain": [
       "['Sport',\n",
       " 'S',\n",
       " 'Active',\n",
       " 'TSI',\n",
       " 'Hybrid',\n",
       " 'ST',\n",
       " 'Ascent',\n",
       " 'Seat',\n",
       " 'GXL',\n",
       " 'LS',\n",
       " 'GT',\n",
       " 'Tfsi',\n",
       " 'Premium',\n",
       " 'TDI',\n",
       " 'Quattro']"
      ]
     },
     "execution_count": 288,
     "metadata": {},
     "output_type": "execute_result"
    }
   ],
   "source": [
    "list(map(lambda x: x[0],top_words))"
   ]
  },
  {
   "cell_type": "markdown",
   "id": "ce50be32-7292-4943-9437-cacdf68482aa",
   "metadata": {},
   "source": [
    "будем использовать найденные катигории просто как дополнительные бинарные признаки (есть ли в строке Title (1) или нет(0))"
   ]
  },
  {
   "cell_type": "markdown",
   "id": "2edd711a-dee5-49a3-8111-91d71ef8214b",
   "metadata": {},
   "source": [
    "- Рассмотрим Location"
   ]
  },
  {
   "cell_type": "code",
   "execution_count": 291,
   "id": "f9eaf223-f4bd-4786-8b45-7b12dec3ef10",
   "metadata": {},
   "outputs": [
    {
     "data": {
      "text/plain": [
       "Location\n",
       "Minchinbury, NSW         426\n",
       "Blacktown, NSW           224\n",
       "Liverpool, NSW           212\n",
       "Hoppers Crossing, VIC    183\n",
       "Bentley, WA              170\n",
       "                        ... \n",
       "Wellington, NSW            1\n",
       "Coomera, QLD               1\n",
       "West Tamworth, NSW         1\n",
       "Collie, WA                 1\n",
       "Goodwood, SA               1\n",
       "Name: count, Length: 606, dtype: int64"
      ]
     },
     "execution_count": 291,
     "metadata": {},
     "output_type": "execute_result"
    }
   ],
   "source": [
    "train_df.Location.value_counts()"
   ]
  },
  {
   "cell_type": "code",
   "execution_count": 292,
   "id": "648f99eb-241e-49d1-9aea-d5faad8d0d67",
   "metadata": {},
   "outputs": [
    {
     "data": {
      "text/plain": [
       "Location\n",
       "NSW       6401\n",
       "VIC       3871\n",
       "QLD       2745\n",
       "WA        1791\n",
       "SA         800\n",
       "ACT        381\n",
       "TAS        214\n",
       "NT          80\n",
       "AU-VIC       1\n",
       "Name: count, dtype: int64"
      ]
     },
     "execution_count": 292,
     "metadata": {},
     "output_type": "execute_result"
    }
   ],
   "source": [
    "df['Location'].str.split(', ').str[1].value_counts()"
   ]
  },
  {
   "cell_type": "markdown",
   "id": "696ea2b0-6be1-41a1-bfa9-3edfe44c99b2",
   "metadata": {},
   "source": [
    "AU-VIC можно добавить к VIC"
   ]
  },
  {
   "cell_type": "code",
   "execution_count": 294,
   "id": "6025955f-9c69-4d66-8bae-dece312bd0c7",
   "metadata": {},
   "outputs": [
    {
     "data": {
      "text/plain": [
       "7594     NaN\n",
       "10634    4.9\n",
       "4411     7.5\n",
       "12403    NaN\n",
       "9982     7.4\n",
       "        ... \n",
       "11285    4.9\n",
       "11965    NaN\n",
       "5391     8.5\n",
       "860      5.8\n",
       "15796    NaN\n",
       "Name: FuelConsumption, Length: 13242, dtype: float64"
      ]
     },
     "execution_count": 294,
     "metadata": {},
     "output_type": "execute_result"
    }
   ],
   "source": [
    "train_df.FuelConsumption"
   ]
  },
  {
   "cell_type": "markdown",
   "id": "f54ec7f8-b2c6-45bf-9a60-2db045b3977d",
   "metadata": {},
   "source": [
    "- Рассмотрим Doors"
   ]
  },
  {
   "cell_type": "code",
   "execution_count": 296,
   "id": "6af606f6-9ee3-428b-b2e8-3e6976883113",
   "metadata": {},
   "outputs": [
    {
     "data": {
      "text/plain": [
       "1259"
      ]
     },
     "execution_count": 296,
     "metadata": {},
     "output_type": "execute_result"
    }
   ],
   "source": [
    "train_df.Doors.isna().sum()"
   ]
  },
  {
   "cell_type": "code",
   "execution_count": 297,
   "id": "c54f5f12-1999-446c-b027-928d8ba16e30",
   "metadata": {},
   "outputs": [
    {
     "data": {
      "text/plain": [
       "Doors\n",
       "4 Doors     8898\n",
       "5 Doors     2011\n",
       "2 Doors      843\n",
       "3 Doors      171\n",
       "5 Seats       19\n",
       "6 Seats        8\n",
       "2 Seats        8\n",
       "8 Seats        8\n",
       "7 Seats        5\n",
       "3 Seats        5\n",
       "9 Seats        4\n",
       "4 Seats        2\n",
       "12 Seats       1\n",
       "Name: count, dtype: int64"
      ]
     },
     "execution_count": 297,
     "metadata": {},
     "output_type": "execute_result"
    }
   ],
   "source": [
    "train_df.Doors.value_counts()"
   ]
  },
  {
   "cell_type": "markdown",
   "id": "b5cad410-c518-4b45-8a31-2f8332693158",
   "metadata": {},
   "source": [
    "Необходимо удалить ощиблчные значения и заменить их модой и nan значения "
   ]
  },
  {
   "cell_type": "code",
   "execution_count": 299,
   "id": "2bcef9b0-2c53-452f-bd03-dae4fb7b65df",
   "metadata": {},
   "outputs": [
    {
     "data": {
      "text/plain": [
       "Seats\n",
       "5 Seats     8998\n",
       "7 Seats     1424\n",
       "4 Seats      511\n",
       "2 Seats      452\n",
       "3 Seats      252\n",
       "8 Seats      226\n",
       "6 Seats       23\n",
       "14 Seats       8\n",
       "12 Seats       4\n",
       "11 Seats       3\n",
       "22 Seats       2\n",
       "9 Seats        2\n",
       "15 Seats       1\n",
       "Name: count, dtype: int64"
      ]
     },
     "execution_count": 299,
     "metadata": {},
     "output_type": "execute_result"
    }
   ],
   "source": [
    "train_df.Seats.value_counts()"
   ]
  },
  {
   "cell_type": "code",
   "execution_count": 300,
   "id": "feb827c9-3f2a-4f4c-958f-3228b541e8e6",
   "metadata": {},
   "outputs": [
    {
     "data": {
      "text/plain": [
       "1336"
      ]
     },
     "execution_count": 300,
     "metadata": {},
     "output_type": "execute_result"
    }
   ],
   "source": [
    "train_df.Seats.isna().sum()"
   ]
  },
  {
   "cell_type": "markdown",
   "id": "cc80a789-2f95-40d7-a14a-b7e77fd26fc7",
   "metadata": {},
   "source": [
    "сделаем категорию 9+ seats туда собрать все категории где сидений больше чем 9 включительно "
   ]
  },
  {
   "cell_type": "markdown",
   "id": "fca6fa7e-9156-46e6-91f8-1606830ace6d",
   "metadata": {},
   "source": [
    "Напишем свой класс наследник BaseEstimator и TransformerMixin который будет позволять обработать и трансформировать наши датасет"
   ]
  },
  {
   "cell_type": "code",
   "execution_count": 303,
   "id": "25a60e61-7f4e-4ac6-8572-10b2d4609229",
   "metadata": {},
   "outputs": [],
   "source": [
    "class PriceTransformer(BaseEstimator, TransformerMixin):\n",
    "    def __init__(self):\n",
    "        self.non_numeric_values = None\n",
    "    \n",
    "    def fit(self, X, y=None):\n",
    "        numeric_values = pd.to_numeric(X['Price'], errors='coerce')\n",
    "        non_numeric_mask = pd.isnull(numeric_values)\n",
    "        self.non_numeric_values = X['Price'][non_numeric_mask]\n",
    "        return self\n",
    "    \n",
    "    def transform(self, X, y=None,drop_outlers=True):\n",
    "        X_transformed = X.copy()\n",
    "        \n",
    "        if self.non_numeric_values is not None:\n",
    "            X_transformed = X_transformed[~X_transformed.index.isin(self.non_numeric_values.index)]\n",
    "        \n",
    "        X_transformed['Price'] = pd.to_numeric(X_transformed['Price'], errors='coerce')\n",
    "        if drop_outlers:\n",
    "            Q1 = X_transformed['Price'].quantile(0.15)\n",
    "            Q3 = X_transformed['Price'].quantile(0.85)\n",
    "            IQR = Q3 - Q1\n",
    "        \n",
    "            lower_bound = Q1 - 1.5 * IQR\n",
    "            upper_bound = Q3 + 1.5 * IQR\n",
    "        \n",
    "            X_transformed = X_transformed[(X_transformed['Price'] >= lower_bound) & (X_transformed['Price'] <= upper_bound)]    \n",
    "       \n",
    "        X_transformed = X_transformed[~X_transformed.Price.isnull()] \n",
    "        return X_transformed"
   ]
  },
  {
   "cell_type": "code",
   "execution_count": null,
   "id": "17655c35-9e54-4160-858b-8228a8d7548b",
   "metadata": {},
   "outputs": [],
   "source": []
  }
 ],
 "metadata": {
  "kernelspec": {
   "display_name": "Python 3 (ipykernel)",
   "language": "python",
   "name": "python3"
  },
  "language_info": {
   "codemirror_mode": {
    "name": "ipython",
    "version": 3
   },
   "file_extension": ".py",
   "mimetype": "text/x-python",
   "name": "python",
   "nbconvert_exporter": "python",
   "pygments_lexer": "ipython3",
   "version": "3.12.4"
  }
 },
 "nbformat": 4,
 "nbformat_minor": 5
}
