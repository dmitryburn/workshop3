{
 "cells": [
  {
   "cell_type": "code",
   "execution_count": 29,
   "id": "cc4091f7-79c6-4517-97f8-15f619318866",
   "metadata": {},
   "outputs": [],
   "source": [
    "import pandas as pd\n",
    "import numpy as np"
   ]
  },
  {
   "cell_type": "markdown",
   "id": "a4d633ff-a83d-45f0-9ccb-b5cb5db988d7",
   "metadata": {},
   "source": [
    "-\n",
    "- Year: Год выпуска или производства\r\n",
    "- Model: Название или код модели автомобиля\r\n",
    "- Car/Suv: Тип автомобиля (легковой автомобиль или внедорожник)\r\n",
    "- Title: Название или описание автомобиля\r\n",
    "- UsedOrNew: Состояние автомобиля (б/у или новый)\r\n",
    "- Transmission: Тип трансмиссии (механическая или автоматическая)\r\n",
    "- Engine: Объем двигателя или мощность (в литрах или киловаттах)\r\n",
    "- DriveType: Тип привода (передний, задний или полный)\r\n",
    "- FuelType: Тип топлива (бензин, дизель, гибрид или электричество)\r\n",
    "- FuelConsumption: Потребление топлива (в литрах на 100 км)\r\n",
    "- Kilometres: Пробег автомобиля (в километрах)\r\n",
    "- ColourExtInt: Цвет автомобиля (внешний и внутренний)\r\n",
    "- Location: Местонахождение автомобиля (город и штат)\r\n",
    "- CylindersinEngine: Количество цилиндров в двигателе\r\n",
    "- BodyType: Форма или стиль кузова автомобиля (седан, хэтчбек, купе и т.д.)\r\n",
    "- Doors: Количество дверей в автомобиле\r\n",
    "- Seats: Количество сидений в автомобиле"
   ]
  },
  {
   "cell_type": "code",
   "execution_count": 32,
   "id": "21b4b588-1a6c-48fd-87ca-6547736f2922",
   "metadata": {},
   "outputs": [],
   "source": [
    "DATA_PATH ='../dataset/Australian_Vehicle_Prices.csv'"
   ]
  },
  {
   "cell_type": "code",
   "execution_count": 34,
   "id": "279f7996-780a-42b9-9052-6510d2743603",
   "metadata": {},
   "outputs": [],
   "source": [
    "df = pd.read_csv(DATA_PATH)"
   ]
  },
  {
   "cell_type": "code",
   "execution_count": null,
   "id": "081d4836-faad-4483-8922-bd07d5295de5",
   "metadata": {},
   "outputs": [],
   "source": []
  }
 ],
 "metadata": {
  "kernelspec": {
   "display_name": "Python 3 (ipykernel)",
   "language": "python",
   "name": "python3"
  },
  "language_info": {
   "codemirror_mode": {
    "name": "ipython",
    "version": 3
   },
   "file_extension": ".py",
   "mimetype": "text/x-python",
   "name": "python",
   "nbconvert_exporter": "python",
   "pygments_lexer": "ipython3",
   "version": "3.12.4"
  }
 },
 "nbformat": 4,
 "nbformat_minor": 5
}
