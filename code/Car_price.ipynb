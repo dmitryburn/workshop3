{
 "cells": [
  {
   "cell_type": "code",
   "execution_count": 157,
   "id": "cc4091f7-79c6-4517-97f8-15f619318866",
   "metadata": {},
   "outputs": [],
   "source": [
    "import pandas as pd\n",
    "import numpy as np"
   ]
  },
  {
   "cell_type": "markdown",
   "id": "a4d633ff-a83d-45f0-9ccb-b5cb5db988d7",
   "metadata": {},
   "source": [
    "-\n",
    "- Year: Год выпуска или производства\r\n",
    "- Model: Название или код модели автомобиля\r\n",
    "- Car/Suv: Тип автомобиля (легковой автомобиль или внедорожник)\r\n",
    "- Title: Название или описание автомобиля\r\n",
    "- UsedOrNew: Состояние автомобиля (б/у или новый)\r\n",
    "- Transmission: Тип трансмиссии (механическая или автоматическая)\r\n",
    "- Engine: Объем двигателя или мощность (в литрах или киловаттах)\r\n",
    "- DriveType: Тип привода (передний, задний или полный)\r\n",
    "- FuelType: Тип топлива (бензин, дизель, гибрид или электричество)\r\n",
    "- FuelConsumption: Потребление топлива (в литрах на 100 км)\r\n",
    "- Kilometres: Пробег автомобиля (в километрах)\r\n",
    "- ColourExtInt: Цвет автомобиля (внешний и внутренний)\r\n",
    "- Location: Местонахождение автомобиля (город и штат)\r\n",
    "- CylindersinEngine: Количество цилиндров в двигателе\r\n",
    "- BodyType: Форма или стиль кузова автомобиля (седан, хэтчбек, купе и т.д.)\r\n",
    "- Doors: Количество дверей в автомобиле\r\n",
    "- Seats: Количество сидений в автомобиле"
   ]
  },
  {
   "cell_type": "code",
   "execution_count": 160,
   "id": "21b4b588-1a6c-48fd-87ca-6547736f2922",
   "metadata": {},
   "outputs": [],
   "source": [
    "DATA_PATH ='../dataset/Australian_Vehicle_Prices.csv'"
   ]
  },
  {
   "cell_type": "code",
   "execution_count": 162,
   "id": "7d41e39f-87b5-4b4f-bea0-b2f90f7f86a8",
   "metadata": {},
   "outputs": [],
   "source": [
    "df = pd.read_csv(DATA_PATH)"
   ]
  },
  {
   "cell_type": "code",
   "execution_count": 164,
   "id": "9c3426c5-cf31-4ba8-b7bd-3861a5fb9b0b",
   "metadata": {},
   "outputs": [
    {
     "data": {
      "text/html": [
       "<div>\n",
       "<style scoped>\n",
       "    .dataframe tbody tr th:only-of-type {\n",
       "        vertical-align: middle;\n",
       "    }\n",
       "\n",
       "    .dataframe tbody tr th {\n",
       "        vertical-align: top;\n",
       "    }\n",
       "\n",
       "    .dataframe thead th {\n",
       "        text-align: right;\n",
       "    }\n",
       "</style>\n",
       "<table border=\"1\" class=\"dataframe\">\n",
       "  <thead>\n",
       "    <tr style=\"text-align: right;\">\n",
       "      <th></th>\n",
       "      <th>Brand</th>\n",
       "      <th>Year</th>\n",
       "      <th>Model</th>\n",
       "      <th>Car/Suv</th>\n",
       "      <th>Title</th>\n",
       "      <th>UsedOrNew</th>\n",
       "      <th>Transmission</th>\n",
       "      <th>Engine</th>\n",
       "      <th>DriveType</th>\n",
       "      <th>FuelType</th>\n",
       "      <th>FuelConsumption</th>\n",
       "      <th>Kilometres</th>\n",
       "      <th>ColourExtInt</th>\n",
       "      <th>Location</th>\n",
       "      <th>CylindersinEngine</th>\n",
       "      <th>BodyType</th>\n",
       "      <th>Doors</th>\n",
       "      <th>Seats</th>\n",
       "      <th>Price</th>\n",
       "    </tr>\n",
       "  </thead>\n",
       "  <tbody>\n",
       "    <tr>\n",
       "      <th>0</th>\n",
       "      <td>Ssangyong</td>\n",
       "      <td>2022.0</td>\n",
       "      <td>Rexton</td>\n",
       "      <td>Sutherland Isuzu Ute</td>\n",
       "      <td>2022 Ssangyong Rexton Ultimate (awd)</td>\n",
       "      <td>DEMO</td>\n",
       "      <td>Automatic</td>\n",
       "      <td>4 cyl, 2.2 L</td>\n",
       "      <td>AWD</td>\n",
       "      <td>Diesel</td>\n",
       "      <td>8.7 L / 100 km</td>\n",
       "      <td>5595</td>\n",
       "      <td>White / Black</td>\n",
       "      <td>Caringbah, NSW</td>\n",
       "      <td>4 cyl</td>\n",
       "      <td>SUV</td>\n",
       "      <td>4 Doors</td>\n",
       "      <td>7 Seats</td>\n",
       "      <td>51990</td>\n",
       "    </tr>\n",
       "    <tr>\n",
       "      <th>1</th>\n",
       "      <td>MG</td>\n",
       "      <td>2022.0</td>\n",
       "      <td>MG3</td>\n",
       "      <td>Hatchback</td>\n",
       "      <td>2022 MG MG3 Auto Excite (with Navigation)</td>\n",
       "      <td>USED</td>\n",
       "      <td>Automatic</td>\n",
       "      <td>4 cyl, 1.5 L</td>\n",
       "      <td>Front</td>\n",
       "      <td>Premium</td>\n",
       "      <td>6.7 L / 100 km</td>\n",
       "      <td>16</td>\n",
       "      <td>Black / Black</td>\n",
       "      <td>Brookvale, NSW</td>\n",
       "      <td>4 cyl</td>\n",
       "      <td>Hatchback</td>\n",
       "      <td>5 Doors</td>\n",
       "      <td>5 Seats</td>\n",
       "      <td>19990</td>\n",
       "    </tr>\n",
       "    <tr>\n",
       "      <th>2</th>\n",
       "      <td>BMW</td>\n",
       "      <td>2022.0</td>\n",
       "      <td>430I</td>\n",
       "      <td>Coupe</td>\n",
       "      <td>2022 BMW 430I M Sport</td>\n",
       "      <td>USED</td>\n",
       "      <td>Automatic</td>\n",
       "      <td>4 cyl, 2 L</td>\n",
       "      <td>Rear</td>\n",
       "      <td>Premium</td>\n",
       "      <td>6.6 L / 100 km</td>\n",
       "      <td>8472</td>\n",
       "      <td>Grey / White</td>\n",
       "      <td>Sylvania, NSW</td>\n",
       "      <td>4 cyl</td>\n",
       "      <td>Coupe</td>\n",
       "      <td>2 Doors</td>\n",
       "      <td>4 Seats</td>\n",
       "      <td>108988</td>\n",
       "    </tr>\n",
       "    <tr>\n",
       "      <th>3</th>\n",
       "      <td>Mercedes-Benz</td>\n",
       "      <td>2011.0</td>\n",
       "      <td>E500</td>\n",
       "      <td>Coupe</td>\n",
       "      <td>2011 Mercedes-Benz E500 Elegance</td>\n",
       "      <td>USED</td>\n",
       "      <td>Automatic</td>\n",
       "      <td>8 cyl, 5.5 L</td>\n",
       "      <td>Rear</td>\n",
       "      <td>Premium</td>\n",
       "      <td>11 L / 100 km</td>\n",
       "      <td>136517</td>\n",
       "      <td>White / Brown</td>\n",
       "      <td>Mount Druitt, NSW</td>\n",
       "      <td>8 cyl</td>\n",
       "      <td>Coupe</td>\n",
       "      <td>2 Doors</td>\n",
       "      <td>4 Seats</td>\n",
       "      <td>32990</td>\n",
       "    </tr>\n",
       "    <tr>\n",
       "      <th>4</th>\n",
       "      <td>Renault</td>\n",
       "      <td>2022.0</td>\n",
       "      <td>Arkana</td>\n",
       "      <td>SUV</td>\n",
       "      <td>2022 Renault Arkana Intens</td>\n",
       "      <td>USED</td>\n",
       "      <td>Automatic</td>\n",
       "      <td>4 cyl, 1.3 L</td>\n",
       "      <td>Front</td>\n",
       "      <td>Unleaded</td>\n",
       "      <td>6 L / 100 km</td>\n",
       "      <td>1035</td>\n",
       "      <td>Grey / Black</td>\n",
       "      <td>Castle Hill, NSW</td>\n",
       "      <td>4 cyl</td>\n",
       "      <td>SUV</td>\n",
       "      <td>4 Doors</td>\n",
       "      <td>5 Seats</td>\n",
       "      <td>34990</td>\n",
       "    </tr>\n",
       "  </tbody>\n",
       "</table>\n",
       "</div>"
      ],
      "text/plain": [
       "           Brand    Year   Model               Car/Suv  \\\n",
       "0      Ssangyong  2022.0  Rexton  Sutherland Isuzu Ute   \n",
       "1             MG  2022.0     MG3             Hatchback   \n",
       "2            BMW  2022.0    430I                 Coupe   \n",
       "3  Mercedes-Benz  2011.0    E500                 Coupe   \n",
       "4        Renault  2022.0  Arkana                   SUV   \n",
       "\n",
       "                                       Title UsedOrNew Transmission  \\\n",
       "0       2022 Ssangyong Rexton Ultimate (awd)      DEMO    Automatic   \n",
       "1  2022 MG MG3 Auto Excite (with Navigation)      USED    Automatic   \n",
       "2                      2022 BMW 430I M Sport      USED    Automatic   \n",
       "3           2011 Mercedes-Benz E500 Elegance      USED    Automatic   \n",
       "4                 2022 Renault Arkana Intens      USED    Automatic   \n",
       "\n",
       "         Engine DriveType  FuelType FuelConsumption Kilometres   ColourExtInt  \\\n",
       "0  4 cyl, 2.2 L       AWD    Diesel  8.7 L / 100 km       5595  White / Black   \n",
       "1  4 cyl, 1.5 L     Front   Premium  6.7 L / 100 km         16  Black / Black   \n",
       "2    4 cyl, 2 L      Rear   Premium  6.6 L / 100 km       8472   Grey / White   \n",
       "3  8 cyl, 5.5 L      Rear   Premium   11 L / 100 km     136517  White / Brown   \n",
       "4  4 cyl, 1.3 L     Front  Unleaded    6 L / 100 km       1035   Grey / Black   \n",
       "\n",
       "            Location CylindersinEngine   BodyType     Doors     Seats   Price  \n",
       "0     Caringbah, NSW             4 cyl        SUV   4 Doors   7 Seats   51990  \n",
       "1     Brookvale, NSW             4 cyl  Hatchback   5 Doors   5 Seats   19990  \n",
       "2      Sylvania, NSW             4 cyl      Coupe   2 Doors   4 Seats  108988  \n",
       "3  Mount Druitt, NSW             8 cyl      Coupe   2 Doors   4 Seats   32990  \n",
       "4   Castle Hill, NSW             4 cyl        SUV   4 Doors   5 Seats   34990  "
      ]
     },
     "execution_count": 164,
     "metadata": {},
     "output_type": "execute_result"
    }
   ],
   "source": [
    "df.head()"
   ]
  },
  {
   "cell_type": "markdown",
   "id": "c5c335f1-79d8-4a2b-9acc-a72a7c61136e",
   "metadata": {},
   "source": [
    "Посмотрю сначала на то, какой размерности датасет, есть ли пропущенные значения в нем"
   ]
  },
  {
   "cell_type": "code",
   "execution_count": 167,
   "id": "12fe2522-d0d0-4e2c-85d0-dd4bba23f473",
   "metadata": {},
   "outputs": [
    {
     "data": {
      "text/plain": [
       "(16734, 19)"
      ]
     },
     "execution_count": 167,
     "metadata": {},
     "output_type": "execute_result"
    }
   ],
   "source": [
    "df.shape"
   ]
  },
  {
   "cell_type": "code",
   "execution_count": 169,
   "id": "d46423a6-91e6-4e42-9e3d-f644adef3c38",
   "metadata": {},
   "outputs": [
    {
     "name": "stdout",
     "output_type": "stream",
     "text": [
      "<class 'pandas.core.frame.DataFrame'>\n",
      "RangeIndex: 16734 entries, 0 to 16733\n",
      "Data columns (total 19 columns):\n",
      " #   Column             Non-Null Count  Dtype  \n",
      "---  ------             --------------  -----  \n",
      " 0   Brand              16733 non-null  object \n",
      " 1   Year               16733 non-null  float64\n",
      " 2   Model              16733 non-null  object \n",
      " 3   Car/Suv            16706 non-null  object \n",
      " 4   Title              16733 non-null  object \n",
      " 5   UsedOrNew          16733 non-null  object \n",
      " 6   Transmission       16733 non-null  object \n",
      " 7   Engine             16733 non-null  object \n",
      " 8   DriveType          16733 non-null  object \n",
      " 9   FuelType           16733 non-null  object \n",
      " 10  FuelConsumption    16733 non-null  object \n",
      " 11  Kilometres         16733 non-null  object \n",
      " 12  ColourExtInt       16733 non-null  object \n",
      " 13  Location           16284 non-null  object \n",
      " 14  CylindersinEngine  16733 non-null  object \n",
      " 15  BodyType           16452 non-null  object \n",
      " 16  Doors              15130 non-null  object \n",
      " 17  Seats              15029 non-null  object \n",
      " 18  Price              16731 non-null  object \n",
      "dtypes: float64(1), object(18)\n",
      "memory usage: 2.4+ MB\n"
     ]
    }
   ],
   "source": [
    "df.info()"
   ]
  },
  {
   "cell_type": "markdown",
   "id": "0e7121f4-2bd1-459f-b746-b2a171b710ce",
   "metadata": {},
   "source": [
    "Видно, что все признаки кроме одного числового - категориалные "
   ]
  },
  {
   "cell_type": "markdown",
   "id": "b790ad07-d0b8-4da5-a6ba-0793309afcf7",
   "metadata": {},
   "source": [
    "Рассмторим есть ли пропущенные значения в датасете "
   ]
  },
  {
   "cell_type": "code",
   "execution_count": 173,
   "id": "081d4836-faad-4483-8922-bd07d5295de5",
   "metadata": {},
   "outputs": [
    {
     "data": {
      "text/html": [
       "<div>\n",
       "<style scoped>\n",
       "    .dataframe tbody tr th:only-of-type {\n",
       "        vertical-align: middle;\n",
       "    }\n",
       "\n",
       "    .dataframe tbody tr th {\n",
       "        vertical-align: top;\n",
       "    }\n",
       "\n",
       "    .dataframe thead th {\n",
       "        text-align: right;\n",
       "    }\n",
       "</style>\n",
       "<table border=\"1\" class=\"dataframe\">\n",
       "  <thead>\n",
       "    <tr style=\"text-align: right;\">\n",
       "      <th></th>\n",
       "      <th>Количество пропущенных значений</th>\n",
       "      <th>Процент от общего числа строк (%)</th>\n",
       "    </tr>\n",
       "  </thead>\n",
       "  <tbody>\n",
       "    <tr>\n",
       "      <th>Brand</th>\n",
       "      <td>1</td>\n",
       "      <td>0.005976</td>\n",
       "    </tr>\n",
       "    <tr>\n",
       "      <th>Year</th>\n",
       "      <td>1</td>\n",
       "      <td>0.005976</td>\n",
       "    </tr>\n",
       "    <tr>\n",
       "      <th>Model</th>\n",
       "      <td>1</td>\n",
       "      <td>0.005976</td>\n",
       "    </tr>\n",
       "    <tr>\n",
       "      <th>Car/Suv</th>\n",
       "      <td>28</td>\n",
       "      <td>0.167324</td>\n",
       "    </tr>\n",
       "    <tr>\n",
       "      <th>Title</th>\n",
       "      <td>1</td>\n",
       "      <td>0.005976</td>\n",
       "    </tr>\n",
       "    <tr>\n",
       "      <th>UsedOrNew</th>\n",
       "      <td>1</td>\n",
       "      <td>0.005976</td>\n",
       "    </tr>\n",
       "    <tr>\n",
       "      <th>Transmission</th>\n",
       "      <td>1</td>\n",
       "      <td>0.005976</td>\n",
       "    </tr>\n",
       "    <tr>\n",
       "      <th>Engine</th>\n",
       "      <td>1</td>\n",
       "      <td>0.005976</td>\n",
       "    </tr>\n",
       "    <tr>\n",
       "      <th>DriveType</th>\n",
       "      <td>1</td>\n",
       "      <td>0.005976</td>\n",
       "    </tr>\n",
       "    <tr>\n",
       "      <th>FuelType</th>\n",
       "      <td>1</td>\n",
       "      <td>0.005976</td>\n",
       "    </tr>\n",
       "    <tr>\n",
       "      <th>FuelConsumption</th>\n",
       "      <td>1</td>\n",
       "      <td>0.005976</td>\n",
       "    </tr>\n",
       "    <tr>\n",
       "      <th>Kilometres</th>\n",
       "      <td>1</td>\n",
       "      <td>0.005976</td>\n",
       "    </tr>\n",
       "    <tr>\n",
       "      <th>ColourExtInt</th>\n",
       "      <td>1</td>\n",
       "      <td>0.005976</td>\n",
       "    </tr>\n",
       "    <tr>\n",
       "      <th>Location</th>\n",
       "      <td>450</td>\n",
       "      <td>2.689136</td>\n",
       "    </tr>\n",
       "    <tr>\n",
       "      <th>CylindersinEngine</th>\n",
       "      <td>1</td>\n",
       "      <td>0.005976</td>\n",
       "    </tr>\n",
       "    <tr>\n",
       "      <th>BodyType</th>\n",
       "      <td>282</td>\n",
       "      <td>1.685192</td>\n",
       "    </tr>\n",
       "    <tr>\n",
       "      <th>Doors</th>\n",
       "      <td>1604</td>\n",
       "      <td>9.585275</td>\n",
       "    </tr>\n",
       "    <tr>\n",
       "      <th>Seats</th>\n",
       "      <td>1705</td>\n",
       "      <td>10.188837</td>\n",
       "    </tr>\n",
       "    <tr>\n",
       "      <th>Price</th>\n",
       "      <td>3</td>\n",
       "      <td>0.017928</td>\n",
       "    </tr>\n",
       "  </tbody>\n",
       "</table>\n",
       "</div>"
      ],
      "text/plain": [
       "                   Количество пропущенных значений  \\\n",
       "Brand                                            1   \n",
       "Year                                             1   \n",
       "Model                                            1   \n",
       "Car/Suv                                         28   \n",
       "Title                                            1   \n",
       "UsedOrNew                                        1   \n",
       "Transmission                                     1   \n",
       "Engine                                           1   \n",
       "DriveType                                        1   \n",
       "FuelType                                         1   \n",
       "FuelConsumption                                  1   \n",
       "Kilometres                                       1   \n",
       "ColourExtInt                                     1   \n",
       "Location                                       450   \n",
       "CylindersinEngine                                1   \n",
       "BodyType                                       282   \n",
       "Doors                                         1604   \n",
       "Seats                                         1705   \n",
       "Price                                            3   \n",
       "\n",
       "                   Процент от общего числа строк (%)  \n",
       "Brand                                       0.005976  \n",
       "Year                                        0.005976  \n",
       "Model                                       0.005976  \n",
       "Car/Suv                                     0.167324  \n",
       "Title                                       0.005976  \n",
       "UsedOrNew                                   0.005976  \n",
       "Transmission                                0.005976  \n",
       "Engine                                      0.005976  \n",
       "DriveType                                   0.005976  \n",
       "FuelType                                    0.005976  \n",
       "FuelConsumption                             0.005976  \n",
       "Kilometres                                  0.005976  \n",
       "ColourExtInt                                0.005976  \n",
       "Location                                    2.689136  \n",
       "CylindersinEngine                           0.005976  \n",
       "BodyType                                    1.685192  \n",
       "Doors                                       9.585275  \n",
       "Seats                                      10.188837  \n",
       "Price                                       0.017928  "
      ]
     },
     "execution_count": 173,
     "metadata": {},
     "output_type": "execute_result"
    }
   ],
   "source": [
    "pd.DataFrame(zip(df.isna().sum(),100 * (df.isna().sum()/df.shape[0])),columns=['Количество пропущенных значений','Процент от общего числа строк (%)'], index=df.columns)"
   ]
  },
  {
   "cell_type": "markdown",
   "id": "953f3555-5c1d-46f0-87fa-9e9246958342",
   "metadata": {},
   "source": [
    "- Видно, что в каждый из признаков исходного датасета содержит пропущенные значения\n",
    "- Можно выделить признаки Doors, Seats как те, которые содержат большое количество пропущенных значений (около 10 процентов от датасета)"
   ]
  },
  {
   "cell_type": "markdown",
   "id": "d3547e7a-2b69-4f03-8f1d-42c80edd1e44",
   "metadata": {},
   "source": [
    "Посмотрю теперь сумму пропущенных значений по строкам датасета "
   ]
  },
  {
   "cell_type": "code",
   "execution_count": 177,
   "id": "279faf02-0f49-4190-8078-862afe2a7200",
   "metadata": {},
   "outputs": [
    {
     "data": {
      "text/plain": [
       "2391     19\n",
       "15802     4\n",
       "15357     4\n",
       "15351     4\n",
       "15343     4\n",
       "         ..\n",
       "5905      0\n",
       "5906      0\n",
       "5907      0\n",
       "5908      0\n",
       "16733     0\n",
       "Length: 16734, dtype: int64"
      ]
     },
     "execution_count": 177,
     "metadata": {},
     "output_type": "execute_result"
    }
   ],
   "source": [
    "missing_counts = df.isna().sum(axis=1)\n",
    "missing_counts.sort_values(ascending=False)"
   ]
  },
  {
   "cell_type": "markdown",
   "id": "31ba7fa8-4249-4184-a0b8-e97d3dde10d5",
   "metadata": {},
   "source": [
    "- Вижу, что есть строка у которой пропущеннs все значения \n",
    "- Ее можно удалить , с остальными пропущенными значениями разбираться отдельно"
   ]
  },
  {
   "cell_type": "code",
   "execution_count": 180,
   "id": "9ca693b8-4179-4984-88cb-8768a1b702bc",
   "metadata": {},
   "outputs": [
    {
     "data": {
      "text/plain": [
       "Brand                NaN\n",
       "Year                 NaN\n",
       "Model                NaN\n",
       "Car/Suv              NaN\n",
       "Title                NaN\n",
       "UsedOrNew            NaN\n",
       "Transmission         NaN\n",
       "Engine               NaN\n",
       "DriveType            NaN\n",
       "FuelType             NaN\n",
       "FuelConsumption      NaN\n",
       "Kilometres           NaN\n",
       "ColourExtInt         NaN\n",
       "Location             NaN\n",
       "CylindersinEngine    NaN\n",
       "BodyType             NaN\n",
       "Doors                NaN\n",
       "Seats                NaN\n",
       "Price                NaN\n",
       "Name: 2391, dtype: object"
      ]
     },
     "execution_count": 180,
     "metadata": {},
     "output_type": "execute_result"
    }
   ],
   "source": [
    "df.iloc[2391]"
   ]
  },
  {
   "cell_type": "code",
   "execution_count": 182,
   "id": "ec179d20-5393-41f4-b260-57ee8d3cea06",
   "metadata": {},
   "outputs": [],
   "source": [
    "df = df.drop(2391)"
   ]
  },
  {
   "cell_type": "markdown",
   "id": "8aa4852a-a360-4e67-8c4d-6b3d7364e39f",
   "metadata": {},
   "source": [
    "Количество строк в датасете которые содержат хотя бы одно пропущенное значение"
   ]
  },
  {
   "cell_type": "code",
   "execution_count": 186,
   "id": "107be988-d527-404a-81f2-9c282fa2a1f3",
   "metadata": {},
   "outputs": [
    {
     "data": {
      "text/plain": [
       "2147"
      ]
     },
     "execution_count": 186,
     "metadata": {},
     "output_type": "execute_result"
    }
   ],
   "source": [
    "df[df.isna().sum(axis=1) > 0].shape[0]"
   ]
  },
  {
   "cell_type": "code",
   "execution_count": null,
   "id": "50fcd9cb-6d2d-454a-a38f-828df471998c",
   "metadata": {},
   "outputs": [],
   "source": []
  }
 ],
 "metadata": {
  "kernelspec": {
   "display_name": "Python 3 (ipykernel)",
   "language": "python",
   "name": "python3"
  },
  "language_info": {
   "codemirror_mode": {
    "name": "ipython",
    "version": 3
   },
   "file_extension": ".py",
   "mimetype": "text/x-python",
   "name": "python",
   "nbconvert_exporter": "python",
   "pygments_lexer": "ipython3",
   "version": "3.12.4"
  }
 },
 "nbformat": 4,
 "nbformat_minor": 5
}
