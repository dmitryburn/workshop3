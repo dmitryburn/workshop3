{
 "cells": [
  {
   "cell_type": "code",
   "execution_count": 2,
   "id": "cc4091f7-79c6-4517-97f8-15f619318866",
   "metadata": {
    "id": "cc4091f7-79c6-4517-97f8-15f619318866"
   },
   "outputs": [],
   "source": [
    "import pandas as pd\n",
    "import numpy as np\n",
    "import seaborn as sns\n",
    "import re\n",
    "import sys\n",
    "import datetime\n",
    "import matplotlib.pyplot as plt\n",
    "\n",
    "from sklearn.model_selection import train_test_split\n",
    "from sklearn.preprocessing import StandardScaler\n",
    "from sklearn.model_selection import GridSearchCV\n",
    "from sklearn.pipeline import Pipeline\n",
    "from sklearn.preprocessing import OneHotEncoder\n",
    "from sklearn.preprocessing import LabelEncoder\n",
    "from sklearn.compose import ColumnTransformer\n",
    "from sklearn.base import BaseEstimator, TransformerMixin\n",
    "from sklearn.model_selection import RandomizedSearchCV\n",
    "from sklearn.metrics import mean_squared_error, r2_score,mean_absolute_error\n",
    "from sklearn.ensemble import StackingRegressor\n",
    "from sklearn.ensemble import RandomForestRegressor\n",
    "\n",
    "from collections import Counter\n",
    "\n",
    "from scipy.stats import randint\n",
    "from scipy.stats import randint\n",
    "\n",
    "from catboost import CatBoostRegressor\n",
    "from lightgbm import LGBMRegressor\n",
    "from xgboost import XGBRegressor"
   ]
  },
  {
   "cell_type": "code",
   "execution_count": 3,
   "id": "e4aaaa05-b214-4bc7-ac80-b17755c72d13",
   "metadata": {},
   "outputs": [],
   "source": [
    "from price_transformer import PriceTransformer\n",
    "from data_transformer import BaseDataTransformer\n",
    "from feature_selection import GreedyFeatureSelection"
   ]
  },
  {
   "cell_type": "markdown",
   "id": "a4d633ff-a83d-45f0-9ccb-b5cb5db988d7",
   "metadata": {
    "id": "a4d633ff-a83d-45f0-9ccb-b5cb5db988d7"
   },
   "source": [
    "-\n",
    "- Year: Год выпуска или производства\n",
    "- Model: Название или код модели автомобиля\n",
    "- Car/Suv: Тип автомобиля (легковой автомобиль или внедорожник)\n",
    "- Title: Название или описание автомобиля\n",
    "- UsedOrNew: Состояние автомобиля (б/у или новый)\n",
    "- Transmission: Тип трансмиссии (механическая или автоматическая)\n",
    "- Engine: Объем двигателя или мощность (в литрах или киловаттах)\n",
    "- DriveType: Тип привода (передний, задний или полный)\n",
    "- FuelType: Тип топлива (бензин, дизель, гибрид или электричество)\n",
    "- FuelConsumption: Потребление топлива (в литрах на 100 км)\n",
    "- Kilometres: Пробег автомобиля (в километрах)\n",
    "- ColourExtInt: Цвет автомобиля (внешний и внутренний)\n",
    "- Location: Местонахождение автомобиля (город и штат)\n",
    "- CylindersinEngine: Количество цилиндров в двигателе\n",
    "- BodyType: Форма или стиль кузова автомобиля (седан, хэтчбек, купе и т.д.)\n",
    "- Doors: Количество дверей в автомобиле\n",
    "- Seats: Количество сидений в автомобиле"
   ]
  },
  {
   "cell_type": "code",
   "execution_count": 5,
   "id": "21b4b588-1a6c-48fd-87ca-6547736f2922",
   "metadata": {
    "id": "21b4b588-1a6c-48fd-87ca-6547736f2922"
   },
   "outputs": [],
   "source": [
    "DATA_PATH ='../dataset/Australian_Vehicle_Prices.csv'"
   ]
  },
  {
   "cell_type": "code",
   "execution_count": 6,
   "id": "7d41e39f-87b5-4b4f-bea0-b2f90f7f86a8",
   "metadata": {
    "id": "7d41e39f-87b5-4b4f-bea0-b2f90f7f86a8"
   },
   "outputs": [],
   "source": [
    "df = pd.read_csv(DATA_PATH)"
   ]
  },
  {
   "cell_type": "code",
   "execution_count": 7,
   "id": "9c3426c5-cf31-4ba8-b7bd-3861a5fb9b0b",
   "metadata": {
    "colab": {
     "base_uri": "https://localhost:8080/",
     "height": 504
    },
    "id": "9c3426c5-cf31-4ba8-b7bd-3861a5fb9b0b",
    "outputId": "60eae70e-7d4b-45db-c34d-c6972ed88db2"
   },
   "outputs": [
    {
     "data": {
      "text/html": [
       "<div>\n",
       "<style scoped>\n",
       "    .dataframe tbody tr th:only-of-type {\n",
       "        vertical-align: middle;\n",
       "    }\n",
       "\n",
       "    .dataframe tbody tr th {\n",
       "        vertical-align: top;\n",
       "    }\n",
       "\n",
       "    .dataframe thead th {\n",
       "        text-align: right;\n",
       "    }\n",
       "</style>\n",
       "<table border=\"1\" class=\"dataframe\">\n",
       "  <thead>\n",
       "    <tr style=\"text-align: right;\">\n",
       "      <th></th>\n",
       "      <th>Brand</th>\n",
       "      <th>Year</th>\n",
       "      <th>Model</th>\n",
       "      <th>Car/Suv</th>\n",
       "      <th>Title</th>\n",
       "      <th>UsedOrNew</th>\n",
       "      <th>Transmission</th>\n",
       "      <th>Engine</th>\n",
       "      <th>DriveType</th>\n",
       "      <th>FuelType</th>\n",
       "      <th>FuelConsumption</th>\n",
       "      <th>Kilometres</th>\n",
       "      <th>ColourExtInt</th>\n",
       "      <th>Location</th>\n",
       "      <th>CylindersinEngine</th>\n",
       "      <th>BodyType</th>\n",
       "      <th>Doors</th>\n",
       "      <th>Seats</th>\n",
       "      <th>Price</th>\n",
       "    </tr>\n",
       "  </thead>\n",
       "  <tbody>\n",
       "    <tr>\n",
       "      <th>0</th>\n",
       "      <td>Ssangyong</td>\n",
       "      <td>2022.0</td>\n",
       "      <td>Rexton</td>\n",
       "      <td>Sutherland Isuzu Ute</td>\n",
       "      <td>2022 Ssangyong Rexton Ultimate (awd)</td>\n",
       "      <td>DEMO</td>\n",
       "      <td>Automatic</td>\n",
       "      <td>4 cyl, 2.2 L</td>\n",
       "      <td>AWD</td>\n",
       "      <td>Diesel</td>\n",
       "      <td>8.7 L / 100 km</td>\n",
       "      <td>5595</td>\n",
       "      <td>White / Black</td>\n",
       "      <td>Caringbah, NSW</td>\n",
       "      <td>4 cyl</td>\n",
       "      <td>SUV</td>\n",
       "      <td>4 Doors</td>\n",
       "      <td>7 Seats</td>\n",
       "      <td>51990</td>\n",
       "    </tr>\n",
       "    <tr>\n",
       "      <th>1</th>\n",
       "      <td>MG</td>\n",
       "      <td>2022.0</td>\n",
       "      <td>MG3</td>\n",
       "      <td>Hatchback</td>\n",
       "      <td>2022 MG MG3 Auto Excite (with Navigation)</td>\n",
       "      <td>USED</td>\n",
       "      <td>Automatic</td>\n",
       "      <td>4 cyl, 1.5 L</td>\n",
       "      <td>Front</td>\n",
       "      <td>Premium</td>\n",
       "      <td>6.7 L / 100 km</td>\n",
       "      <td>16</td>\n",
       "      <td>Black / Black</td>\n",
       "      <td>Brookvale, NSW</td>\n",
       "      <td>4 cyl</td>\n",
       "      <td>Hatchback</td>\n",
       "      <td>5 Doors</td>\n",
       "      <td>5 Seats</td>\n",
       "      <td>19990</td>\n",
       "    </tr>\n",
       "    <tr>\n",
       "      <th>2</th>\n",
       "      <td>BMW</td>\n",
       "      <td>2022.0</td>\n",
       "      <td>430I</td>\n",
       "      <td>Coupe</td>\n",
       "      <td>2022 BMW 430I M Sport</td>\n",
       "      <td>USED</td>\n",
       "      <td>Automatic</td>\n",
       "      <td>4 cyl, 2 L</td>\n",
       "      <td>Rear</td>\n",
       "      <td>Premium</td>\n",
       "      <td>6.6 L / 100 km</td>\n",
       "      <td>8472</td>\n",
       "      <td>Grey / White</td>\n",
       "      <td>Sylvania, NSW</td>\n",
       "      <td>4 cyl</td>\n",
       "      <td>Coupe</td>\n",
       "      <td>2 Doors</td>\n",
       "      <td>4 Seats</td>\n",
       "      <td>108988</td>\n",
       "    </tr>\n",
       "    <tr>\n",
       "      <th>3</th>\n",
       "      <td>Mercedes-Benz</td>\n",
       "      <td>2011.0</td>\n",
       "      <td>E500</td>\n",
       "      <td>Coupe</td>\n",
       "      <td>2011 Mercedes-Benz E500 Elegance</td>\n",
       "      <td>USED</td>\n",
       "      <td>Automatic</td>\n",
       "      <td>8 cyl, 5.5 L</td>\n",
       "      <td>Rear</td>\n",
       "      <td>Premium</td>\n",
       "      <td>11 L / 100 km</td>\n",
       "      <td>136517</td>\n",
       "      <td>White / Brown</td>\n",
       "      <td>Mount Druitt, NSW</td>\n",
       "      <td>8 cyl</td>\n",
       "      <td>Coupe</td>\n",
       "      <td>2 Doors</td>\n",
       "      <td>4 Seats</td>\n",
       "      <td>32990</td>\n",
       "    </tr>\n",
       "    <tr>\n",
       "      <th>4</th>\n",
       "      <td>Renault</td>\n",
       "      <td>2022.0</td>\n",
       "      <td>Arkana</td>\n",
       "      <td>SUV</td>\n",
       "      <td>2022 Renault Arkana Intens</td>\n",
       "      <td>USED</td>\n",
       "      <td>Automatic</td>\n",
       "      <td>4 cyl, 1.3 L</td>\n",
       "      <td>Front</td>\n",
       "      <td>Unleaded</td>\n",
       "      <td>6 L / 100 km</td>\n",
       "      <td>1035</td>\n",
       "      <td>Grey / Black</td>\n",
       "      <td>Castle Hill, NSW</td>\n",
       "      <td>4 cyl</td>\n",
       "      <td>SUV</td>\n",
       "      <td>4 Doors</td>\n",
       "      <td>5 Seats</td>\n",
       "      <td>34990</td>\n",
       "    </tr>\n",
       "  </tbody>\n",
       "</table>\n",
       "</div>"
      ],
      "text/plain": [
       "           Brand    Year   Model               Car/Suv  \\\n",
       "0      Ssangyong  2022.0  Rexton  Sutherland Isuzu Ute   \n",
       "1             MG  2022.0     MG3             Hatchback   \n",
       "2            BMW  2022.0    430I                 Coupe   \n",
       "3  Mercedes-Benz  2011.0    E500                 Coupe   \n",
       "4        Renault  2022.0  Arkana                   SUV   \n",
       "\n",
       "                                       Title UsedOrNew Transmission  \\\n",
       "0       2022 Ssangyong Rexton Ultimate (awd)      DEMO    Automatic   \n",
       "1  2022 MG MG3 Auto Excite (with Navigation)      USED    Automatic   \n",
       "2                      2022 BMW 430I M Sport      USED    Automatic   \n",
       "3           2011 Mercedes-Benz E500 Elegance      USED    Automatic   \n",
       "4                 2022 Renault Arkana Intens      USED    Automatic   \n",
       "\n",
       "         Engine DriveType  FuelType FuelConsumption Kilometres   ColourExtInt  \\\n",
       "0  4 cyl, 2.2 L       AWD    Diesel  8.7 L / 100 km       5595  White / Black   \n",
       "1  4 cyl, 1.5 L     Front   Premium  6.7 L / 100 km         16  Black / Black   \n",
       "2    4 cyl, 2 L      Rear   Premium  6.6 L / 100 km       8472   Grey / White   \n",
       "3  8 cyl, 5.5 L      Rear   Premium   11 L / 100 km     136517  White / Brown   \n",
       "4  4 cyl, 1.3 L     Front  Unleaded    6 L / 100 km       1035   Grey / Black   \n",
       "\n",
       "            Location CylindersinEngine   BodyType     Doors     Seats   Price  \n",
       "0     Caringbah, NSW             4 cyl        SUV   4 Doors   7 Seats   51990  \n",
       "1     Brookvale, NSW             4 cyl  Hatchback   5 Doors   5 Seats   19990  \n",
       "2      Sylvania, NSW             4 cyl      Coupe   2 Doors   4 Seats  108988  \n",
       "3  Mount Druitt, NSW             8 cyl      Coupe   2 Doors   4 Seats   32990  \n",
       "4   Castle Hill, NSW             4 cyl        SUV   4 Doors   5 Seats   34990  "
      ]
     },
     "execution_count": 7,
     "metadata": {},
     "output_type": "execute_result"
    }
   ],
   "source": [
    "df.head()"
   ]
  },
  {
   "cell_type": "markdown",
   "id": "c5c335f1-79d8-4a2b-9acc-a72a7c61136e",
   "metadata": {
    "id": "c5c335f1-79d8-4a2b-9acc-a72a7c61136e"
   },
   "source": [
    "Посмотрю сначала на то, какой размерности датасет, есть ли пропущенные значения в нем"
   ]
  },
  {
   "cell_type": "code",
   "execution_count": 9,
   "id": "12fe2522-d0d0-4e2c-85d0-dd4bba23f473",
   "metadata": {
    "colab": {
     "base_uri": "https://localhost:8080/"
    },
    "id": "12fe2522-d0d0-4e2c-85d0-dd4bba23f473",
    "outputId": "d473b962-4ab5-434b-cd8a-0efc64ed99a5"
   },
   "outputs": [
    {
     "data": {
      "text/plain": [
       "(16734, 19)"
      ]
     },
     "execution_count": 9,
     "metadata": {},
     "output_type": "execute_result"
    }
   ],
   "source": [
    "df.shape"
   ]
  },
  {
   "cell_type": "code",
   "execution_count": 10,
   "id": "d46423a6-91e6-4e42-9e3d-f644adef3c38",
   "metadata": {
    "colab": {
     "base_uri": "https://localhost:8080/"
    },
    "id": "d46423a6-91e6-4e42-9e3d-f644adef3c38",
    "outputId": "2b39db87-9875-47e4-9a90-2b49e71276e6"
   },
   "outputs": [
    {
     "name": "stdout",
     "output_type": "stream",
     "text": [
      "<class 'pandas.core.frame.DataFrame'>\n",
      "RangeIndex: 16734 entries, 0 to 16733\n",
      "Data columns (total 19 columns):\n",
      " #   Column             Non-Null Count  Dtype  \n",
      "---  ------             --------------  -----  \n",
      " 0   Brand              16733 non-null  object \n",
      " 1   Year               16733 non-null  float64\n",
      " 2   Model              16733 non-null  object \n",
      " 3   Car/Suv            16706 non-null  object \n",
      " 4   Title              16733 non-null  object \n",
      " 5   UsedOrNew          16733 non-null  object \n",
      " 6   Transmission       16733 non-null  object \n",
      " 7   Engine             16733 non-null  object \n",
      " 8   DriveType          16733 non-null  object \n",
      " 9   FuelType           16733 non-null  object \n",
      " 10  FuelConsumption    16733 non-null  object \n",
      " 11  Kilometres         16733 non-null  object \n",
      " 12  ColourExtInt       16733 non-null  object \n",
      " 13  Location           16284 non-null  object \n",
      " 14  CylindersinEngine  16733 non-null  object \n",
      " 15  BodyType           16452 non-null  object \n",
      " 16  Doors              15130 non-null  object \n",
      " 17  Seats              15029 non-null  object \n",
      " 18  Price              16731 non-null  object \n",
      "dtypes: float64(1), object(18)\n",
      "memory usage: 2.4+ MB\n"
     ]
    }
   ],
   "source": [
    "df.info()"
   ]
  },
  {
   "cell_type": "markdown",
   "id": "0e7121f4-2bd1-459f-b746-b2a171b710ce",
   "metadata": {
    "id": "0e7121f4-2bd1-459f-b746-b2a171b710ce"
   },
   "source": [
    "Видим, что сечас все признаки кроме одного числового отображаются как категориалные"
   ]
  },
  {
   "cell_type": "markdown",
   "id": "b790ad07-d0b8-4da5-a6ba-0793309afcf7",
   "metadata": {
    "id": "b790ad07-d0b8-4da5-a6ba-0793309afcf7"
   },
   "source": [
    "Рассмторим есть ли пропущенные значения в датасете"
   ]
  },
  {
   "cell_type": "code",
   "execution_count": 13,
   "id": "081d4836-faad-4483-8922-bd07d5295de5",
   "metadata": {
    "colab": {
     "base_uri": "https://localhost:8080/",
     "height": 645
    },
    "id": "081d4836-faad-4483-8922-bd07d5295de5",
    "outputId": "cdda56e9-a3a2-4d5d-c4b5-2ef2190eccd3"
   },
   "outputs": [
    {
     "data": {
      "text/html": [
       "<div>\n",
       "<style scoped>\n",
       "    .dataframe tbody tr th:only-of-type {\n",
       "        vertical-align: middle;\n",
       "    }\n",
       "\n",
       "    .dataframe tbody tr th {\n",
       "        vertical-align: top;\n",
       "    }\n",
       "\n",
       "    .dataframe thead th {\n",
       "        text-align: right;\n",
       "    }\n",
       "</style>\n",
       "<table border=\"1\" class=\"dataframe\">\n",
       "  <thead>\n",
       "    <tr style=\"text-align: right;\">\n",
       "      <th></th>\n",
       "      <th>Количество пропущенных значений</th>\n",
       "      <th>Процент от общего числа строк (%)</th>\n",
       "    </tr>\n",
       "  </thead>\n",
       "  <tbody>\n",
       "    <tr>\n",
       "      <th>Brand</th>\n",
       "      <td>1</td>\n",
       "      <td>0.005976</td>\n",
       "    </tr>\n",
       "    <tr>\n",
       "      <th>Year</th>\n",
       "      <td>1</td>\n",
       "      <td>0.005976</td>\n",
       "    </tr>\n",
       "    <tr>\n",
       "      <th>Model</th>\n",
       "      <td>1</td>\n",
       "      <td>0.005976</td>\n",
       "    </tr>\n",
       "    <tr>\n",
       "      <th>Car/Suv</th>\n",
       "      <td>28</td>\n",
       "      <td>0.167324</td>\n",
       "    </tr>\n",
       "    <tr>\n",
       "      <th>Title</th>\n",
       "      <td>1</td>\n",
       "      <td>0.005976</td>\n",
       "    </tr>\n",
       "    <tr>\n",
       "      <th>UsedOrNew</th>\n",
       "      <td>1</td>\n",
       "      <td>0.005976</td>\n",
       "    </tr>\n",
       "    <tr>\n",
       "      <th>Transmission</th>\n",
       "      <td>1</td>\n",
       "      <td>0.005976</td>\n",
       "    </tr>\n",
       "    <tr>\n",
       "      <th>Engine</th>\n",
       "      <td>1</td>\n",
       "      <td>0.005976</td>\n",
       "    </tr>\n",
       "    <tr>\n",
       "      <th>DriveType</th>\n",
       "      <td>1</td>\n",
       "      <td>0.005976</td>\n",
       "    </tr>\n",
       "    <tr>\n",
       "      <th>FuelType</th>\n",
       "      <td>1</td>\n",
       "      <td>0.005976</td>\n",
       "    </tr>\n",
       "    <tr>\n",
       "      <th>FuelConsumption</th>\n",
       "      <td>1</td>\n",
       "      <td>0.005976</td>\n",
       "    </tr>\n",
       "    <tr>\n",
       "      <th>Kilometres</th>\n",
       "      <td>1</td>\n",
       "      <td>0.005976</td>\n",
       "    </tr>\n",
       "    <tr>\n",
       "      <th>ColourExtInt</th>\n",
       "      <td>1</td>\n",
       "      <td>0.005976</td>\n",
       "    </tr>\n",
       "    <tr>\n",
       "      <th>Location</th>\n",
       "      <td>450</td>\n",
       "      <td>2.689136</td>\n",
       "    </tr>\n",
       "    <tr>\n",
       "      <th>CylindersinEngine</th>\n",
       "      <td>1</td>\n",
       "      <td>0.005976</td>\n",
       "    </tr>\n",
       "    <tr>\n",
       "      <th>BodyType</th>\n",
       "      <td>282</td>\n",
       "      <td>1.685192</td>\n",
       "    </tr>\n",
       "    <tr>\n",
       "      <th>Doors</th>\n",
       "      <td>1604</td>\n",
       "      <td>9.585275</td>\n",
       "    </tr>\n",
       "    <tr>\n",
       "      <th>Seats</th>\n",
       "      <td>1705</td>\n",
       "      <td>10.188837</td>\n",
       "    </tr>\n",
       "    <tr>\n",
       "      <th>Price</th>\n",
       "      <td>3</td>\n",
       "      <td>0.017928</td>\n",
       "    </tr>\n",
       "  </tbody>\n",
       "</table>\n",
       "</div>"
      ],
      "text/plain": [
       "                   Количество пропущенных значений  \\\n",
       "Brand                                            1   \n",
       "Year                                             1   \n",
       "Model                                            1   \n",
       "Car/Suv                                         28   \n",
       "Title                                            1   \n",
       "UsedOrNew                                        1   \n",
       "Transmission                                     1   \n",
       "Engine                                           1   \n",
       "DriveType                                        1   \n",
       "FuelType                                         1   \n",
       "FuelConsumption                                  1   \n",
       "Kilometres                                       1   \n",
       "ColourExtInt                                     1   \n",
       "Location                                       450   \n",
       "CylindersinEngine                                1   \n",
       "BodyType                                       282   \n",
       "Doors                                         1604   \n",
       "Seats                                         1705   \n",
       "Price                                            3   \n",
       "\n",
       "                   Процент от общего числа строк (%)  \n",
       "Brand                                       0.005976  \n",
       "Year                                        0.005976  \n",
       "Model                                       0.005976  \n",
       "Car/Suv                                     0.167324  \n",
       "Title                                       0.005976  \n",
       "UsedOrNew                                   0.005976  \n",
       "Transmission                                0.005976  \n",
       "Engine                                      0.005976  \n",
       "DriveType                                   0.005976  \n",
       "FuelType                                    0.005976  \n",
       "FuelConsumption                             0.005976  \n",
       "Kilometres                                  0.005976  \n",
       "ColourExtInt                                0.005976  \n",
       "Location                                    2.689136  \n",
       "CylindersinEngine                           0.005976  \n",
       "BodyType                                    1.685192  \n",
       "Doors                                       9.585275  \n",
       "Seats                                      10.188837  \n",
       "Price                                       0.017928  "
      ]
     },
     "execution_count": 13,
     "metadata": {},
     "output_type": "execute_result"
    }
   ],
   "source": [
    "pd.DataFrame(zip(df.isna().sum(),100 * (df.isna().sum()/df.shape[0])),columns=['Количество пропущенных значений','Процент от общего числа строк (%)'], index=df.columns)"
   ]
  },
  {
   "cell_type": "markdown",
   "id": "953f3555-5c1d-46f0-87fa-9e9246958342",
   "metadata": {
    "id": "953f3555-5c1d-46f0-87fa-9e9246958342"
   },
   "source": [
    "- Видим, что в каждый из признаков исходного датасета содержит пропущенные значения\n",
    "- Можно выделить признаки Doors, Seats как те, которые содержат большое количество пропущенных значений (около 10 процентов от датасета)"
   ]
  },
  {
   "cell_type": "markdown",
   "id": "d3547e7a-2b69-4f03-8f1d-42c80edd1e44",
   "metadata": {
    "id": "d3547e7a-2b69-4f03-8f1d-42c80edd1e44"
   },
   "source": [
    "Посмотрим теперь сумму пропущенных значений по строкам датасета"
   ]
  },
  {
   "cell_type": "code",
   "execution_count": 16,
   "id": "279faf02-0f49-4190-8078-862afe2a7200",
   "metadata": {
    "colab": {
     "base_uri": "https://localhost:8080/"
    },
    "id": "279faf02-0f49-4190-8078-862afe2a7200",
    "outputId": "dffd46b9-1db9-47fd-c4c4-a3e0537af6d9"
   },
   "outputs": [
    {
     "data": {
      "text/plain": [
       "2391     19\n",
       "15802     4\n",
       "15357     4\n",
       "15351     4\n",
       "15343     4\n",
       "         ..\n",
       "5905      0\n",
       "5906      0\n",
       "5907      0\n",
       "5908      0\n",
       "16733     0\n",
       "Length: 16734, dtype: int64"
      ]
     },
     "execution_count": 16,
     "metadata": {},
     "output_type": "execute_result"
    }
   ],
   "source": [
    "missing_counts = df.isna().sum(axis=1)\n",
    "missing_counts.sort_values(ascending=False)"
   ]
  },
  {
   "cell_type": "markdown",
   "id": "31ba7fa8-4249-4184-a0b8-e97d3dde10d5",
   "metadata": {
    "id": "31ba7fa8-4249-4184-a0b8-e97d3dde10d5"
   },
   "source": [
    "- Видим, что есть строка у которой пропущеннs все значения\n",
    "- Ее можно удалить , с остальными пропущенными значениями разбираться отдельно"
   ]
  },
  {
   "cell_type": "code",
   "execution_count": 18,
   "id": "9ca693b8-4179-4984-88cb-8768a1b702bc",
   "metadata": {
    "colab": {
     "base_uri": "https://localhost:8080/"
    },
    "id": "9ca693b8-4179-4984-88cb-8768a1b702bc",
    "outputId": "87bf090b-b864-4c54-f243-9fdf9565b0a8"
   },
   "outputs": [
    {
     "data": {
      "text/plain": [
       "Brand                NaN\n",
       "Year                 NaN\n",
       "Model                NaN\n",
       "Car/Suv              NaN\n",
       "Title                NaN\n",
       "UsedOrNew            NaN\n",
       "Transmission         NaN\n",
       "Engine               NaN\n",
       "DriveType            NaN\n",
       "FuelType             NaN\n",
       "FuelConsumption      NaN\n",
       "Kilometres           NaN\n",
       "ColourExtInt         NaN\n",
       "Location             NaN\n",
       "CylindersinEngine    NaN\n",
       "BodyType             NaN\n",
       "Doors                NaN\n",
       "Seats                NaN\n",
       "Price                NaN\n",
       "Name: 2391, dtype: object"
      ]
     },
     "execution_count": 18,
     "metadata": {},
     "output_type": "execute_result"
    }
   ],
   "source": [
    "df.iloc[2391]"
   ]
  },
  {
   "cell_type": "code",
   "execution_count": 19,
   "id": "ec179d20-5393-41f4-b260-57ee8d3cea06",
   "metadata": {
    "id": "ec179d20-5393-41f4-b260-57ee8d3cea06"
   },
   "outputs": [],
   "source": [
    "df = df.drop(2391)"
   ]
  },
  {
   "cell_type": "markdown",
   "id": "8aa4852a-a360-4e67-8c4d-6b3d7364e39f",
   "metadata": {
    "id": "8aa4852a-a360-4e67-8c4d-6b3d7364e39f"
   },
   "source": [
    "Количество строк в датасете которые содержат хотя бы одно пропущенное значение"
   ]
  },
  {
   "cell_type": "code",
   "execution_count": 21,
   "id": "107be988-d527-404a-81f2-9c282fa2a1f3",
   "metadata": {
    "colab": {
     "base_uri": "https://localhost:8080/"
    },
    "id": "107be988-d527-404a-81f2-9c282fa2a1f3",
    "outputId": "7adc4482-8be2-4499-ed0d-4006a1a83e7f"
   },
   "outputs": [
    {
     "data": {
      "text/plain": [
       "2147"
      ]
     },
     "execution_count": 21,
     "metadata": {},
     "output_type": "execute_result"
    }
   ],
   "source": [
    "df[df.isna().sum(axis=1) > 0].shape[0]"
   ]
  },
  {
   "cell_type": "markdown",
   "id": "b8dafec6-6ab0-4413-917a-4ccea25141b6",
   "metadata": {
    "id": "b8dafec6-6ab0-4413-917a-4ccea25141b6"
   },
   "source": [
    "- Теперь, после проверки датасета на наличие явно неадекватных строк (все значения в строке пропущены)\n",
    "Удаление которых не создает для нас никакого data leak\n",
    "Приступаем к разделению данных на обучающее и и тестовые множество\n",
    "и только после этого на обучающем множестве начинаем обработку данных"
   ]
  },
  {
   "cell_type": "code",
   "execution_count": 23,
   "id": "11a0fd38-4738-4dda-94a5-49bd079bae44",
   "metadata": {
    "id": "11a0fd38-4738-4dda-94a5-49bd079bae44"
   },
   "outputs": [],
   "source": [
    "RANDOM_STATE = 42"
   ]
  },
  {
   "cell_type": "code",
   "execution_count": 24,
   "id": "d956321b-0745-4eb4-ac1a-20c21544db56",
   "metadata": {
    "id": "d956321b-0745-4eb4-ac1a-20c21544db56"
   },
   "outputs": [],
   "source": [
    "df_train, df_test = train_test_split(df, test_size=0.2, random_state=RANDOM_STATE)"
   ]
  },
  {
   "cell_type": "markdown",
   "id": "5d40a086-0bba-4d9d-a48d-a14c1fd39a17",
   "metadata": {
    "id": "5d40a086-0bba-4d9d-a48d-a14c1fd39a17"
   },
   "source": [
    "- Рассмотрим переменную Brand. Еще раз проверим на наличие пропущенных значений."
   ]
  },
  {
   "cell_type": "code",
   "execution_count": 26,
   "id": "50fcd9cb-6d2d-454a-a38f-828df471998c",
   "metadata": {
    "colab": {
     "base_uri": "https://localhost:8080/"
    },
    "id": "50fcd9cb-6d2d-454a-a38f-828df471998c",
    "outputId": "e3275bfd-0e33-4471-bc6e-db8d3f73f2a7"
   },
   "outputs": [
    {
     "data": {
      "text/plain": [
       "False"
      ]
     },
     "execution_count": 26,
     "metadata": {},
     "output_type": "execute_result"
    }
   ],
   "source": [
    "train_df = df_train.copy()\n",
    "train_df.Brand.isna().any()"
   ]
  },
  {
   "cell_type": "code",
   "execution_count": 27,
   "id": "436dbbc4-1fc3-4368-bfdc-960ce398f221",
   "metadata": {
    "colab": {
     "base_uri": "https://localhost:8080/",
     "height": 73
    },
    "id": "436dbbc4-1fc3-4368-bfdc-960ce398f221",
    "outputId": "6c2f46e9-f599-4a93-c339-6688cb8bfa1b"
   },
   "outputs": [
    {
     "data": {
      "text/html": [
       "<div>\n",
       "<style scoped>\n",
       "    .dataframe tbody tr th:only-of-type {\n",
       "        vertical-align: middle;\n",
       "    }\n",
       "\n",
       "    .dataframe tbody tr th {\n",
       "        vertical-align: top;\n",
       "    }\n",
       "\n",
       "    .dataframe thead th {\n",
       "        text-align: right;\n",
       "    }\n",
       "</style>\n",
       "<table border=\"1\" class=\"dataframe\">\n",
       "  <thead>\n",
       "    <tr style=\"text-align: right;\">\n",
       "      <th></th>\n",
       "      <th>Brand</th>\n",
       "      <th>Year</th>\n",
       "      <th>Model</th>\n",
       "      <th>Car/Suv</th>\n",
       "      <th>Title</th>\n",
       "      <th>UsedOrNew</th>\n",
       "      <th>Transmission</th>\n",
       "      <th>Engine</th>\n",
       "      <th>DriveType</th>\n",
       "      <th>FuelType</th>\n",
       "      <th>FuelConsumption</th>\n",
       "      <th>Kilometres</th>\n",
       "      <th>ColourExtInt</th>\n",
       "      <th>Location</th>\n",
       "      <th>CylindersinEngine</th>\n",
       "      <th>BodyType</th>\n",
       "      <th>Doors</th>\n",
       "      <th>Seats</th>\n",
       "      <th>Price</th>\n",
       "    </tr>\n",
       "  </thead>\n",
       "  <tbody>\n",
       "  </tbody>\n",
       "</table>\n",
       "</div>"
      ],
      "text/plain": [
       "Empty DataFrame\n",
       "Columns: [Brand, Year, Model, Car/Suv, Title, UsedOrNew, Transmission, Engine, DriveType, FuelType, FuelConsumption, Kilometres, ColourExtInt, Location, CylindersinEngine, BodyType, Doors, Seats, Price]\n",
       "Index: []"
      ]
     },
     "execution_count": 27,
     "metadata": {},
     "output_type": "execute_result"
    }
   ],
   "source": [
    "train_df[train_df.Brand == '-']"
   ]
  },
  {
   "cell_type": "markdown",
   "id": "003b8f8f-ce83-42a2-9f9d-1c8d04ae8664",
   "metadata": {
    "id": "003b8f8f-ce83-42a2-9f9d-1c8d04ae8664"
   },
   "source": [
    "Пропущенных значений нет рассмотрим теперь количнство примеров для каждой из возможных категорий бренда"
   ]
  },
  {
   "cell_type": "markdown",
   "id": "9f30e2d3-317c-4ea4-b85e-4dfde5cab1f6",
   "metadata": {
    "id": "9f30e2d3-317c-4ea4-b85e-4dfde5cab1f6"
   },
   "source": [
    "Видно, что есть категории содержащии большое количество примеров , а есть где он всего один"
   ]
  },
  {
   "cell_type": "code",
   "execution_count": 30,
   "id": "2976a005-b60e-4598-81bf-df4cdd1ea7fd",
   "metadata": {
    "colab": {
     "base_uri": "https://localhost:8080/"
    },
    "id": "2976a005-b60e-4598-81bf-df4cdd1ea7fd",
    "outputId": "498a3073-03f8-4b17-c5a6-dc611c05708b"
   },
   "outputs": [
    {
     "data": {
      "text/plain": [
       "Brand\n",
       "Toyota         2202\n",
       "Hyundai         985\n",
       "Mazda           940\n",
       "Holden          855\n",
       "Nissan          852\n",
       "               ... \n",
       "Rolls-Royce       1\n",
       "Datsun            1\n",
       "Polestar          1\n",
       "Packard           1\n",
       "Lamborghini       1\n",
       "Name: count, Length: 75, dtype: int64"
      ]
     },
     "execution_count": 30,
     "metadata": {},
     "output_type": "execute_result"
    }
   ],
   "source": [
    "brand_counts = train_df.Brand.value_counts()\n",
    "brand_counts"
   ]
  },
  {
   "cell_type": "markdown",
   "id": "676eeb0e-24ac-4de3-b475-86412d9fb612",
   "metadata": {
    "id": "676eeb0e-24ac-4de3-b475-86412d9fb612"
   },
   "source": [
    "- Рассмотррим без лейблов и процентов (чтобы не наслаивалось)  как примерно выглядит набор категорий (Брэндов) на круговой диаграмме, чтобы иметь представление в целом о характере категории"
   ]
  },
  {
   "cell_type": "code",
   "execution_count": 32,
   "id": "e4b130d5-16bf-42d1-b7dd-b8b94b8a697c",
   "metadata": {
    "colab": {
     "base_uri": "https://localhost:8080/",
     "height": 422
    },
    "id": "e4b130d5-16bf-42d1-b7dd-b8b94b8a697c",
    "outputId": "a5a4b250-5031-430a-d0d0-79aebe6ff99e"
   },
   "outputs": [
    {
     "data": {
      "image/png": "[encoded data removed]",
      "text/plain": [
       "<Figure size 1500x500 with 1 Axes>"
      ]
     },
     "metadata": {},
     "output_type": "display_data"
    }
   ],
   "source": [
    "plt.figure(figsize=(15,5))\n",
    "plt.pie(brand_counts)\n",
    "plt.show()"
   ]
  },
  {
   "cell_type": "markdown",
   "id": "5f4d58ed-4f47-4eed-a941-98a983a2db8c",
   "metadata": {
    "id": "5f4d58ed-4f47-4eed-a941-98a983a2db8c"
   },
   "source": [
    "- Видно, что есть большое количество категорий , имеющих маленькое количество примеров в датасеете, скорее всего часть таких \"одиночек\" попали  и в тестовую выборку"
   ]
  },
  {
   "cell_type": "markdown",
   "id": "3399b21f-57fe-4791-9bed-cca62994de33",
   "metadata": {
    "id": "3399b21f-57fe-4791-9bed-cca62994de33"
   },
   "source": [
    "- Требуется создать новую категорию Other, куда собрать категории имеющих малое количесвто примеров в датасете. Однако точно сказать какой порог оптимален нельзя. Нужно будет подобрать на валидационной выборке оптимальное значение параметра который оприделяет порог разбиения."
   ]
  },
  {
   "cell_type": "markdown",
   "id": "8ced7caf-338a-4e5d-bc00-ee01d595dd4d",
   "metadata": {
    "id": "8ced7caf-338a-4e5d-bc00-ee01d595dd4d"
   },
   "source": [
    "- Рассмотрим зависимую переменную Price"
   ]
  },
  {
   "cell_type": "code",
   "execution_count": 36,
   "id": "1158754d-6f55-48a9-9b9c-1bb660e9f98c",
   "metadata": {
    "colab": {
     "base_uri": "https://localhost:8080/"
    },
    "id": "1158754d-6f55-48a9-9b9c-1bb660e9f98c",
    "outputId": "50b70ef1-e208-4ba9-ef27-bd1457484687"
   },
   "outputs": [
    {
     "data": {
      "text/plain": [
       "True"
      ]
     },
     "execution_count": 36,
     "metadata": {},
     "output_type": "execute_result"
    }
   ],
   "source": [
    "train_df.Price.isna().any()"
   ]
  },
  {
   "cell_type": "code",
   "execution_count": 37,
   "id": "0b93f741-24c8-4b97-9fb9-cacc8edef58d",
   "metadata": {
    "colab": {
     "base_uri": "https://localhost:8080/"
    },
    "id": "0b93f741-24c8-4b97-9fb9-cacc8edef58d",
    "outputId": "47b0f69d-21d1-41f2-f938-e462f820883c"
   },
   "outputs": [
    {
     "name": "stdout",
     "output_type": "stream",
     "text": [
      "<class 'pandas.core.series.Series'>\n",
      "Index: 13386 entries, 7594 to 15796\n",
      "Series name: Price\n",
      "Non-Null Count  Dtype \n",
      "--------------  ----- \n",
      "13385 non-null  object\n",
      "dtypes: object(1)\n",
      "memory usage: 209.2+ KB\n"
     ]
    }
   ],
   "source": [
    "train_df.Price.info()"
   ]
  },
  {
   "cell_type": "code",
   "execution_count": 38,
   "id": "fedea077-7b5f-4820-9c57-ea4abe178978",
   "metadata": {
    "colab": {
     "base_uri": "https://localhost:8080/"
    },
    "id": "fedea077-7b5f-4820-9c57-ea4abe178978",
    "outputId": "34fb8377-c900-4c28-bfb4-dc136813a043"
   },
   "outputs": [
    {
     "data": {
      "text/plain": [
       "7594     30990\n",
       "10634    14999\n",
       "4411     29995\n",
       "12403    29999\n",
       "9982     23750\n",
       "Name: Price, dtype: object"
      ]
     },
     "execution_count": 38,
     "metadata": {},
     "output_type": "execute_result"
    }
   ],
   "source": [
    "train_df.Price.head()"
   ]
  },
  {
   "cell_type": "markdown",
   "id": "1bef788b-6e98-40cf-a52e-334d377655e8",
   "metadata": {
    "id": "1bef788b-6e98-40cf-a52e-334d377655e8"
   },
   "source": [
    "Виден тип данных object, хотя судя по всему должен быть int/float\n",
    "Проверим все ли значения могут быть числовыми"
   ]
  },
  {
   "cell_type": "code",
   "execution_count": 40,
   "id": "5f022431-8197-4bab-adf1-19b2b6e10661",
   "metadata": {
    "colab": {
     "base_uri": "https://localhost:8080/"
    },
    "id": "5f022431-8197-4bab-adf1-19b2b6e10661",
    "outputId": "a3589959-c1a6-4a6c-f7f4-590fae1f4038"
   },
   "outputs": [
    {
     "data": {
      "text/plain": [
       "16424    POA\n",
       "15955    POA\n",
       "16366    POA\n",
       "15310    POA\n",
       "16379    POA\n",
       "Name: Price, dtype: object"
      ]
     },
     "execution_count": 40,
     "metadata": {},
     "output_type": "execute_result"
    }
   ],
   "source": [
    "numeric_values = pd.to_numeric(train_df.Price, errors='coerce')\n",
    "non_numeric_mask = pd.isnull(numeric_values)\n",
    "non_numeric_values = train_df.Price[non_numeric_mask]\n",
    "non_numeric_values.head()"
   ]
  },
  {
   "cell_type": "markdown",
   "id": "be9d1435-2a40-4f33-ac5a-62514a5c5847",
   "metadata": {
    "id": "be9d1435-2a40-4f33-ac5a-62514a5c5847"
   },
   "source": [
    "Видим одно и тоже значение - POA. В гугле говорится что это значит - цена доступна при обращении  "
   ]
  },
  {
   "cell_type": "code",
   "execution_count": 42,
   "id": "6c06600d-388a-4f60-8877-872bb1f2fec4",
   "metadata": {
    "colab": {
     "base_uri": "https://localhost:8080/"
    },
    "id": "6c06600d-388a-4f60-8877-872bb1f2fec4",
    "outputId": "493d5d76-ad5e-4c54-d262-3d8e5bd6fc92"
   },
   "outputs": [
    {
     "data": {
      "text/plain": [
       "(38,)"
      ]
     },
     "execution_count": 42,
     "metadata": {},
     "output_type": "execute_result"
    }
   ],
   "source": [
    "non_numeric_values.shape"
   ]
  },
  {
   "cell_type": "markdown",
   "id": "6a1be2ae-fb0a-4cd4-af3a-db8cd80f16a2",
   "metadata": {
    "id": "6a1be2ae-fb0a-4cd4-af3a-db8cd80f16a2"
   },
   "source": [
    "Строки с таким значением целевой перменной можно удалить"
   ]
  },
  {
   "cell_type": "code",
   "execution_count": 44,
   "id": "98f88d4c-44fa-4536-b7c8-ef36b4314af9",
   "metadata": {
    "id": "98f88d4c-44fa-4536-b7c8-ef36b4314af9"
   },
   "outputs": [],
   "source": [
    "train_df = train_df.drop(non_numeric_values.index)\n",
    "\n",
    "train_df['Price'] = train_df['Price'].astype(float)"
   ]
  },
  {
   "cell_type": "code",
   "execution_count": 45,
   "id": "d2c4845c-3d0b-4b65-bb18-5c31f6b59179",
   "metadata": {
    "colab": {
     "base_uri": "https://localhost:8080/"
    },
    "id": "d2c4845c-3d0b-4b65-bb18-5c31f6b59179",
    "outputId": "533f0346-330a-4219-b665-faffbab7533e"
   },
   "outputs": [
    {
     "data": {
      "text/plain": [
       "count    1.334800e+04\n",
       "mean     3.725519e+04\n",
       "std      3.714690e+04\n",
       "min      8.800000e+01\n",
       "25%      1.899900e+04\n",
       "50%      2.950000e+04\n",
       "75%      4.399000e+04\n",
       "max      1.500000e+06\n",
       "Name: Price, dtype: float64"
      ]
     },
     "execution_count": 45,
     "metadata": {},
     "output_type": "execute_result"
    }
   ],
   "source": [
    "train_df['Price'].describe()"
   ]
  },
  {
   "cell_type": "code",
   "execution_count": 46,
   "id": "0cdd39ce-b9c8-4e88-9434-c29076d5ec15",
   "metadata": {
    "colab": {
     "base_uri": "https://localhost:8080/",
     "height": 581
    },
    "id": "0cdd39ce-b9c8-4e88-9434-c29076d5ec15",
    "outputId": "09c72ee6-f304-471a-e634-48b8dee77a8f"
   },
   "outputs": [
    {
     "data": {
      "text/plain": [
       "Text(0.5, 0, 'Price')"
      ]
     },
     "execution_count": 46,
     "metadata": {},
     "output_type": "execute_result"
    },
    {
     "data": {
      "image/png": "[encoded data removed]",
      "text/plain": [
       "<Figure size 1000x600 with 1 Axes>"
      ]
     },
     "metadata": {},
     "output_type": "display_data"
    }
   ],
   "source": [
    "plt.figure(figsize=(10, 6))\n",
    "\n",
    "sns.boxplot(x='Price', data=train_df, width=0.5)\n",
    "\n",
    "plt.title('Boxplot of Price')\n",
    "plt.xlabel('Price')"
   ]
  },
  {
   "cell_type": "markdown",
   "id": "9bd62d50-84ca-44f9-ab04-afb73eadf7d6",
   "metadata": {
    "id": "9bd62d50-84ca-44f9-ab04-afb73eadf7d6"
   },
   "source": [
    "Видно что есть выбросы , в частоности один с очень большой ценой, следует предусмотреть возможность при обработке как оставить без изменений датсет на трейне так и обрезать выбросы. Выбрать в зависимости от резуьтатов на валидации"
   ]
  },
  {
   "cell_type": "code",
   "execution_count": 48,
   "id": "976ecb26-ef7d-4360-bead-2bc7f82f4bbb",
   "metadata": {
    "id": "976ecb26-ef7d-4360-bead-2bc7f82f4bbb"
   },
   "outputs": [],
   "source": [
    "Q1 = train_df['Price'].quantile(0.05)\n",
    "Q3 = train_df['Price'].quantile(0.95)\n",
    "IQR = Q3 - Q1\n",
    "\n",
    "lower_bound = Q1 - 1.5 * IQR\n",
    "upper_bound = Q3 + 1.5 * IQR\n",
    "\n",
    "train_df = train_df[(train_df['Price'] >= lower_bound) & (train_df['Price'] <= upper_bound)]"
   ]
  },
  {
   "cell_type": "code",
   "execution_count": 49,
   "id": "d5bbbf3d-e2e8-4854-a599-3310c8372649",
   "metadata": {
    "colab": {
     "base_uri": "https://localhost:8080/"
    },
    "id": "d5bbbf3d-e2e8-4854-a599-3310c8372649",
    "outputId": "8309a9b6-9d47-4d46-8c09-3bb13e9e5882"
   },
   "outputs": [
    {
     "data": {
      "text/plain": [
       "(13242, 19)"
      ]
     },
     "execution_count": 49,
     "metadata": {},
     "output_type": "execute_result"
    }
   ],
   "source": [
    "train_df.shape"
   ]
  },
  {
   "cell_type": "markdown",
   "id": "434ecac7-b219-4f79-9139-c0f7116d6291",
   "metadata": {
    "id": "434ecac7-b219-4f79-9139-c0f7116d6291"
   },
   "source": [
    "- Рассмотрим переменную Year"
   ]
  },
  {
   "cell_type": "code",
   "execution_count": 51,
   "id": "b4fe4ae1-ccb4-4c9a-8d1c-b0d463161319",
   "metadata": {
    "colab": {
     "base_uri": "https://localhost:8080/",
     "height": 73
    },
    "id": "b4fe4ae1-ccb4-4c9a-8d1c-b0d463161319",
    "outputId": "9c0a6d5c-8816-4d85-c43f-15f5af09f8ba"
   },
   "outputs": [
    {
     "data": {
      "text/html": [
       "<div>\n",
       "<style scoped>\n",
       "    .dataframe tbody tr th:only-of-type {\n",
       "        vertical-align: middle;\n",
       "    }\n",
       "\n",
       "    .dataframe tbody tr th {\n",
       "        vertical-align: top;\n",
       "    }\n",
       "\n",
       "    .dataframe thead th {\n",
       "        text-align: right;\n",
       "    }\n",
       "</style>\n",
       "<table border=\"1\" class=\"dataframe\">\n",
       "  <thead>\n",
       "    <tr style=\"text-align: right;\">\n",
       "      <th></th>\n",
       "      <th>Brand</th>\n",
       "      <th>Year</th>\n",
       "      <th>Model</th>\n",
       "      <th>Car/Suv</th>\n",
       "      <th>Title</th>\n",
       "      <th>UsedOrNew</th>\n",
       "      <th>Transmission</th>\n",
       "      <th>Engine</th>\n",
       "      <th>DriveType</th>\n",
       "      <th>FuelType</th>\n",
       "      <th>FuelConsumption</th>\n",
       "      <th>Kilometres</th>\n",
       "      <th>ColourExtInt</th>\n",
       "      <th>Location</th>\n",
       "      <th>CylindersinEngine</th>\n",
       "      <th>BodyType</th>\n",
       "      <th>Doors</th>\n",
       "      <th>Seats</th>\n",
       "      <th>Price</th>\n",
       "    </tr>\n",
       "  </thead>\n",
       "  <tbody>\n",
       "  </tbody>\n",
       "</table>\n",
       "</div>"
      ],
      "text/plain": [
       "Empty DataFrame\n",
       "Columns: [Brand, Year, Model, Car/Suv, Title, UsedOrNew, Transmission, Engine, DriveType, FuelType, FuelConsumption, Kilometres, ColourExtInt, Location, CylindersinEngine, BodyType, Doors, Seats, Price]\n",
       "Index: []"
      ]
     },
     "execution_count": 51,
     "metadata": {},
     "output_type": "execute_result"
    }
   ],
   "source": [
    "train_df[train_df.Year == '-']"
   ]
  },
  {
   "cell_type": "code",
   "execution_count": 52,
   "id": "6f14788c-3269-4593-953b-491faf40daf3",
   "metadata": {
    "id": "6f14788c-3269-4593-953b-491faf40daf3"
   },
   "outputs": [],
   "source": [
    "count_year = train_df.Year.value_counts().sort_index()"
   ]
  },
  {
   "cell_type": "code",
   "execution_count": 53,
   "id": "dfbe1488-8ab7-4327-b383-d01a43b0794e",
   "metadata": {
    "colab": {
     "base_uri": "https://localhost:8080/",
     "height": 569
    },
    "id": "dfbe1488-8ab7-4327-b383-d01a43b0794e",
    "outputId": "ceb539ce-08b9-470f-9244-69af02e897f9"
   },
   "outputs": [
    {
     "data": {
      "image/png": "[encoded data removed]",
      "text/plain": [
       "<Figure size 1200x600 with 1 Axes>"
      ]
     },
     "metadata": {},
     "output_type": "display_data"
    }
   ],
   "source": [
    "plt.figure(figsize=(12, 6))\n",
    "plt.bar(count_year.index, count_year.values, color='skyblue')\n",
    "plt.xlabel('Год выпуска')\n",
    "plt.ylabel('Количество записей')\n",
    "plt.title('Распределение количества записей по годам')\n",
    "plt.xticks(rotation=45)\n",
    "plt.tight_layout()\n",
    "plt.show()"
   ]
  },
  {
   "cell_type": "markdown",
   "id": "b9ca7b2c-afc2-4097-afb4-1d70335a5225",
   "metadata": {
    "id": "b9ca7b2c-afc2-4097-afb4-1d70335a5225"
   },
   "source": [
    "Истерсно, что ярко выражен спад количеств записей с машинами годом выпуска 2020 и 2021 годы - в это время была эпидемия covid, разрыв цепочек и заводы выпустили мало авто"
   ]
  },
  {
   "cell_type": "markdown",
   "id": "d1e5fb9b-97b1-4d08-8ead-b50c0bba5010",
   "metadata": {
    "id": "d1e5fb9b-97b1-4d08-8ead-b50c0bba5010"
   },
   "source": [
    "Оставим его использование напрямую как числвого признака , как тенденцию влияния старости или новизны на целевую переменную"
   ]
  },
  {
   "cell_type": "code",
   "execution_count": 56,
   "id": "tegcwmk0yus1",
   "metadata": {
    "colab": {
     "base_uri": "https://localhost:8080/",
     "height": 112
    },
    "id": "tegcwmk0yus1",
    "outputId": "a42f150b-8d0d-4c9e-88eb-e4577cf6b4f4"
   },
   "outputs": [
    {
     "data": {
      "text/html": [
       "<div>\n",
       "<style scoped>\n",
       "    .dataframe tbody tr th:only-of-type {\n",
       "        vertical-align: middle;\n",
       "    }\n",
       "\n",
       "    .dataframe tbody tr th {\n",
       "        vertical-align: top;\n",
       "    }\n",
       "\n",
       "    .dataframe thead th {\n",
       "        text-align: right;\n",
       "    }\n",
       "</style>\n",
       "<table border=\"1\" class=\"dataframe\">\n",
       "  <thead>\n",
       "    <tr style=\"text-align: right;\">\n",
       "      <th></th>\n",
       "      <th>Price</th>\n",
       "      <th>Year</th>\n",
       "    </tr>\n",
       "  </thead>\n",
       "  <tbody>\n",
       "    <tr>\n",
       "      <th>Price</th>\n",
       "      <td>1.000000</td>\n",
       "      <td>0.505679</td>\n",
       "    </tr>\n",
       "    <tr>\n",
       "      <th>Year</th>\n",
       "      <td>0.505679</td>\n",
       "      <td>1.000000</td>\n",
       "    </tr>\n",
       "  </tbody>\n",
       "</table>\n",
       "</div>"
      ],
      "text/plain": [
       "          Price      Year\n",
       "Price  1.000000  0.505679\n",
       "Year   0.505679  1.000000"
      ]
     },
     "execution_count": 56,
     "metadata": {},
     "output_type": "execute_result"
    }
   ],
   "source": [
    "train_df[['Price','Year']].corr()"
   ]
  },
  {
   "cell_type": "markdown",
   "id": "1145f031-2916-4e6a-9ae4-336e3894608e",
   "metadata": {
    "id": "1145f031-2916-4e6a-9ae4-336e3894608e"
   },
   "source": [
    "- Рассмотрим признак Model"
   ]
  },
  {
   "cell_type": "code",
   "execution_count": 58,
   "id": "a9e94614-7103-4e55-bdb5-bb71e64c3d39",
   "metadata": {
    "colab": {
     "base_uri": "https://localhost:8080/",
     "height": 73
    },
    "id": "a9e94614-7103-4e55-bdb5-bb71e64c3d39",
    "outputId": "3d8b75fe-5746-443f-bc24-63855023b4cc"
   },
   "outputs": [
    {
     "data": {
      "text/html": [
       "<div>\n",
       "<style scoped>\n",
       "    .dataframe tbody tr th:only-of-type {\n",
       "        vertical-align: middle;\n",
       "    }\n",
       "\n",
       "    .dataframe tbody tr th {\n",
       "        vertical-align: top;\n",
       "    }\n",
       "\n",
       "    .dataframe thead th {\n",
       "        text-align: right;\n",
       "    }\n",
       "</style>\n",
       "<table border=\"1\" class=\"dataframe\">\n",
       "  <thead>\n",
       "    <tr style=\"text-align: right;\">\n",
       "      <th></th>\n",
       "      <th>Brand</th>\n",
       "      <th>Year</th>\n",
       "      <th>Model</th>\n",
       "      <th>Car/Suv</th>\n",
       "      <th>Title</th>\n",
       "      <th>UsedOrNew</th>\n",
       "      <th>Transmission</th>\n",
       "      <th>Engine</th>\n",
       "      <th>DriveType</th>\n",
       "      <th>FuelType</th>\n",
       "      <th>FuelConsumption</th>\n",
       "      <th>Kilometres</th>\n",
       "      <th>ColourExtInt</th>\n",
       "      <th>Location</th>\n",
       "      <th>CylindersinEngine</th>\n",
       "      <th>BodyType</th>\n",
       "      <th>Doors</th>\n",
       "      <th>Seats</th>\n",
       "      <th>Price</th>\n",
       "    </tr>\n",
       "  </thead>\n",
       "  <tbody>\n",
       "  </tbody>\n",
       "</table>\n",
       "</div>"
      ],
      "text/plain": [
       "Empty DataFrame\n",
       "Columns: [Brand, Year, Model, Car/Suv, Title, UsedOrNew, Transmission, Engine, DriveType, FuelType, FuelConsumption, Kilometres, ColourExtInt, Location, CylindersinEngine, BodyType, Doors, Seats, Price]\n",
       "Index: []"
      ]
     },
     "execution_count": 58,
     "metadata": {},
     "output_type": "execute_result"
    }
   ],
   "source": [
    "train_df[train_df.Model == '-']"
   ]
  },
  {
   "cell_type": "code",
   "execution_count": 59,
   "id": "5626683d-7510-4d1d-925f-1e82d73ad636",
   "metadata": {
    "colab": {
     "base_uri": "https://localhost:8080/"
    },
    "id": "5626683d-7510-4d1d-925f-1e82d73ad636",
    "outputId": "0d586a47-a2a8-4ad5-f7f9-4572657e7f3f"
   },
   "outputs": [
    {
     "data": {
      "text/plain": [
       "Model\n",
       "Hilux          430\n",
       "Corolla        405\n",
       "Ranger         398\n",
       "Landcruiser    370\n",
       "I30            366\n",
       "              ... \n",
       "Celerio          1\n",
       "R-Class          1\n",
       "Vectra           1\n",
       "ES300            1\n",
       "120              1\n",
       "Name: count, Length: 781, dtype: int64"
      ]
     },
     "execution_count": 59,
     "metadata": {},
     "output_type": "execute_result"
    }
   ],
   "source": [
    "model_counts = df.Model.value_counts()\n",
    "model_counts"
   ]
  },
  {
   "cell_type": "code",
   "execution_count": 60,
   "id": "59769f41-4176-418c-9e5b-804f0a056cd9",
   "metadata": {
    "colab": {
     "base_uri": "https://localhost:8080/",
     "height": 422
    },
    "id": "59769f41-4176-418c-9e5b-804f0a056cd9",
    "outputId": "b07478cb-96bd-4cf4-9189-2cd724658b3c"
   },
   "outputs": [
    {
     "data": {
      "image/png": "[encoded data removed]",
      "text/plain": [
       "<Figure size 1500x500 with 1 Axes>"
      ]
     },
     "metadata": {},
     "output_type": "display_data"
    }
   ],
   "source": [
    "plt.figure(figsize=(15,5))\n",
    "plt.pie(model_counts)\n",
    "plt.show()"
   ]
  },
  {
   "cell_type": "markdown",
   "id": "KvZMmtTvz0qR",
   "metadata": {
    "id": "KvZMmtTvz0qR"
   },
   "source": [
    "Аналогично, обьединять редкие категории в одну общую - порог подобрать на кросс валидации"
   ]
  },
  {
   "cell_type": "markdown",
   "id": "8d4b8n5d0EZX",
   "metadata": {
    "id": "8d4b8n5d0EZX"
   },
   "source": [
    "-Рассмотрим переменнуб Car/Suv"
   ]
  },
  {
   "cell_type": "markdown",
   "id": "0b8d63dc-4924-470f-945f-5a4f23b7d82a",
   "metadata": {
    "id": "0b8d63dc-4924-470f-945f-5a4f23b7d82a"
   },
   "source": [
    "Переменная Car/Suv содержит много данных которые зашумлены , встречаются как названия автосалонов , так и просто набор символов (*****) (похоже на вин номер)\n",
    "\n",
    "Стоит отметить что в основном , наиболее частные категории соответвуют адеватным обозначениям типа кузова автомобиля\n"
   ]
  },
  {
   "cell_type": "code",
   "execution_count": 64,
   "id": "090db2f0-1fe4-42d7-bd03-d841017a0918",
   "metadata": {
    "colab": {
     "base_uri": "https://localhost:8080/"
    },
    "id": "090db2f0-1fe4-42d7-bd03-d841017a0918",
    "outputId": "a8e7eb67-fda8-4bc0-c450-cd8028d322e4"
   },
   "outputs": [
    {
     "data": {
      "text/plain": [
       "(13242, 19)"
      ]
     },
     "execution_count": 64,
     "metadata": {},
     "output_type": "execute_result"
    }
   ],
   "source": [
    "train_df.shape"
   ]
  },
  {
   "cell_type": "code",
   "execution_count": 65,
   "id": "b07c48eb-2415-4a11-8b0b-e3ab0bf7d657",
   "metadata": {
    "colab": {
     "base_uri": "https://localhost:8080/"
    },
    "id": "b07c48eb-2415-4a11-8b0b-e3ab0bf7d657",
    "outputId": "0c4e8d29-4334-4820-e5d4-c4fe38f48abf"
   },
   "outputs": [
    {
     "data": {
      "text/plain": [
       "10775"
      ]
     },
     "execution_count": 65,
     "metadata": {},
     "output_type": "execute_result"
    }
   ],
   "source": [
    "(train_df['Car/Suv'] == train_df['BodyType']).sum()"
   ]
  },
  {
   "cell_type": "code",
   "execution_count": 66,
   "id": "a2f08d72-ec92-4309-a0b9-9139b4406fa2",
   "metadata": {
    "colab": {
     "base_uri": "https://localhost:8080/"
    },
    "id": "a2f08d72-ec92-4309-a0b9-9139b4406fa2",
    "outputId": "ecaf9dd2-65f1-4035-9054-bf2dc1ad18f7"
   },
   "outputs": [
    {
     "data": {
      "text/plain": [
       "2467"
      ]
     },
     "execution_count": 66,
     "metadata": {},
     "output_type": "execute_result"
    }
   ],
   "source": [
    "(train_df['Car/Suv'] != train_df['BodyType']).sum()"
   ]
  },
  {
   "cell_type": "markdown",
   "id": "28fe3781-32b0-417b-a358-55fce8cc593a",
   "metadata": {
    "id": "28fe3781-32b0-417b-a358-55fce8cc593a"
   },
   "source": [
    "Однако, есть важный момент можно заметить что часто совпадают колокнки BodyType и Car/Suv, в БоdyType более осмысленно заполнено.\n",
    "Можно исопльзовать значения в колонке Car/Suv, на случай если в колонке Car/Suv пропущенны значения (None или \"-\")"
   ]
  },
  {
   "cell_type": "code",
   "execution_count": 68,
   "id": "4d60ce4d-16d3-4f12-a1d5-8119aa22310d",
   "metadata": {
    "colab": {
     "base_uri": "https://localhost:8080/",
     "height": 73
    },
    "id": "4d60ce4d-16d3-4f12-a1d5-8119aa22310d",
    "outputId": "1d94c483-15ee-4796-d0fd-2ce18602cd45"
   },
   "outputs": [
    {
     "data": {
      "text/html": [
       "<div>\n",
       "<style scoped>\n",
       "    .dataframe tbody tr th:only-of-type {\n",
       "        vertical-align: middle;\n",
       "    }\n",
       "\n",
       "    .dataframe tbody tr th {\n",
       "        vertical-align: top;\n",
       "    }\n",
       "\n",
       "    .dataframe thead th {\n",
       "        text-align: right;\n",
       "    }\n",
       "</style>\n",
       "<table border=\"1\" class=\"dataframe\">\n",
       "  <thead>\n",
       "    <tr style=\"text-align: right;\">\n",
       "      <th></th>\n",
       "      <th>Brand</th>\n",
       "      <th>Year</th>\n",
       "      <th>Model</th>\n",
       "      <th>Car/Suv</th>\n",
       "      <th>Title</th>\n",
       "      <th>UsedOrNew</th>\n",
       "      <th>Transmission</th>\n",
       "      <th>Engine</th>\n",
       "      <th>DriveType</th>\n",
       "      <th>FuelType</th>\n",
       "      <th>FuelConsumption</th>\n",
       "      <th>Kilometres</th>\n",
       "      <th>ColourExtInt</th>\n",
       "      <th>Location</th>\n",
       "      <th>CylindersinEngine</th>\n",
       "      <th>BodyType</th>\n",
       "      <th>Doors</th>\n",
       "      <th>Seats</th>\n",
       "      <th>Price</th>\n",
       "    </tr>\n",
       "  </thead>\n",
       "  <tbody>\n",
       "  </tbody>\n",
       "</table>\n",
       "</div>"
      ],
      "text/plain": [
       "Empty DataFrame\n",
       "Columns: [Brand, Year, Model, Car/Suv, Title, UsedOrNew, Transmission, Engine, DriveType, FuelType, FuelConsumption, Kilometres, ColourExtInt, Location, CylindersinEngine, BodyType, Doors, Seats, Price]\n",
       "Index: []"
      ]
     },
     "execution_count": 68,
     "metadata": {},
     "output_type": "execute_result"
    }
   ],
   "source": [
    "train_df[train_df['BodyType'] == '-']"
   ]
  },
  {
   "cell_type": "code",
   "execution_count": 69,
   "id": "84a53685-0e40-4849-80fe-0d28f4333fd3",
   "metadata": {
    "colab": {
     "base_uri": "https://localhost:8080/"
    },
    "id": "84a53685-0e40-4849-80fe-0d28f4333fd3",
    "outputId": "711e827f-3aa9-4fa8-c666-253c4f512d3f"
   },
   "outputs": [
    {
     "data": {
      "text/plain": [
       "BodyType\n",
       "SUV             5485\n",
       "Hatchback       2168\n",
       "Ute / Tray      2013\n",
       "Sedan           1542\n",
       "Wagon            976\n",
       "Commercial       477\n",
       "Coupe            239\n",
       "Convertible       87\n",
       "People Mover      17\n",
       "Other             16\n",
       "Name: count, dtype: int64"
      ]
     },
     "execution_count": 69,
     "metadata": {},
     "output_type": "execute_result"
    }
   ],
   "source": [
    "train_df.BodyType.value_counts()"
   ]
  },
  {
   "cell_type": "markdown",
   "id": "54100275-224b-405a-802e-99b8c3dee64b",
   "metadata": {
    "id": "54100275-224b-405a-802e-99b8c3dee64b"
   },
   "source": [
    "Посмотрим, какие значения принимает car/suv в случае когда BodyType Null"
   ]
  },
  {
   "cell_type": "code",
   "execution_count": 71,
   "id": "ba370027-7842-4142-9cfb-912a61d7155a",
   "metadata": {
    "colab": {
     "base_uri": "https://localhost:8080/",
     "height": 206
    },
    "id": "ba370027-7842-4142-9cfb-912a61d7155a",
    "outputId": "c85207ad-a1b3-478b-8e11-597949aaf430"
   },
   "outputs": [
    {
     "data": {
      "text/html": [
       "<div>\n",
       "<style scoped>\n",
       "    .dataframe tbody tr th:only-of-type {\n",
       "        vertical-align: middle;\n",
       "    }\n",
       "\n",
       "    .dataframe tbody tr th {\n",
       "        vertical-align: top;\n",
       "    }\n",
       "\n",
       "    .dataframe thead th {\n",
       "        text-align: right;\n",
       "    }\n",
       "</style>\n",
       "<table border=\"1\" class=\"dataframe\">\n",
       "  <thead>\n",
       "    <tr style=\"text-align: right;\">\n",
       "      <th></th>\n",
       "      <th>Car/Suv</th>\n",
       "      <th>BodyType</th>\n",
       "    </tr>\n",
       "  </thead>\n",
       "  <tbody>\n",
       "    <tr>\n",
       "      <th>7594</th>\n",
       "      <td>USED Dealer ad</td>\n",
       "      <td>NaN</td>\n",
       "    </tr>\n",
       "    <tr>\n",
       "      <th>15832</th>\n",
       "      <td>USED Dealer ad</td>\n",
       "      <td>NaN</td>\n",
       "    </tr>\n",
       "    <tr>\n",
       "      <th>4210</th>\n",
       "      <td>USED Dealer ad</td>\n",
       "      <td>NaN</td>\n",
       "    </tr>\n",
       "    <tr>\n",
       "      <th>274</th>\n",
       "      <td>USED Dealer ad</td>\n",
       "      <td>NaN</td>\n",
       "    </tr>\n",
       "    <tr>\n",
       "      <th>4295</th>\n",
       "      <td>USED Dealer ad</td>\n",
       "      <td>NaN</td>\n",
       "    </tr>\n",
       "  </tbody>\n",
       "</table>\n",
       "</div>"
      ],
      "text/plain": [
       "              Car/Suv BodyType\n",
       "7594   USED Dealer ad      NaN\n",
       "15832  USED Dealer ad      NaN\n",
       "4210   USED Dealer ad      NaN\n",
       "274    USED Dealer ad      NaN\n",
       "4295   USED Dealer ad      NaN"
      ]
     },
     "execution_count": 71,
     "metadata": {},
     "output_type": "execute_result"
    }
   ],
   "source": [
    "difference_df = train_df.loc[(train_df['Car/Suv'] != train_df['BodyType']) & ( train_df['BodyType'].isnull())][['Car/Suv','BodyType']]\n",
    "difference_df.head()"
   ]
  },
  {
   "cell_type": "code",
   "execution_count": 72,
   "id": "3b434cff-58d1-4aa4-8f19-a73172d0fdf2",
   "metadata": {
    "colab": {
     "base_uri": "https://localhost:8080/"
    },
    "id": "3b434cff-58d1-4aa4-8f19-a73172d0fdf2",
    "outputId": "deaa115d-be52-4d2e-e2a7-dd6d1a411fda"
   },
   "outputs": [
    {
     "data": {
      "text/plain": [
       "(222, 2)"
      ]
     },
     "execution_count": 72,
     "metadata": {},
     "output_type": "execute_result"
    }
   ],
   "source": [
    "difference_df.shape"
   ]
  },
  {
   "cell_type": "markdown",
   "id": "3d644a74-3461-4cbe-81a7-f5b30c3dc13b",
   "metadata": {
    "id": "3d644a74-3461-4cbe-81a7-f5b30c3dc13b"
   },
   "source": [
    "Всего 222 строк с NAN в BodyType, посмотрим какие категории в Car/Suv соответствуют им и в каком количестве"
   ]
  },
  {
   "cell_type": "code",
   "execution_count": 74,
   "id": "b424709b-6f71-45bb-b884-9f6acc65053d",
   "metadata": {
    "colab": {
     "base_uri": "https://localhost:8080/",
     "height": 237
    },
    "id": "b424709b-6f71-45bb-b884-9f6acc65053d",
    "outputId": "57402ccd-489e-4fd2-f1e8-97acde2d0aa9"
   },
   "outputs": [
    {
     "data": {
      "text/html": [
       "<div>\n",
       "<style scoped>\n",
       "    .dataframe tbody tr th:only-of-type {\n",
       "        vertical-align: middle;\n",
       "    }\n",
       "\n",
       "    .dataframe tbody tr th {\n",
       "        vertical-align: top;\n",
       "    }\n",
       "\n",
       "    .dataframe thead th {\n",
       "        text-align: right;\n",
       "    }\n",
       "</style>\n",
       "<table border=\"1\" class=\"dataframe\">\n",
       "  <thead>\n",
       "    <tr style=\"text-align: right;\">\n",
       "      <th></th>\n",
       "      <th>BodyType</th>\n",
       "    </tr>\n",
       "    <tr>\n",
       "      <th>Car/Suv</th>\n",
       "      <th></th>\n",
       "    </tr>\n",
       "  </thead>\n",
       "  <tbody>\n",
       "    <tr>\n",
       "      <th>02 **** ****\\n</th>\n",
       "      <td>14</td>\n",
       "    </tr>\n",
       "    <tr>\n",
       "      <th>03 **** ****\\n</th>\n",
       "      <td>26</td>\n",
       "    </tr>\n",
       "    <tr>\n",
       "      <th>07 **** ****\\n</th>\n",
       "      <td>3</td>\n",
       "    </tr>\n",
       "    <tr>\n",
       "      <th>08 **** ****\\n</th>\n",
       "      <td>4</td>\n",
       "    </tr>\n",
       "    <tr>\n",
       "      <th>USED Dealer ad</th>\n",
       "      <td>165</td>\n",
       "    </tr>\n",
       "  </tbody>\n",
       "</table>\n",
       "</div>"
      ],
      "text/plain": [
       "                BodyType\n",
       "Car/Suv                 \n",
       "02 **** ****\\n        14\n",
       "03 **** ****\\n        26\n",
       "07 **** ****\\n         3\n",
       "08 **** ****\\n         4\n",
       "USED Dealer ad       165"
      ]
     },
     "execution_count": 74,
     "metadata": {},
     "output_type": "execute_result"
    }
   ],
   "source": [
    "difference_df.BodyType = difference_df.BodyType.isnull()\n",
    "difference_df.groupby('Car/Suv').count()"
   ]
  },
  {
   "cell_type": "markdown",
   "id": "298d2737-8ef7-49f1-9227-3d81fd8ca723",
   "metadata": {
    "id": "298d2737-8ef7-49f1-9227-3d81fd8ca723"
   },
   "source": [
    "Видно, что значения Used Dealer ad очень часто встречается при значениях NAN в колонке BodyType\n",
    "Можно исопльзовать исходные категории прееменной BodyTypе плюс еще две категории где значение в колонке BodyType nan : Used dealer ad  и строковое значение содержащее \"**** ****\" обьядиняющее в себя все возможные вариации такой строки\n"
   ]
  },
  {
   "cell_type": "markdown",
   "id": "ff9b3009-51b8-45f1-810b-83c69be3a21c",
   "metadata": {
    "id": "ff9b3009-51b8-45f1-810b-83c69be3a21c"
   },
   "source": [
    "Колонку же Car/Suv можно не использовать , мы из нее получили необходимую инфрмацию чтобы заполнить пропущенные данные в колонке в Колонке BodyTYpe которая более информативна"
   ]
  },
  {
   "cell_type": "markdown",
   "id": "97ab5588-d43d-4de6-b56b-9cba15c52204",
   "metadata": {
    "id": "97ab5588-d43d-4de6-b56b-9cba15c52204"
   },
   "source": [
    "- Рассмотрим признак UsedOrNew"
   ]
  },
  {
   "cell_type": "code",
   "execution_count": 78,
   "id": "1f396d54-ccf0-4909-a2f7-b21e342751ef",
   "metadata": {
    "colab": {
     "base_uri": "https://localhost:8080/"
    },
    "id": "1f396d54-ccf0-4909-a2f7-b21e342751ef",
    "outputId": "c4e96cc1-1ada-4d3e-edaf-0c2da2f2a2ac"
   },
   "outputs": [
    {
     "data": {
      "text/plain": [
       "False"
      ]
     },
     "execution_count": 78,
     "metadata": {},
     "output_type": "execute_result"
    }
   ],
   "source": [
    "train_df['UsedOrNew'].isnull().any()"
   ]
  },
  {
   "cell_type": "code",
   "execution_count": 79,
   "id": "0662dc88-9d61-45e8-9ab6-c8b15164b69b",
   "metadata": {
    "colab": {
     "base_uri": "https://localhost:8080/"
    },
    "id": "0662dc88-9d61-45e8-9ab6-c8b15164b69b",
    "outputId": "2394008f-0c91-490c-e3e7-aa1d62f01f94"
   },
   "outputs": [
    {
     "data": {
      "text/plain": [
       "UsedOrNew\n",
       "USED    11939\n",
       "NEW       895\n",
       "DEMO      408\n",
       "Name: count, dtype: int64"
      ]
     },
     "execution_count": 79,
     "metadata": {},
     "output_type": "execute_result"
    }
   ],
   "source": [
    "train_df['UsedOrNew'].value_counts()"
   ]
  },
  {
   "cell_type": "code",
   "execution_count": 80,
   "id": "rO26ei2x2Wxl",
   "metadata": {
    "colab": {
     "base_uri": "https://localhost:8080/",
     "height": 472
    },
    "id": "rO26ei2x2Wxl",
    "outputId": "0028d6e6-6c79-45a1-c2f4-a4e327bfcc56"
   },
   "outputs": [
    {
     "data": {
      "image/png": "[encoded data removed]",
      "text/plain": [
       "<Figure size 640x480 with 1 Axes>"
      ]
     },
     "metadata": {},
     "output_type": "display_data"
    }
   ],
   "source": [
    "sns.boxplot(x='UsedOrNew', y='Price', data=train_df)\n",
    "plt.xlabel('UsedOrNew')\n",
    "plt.ylabel('Price')\n",
    "plt.title('Распределение Price от UsedOrNew')\n",
    "plt.show()"
   ]
  },
  {
   "cell_type": "markdown",
   "id": "-mVQMPKk3adC",
   "metadata": {
    "id": "-mVQMPKk3adC"
   },
   "source": [
    "Для New и DEMO распределения имеют схожесть, медины значительно ближе друг к другу в отличие от USED"
   ]
  },
  {
   "cell_type": "markdown",
   "id": "c07f2b3e-cdc3-4231-9b4a-34f47ce29f35",
   "metadata": {
    "id": "c07f2b3e-cdc3-4231-9b4a-34f47ce29f35"
   },
   "source": [
    "Видно, что с этим признаком все хорошо, есть три логичных категории , основная часть это модели с пробегом"
   ]
  },
  {
   "cell_type": "markdown",
   "id": "14806900-328b-4f25-8a11-30c88f810fc0",
   "metadata": {
    "id": "14806900-328b-4f25-8a11-30c88f810fc0"
   },
   "source": [
    "Рассмотрим теперь FuelType"
   ]
  },
  {
   "cell_type": "code",
   "execution_count": 84,
   "id": "ab4b992d-5ac0-4855-81cb-2cf76c354342",
   "metadata": {
    "colab": {
     "base_uri": "https://localhost:8080/"
    },
    "id": "ab4b992d-5ac0-4855-81cb-2cf76c354342",
    "outputId": "dfadf4ff-b1b2-4b4b-f3db-4874704ea679"
   },
   "outputs": [
    {
     "data": {
      "text/plain": [
       "FuelType\n",
       "Unleaded    5576\n",
       "Diesel      3867\n",
       "Premium     2652\n",
       "-            507\n",
       "Hybrid       499\n",
       "Electric      92\n",
       "Other         34\n",
       "LPG           12\n",
       "Leaded         3\n",
       "Name: count, dtype: int64"
      ]
     },
     "execution_count": 84,
     "metadata": {},
     "output_type": "execute_result"
    }
   ],
   "source": [
    "train_df['FuelType'].value_counts()"
   ]
  },
  {
   "cell_type": "markdown",
   "id": "8d036a28-d539-4597-b7c3-2111320efb05",
   "metadata": {
    "id": "8d036a28-d539-4597-b7c3-2111320efb05"
   },
   "source": [
    "Оставим '-' как отдельную категорию , с ней имеется приличное количество примеров в датасете.\n",
    "Погуглил что такое LPG и Leaded\n",
    "- LPG - тип аккумулятора можно отнести к Electric\n",
    "- Leaded - присадка к топливу можно отнести к Premium\n"
   ]
  },
  {
   "cell_type": "markdown",
   "id": "4199a498-9417-41c9-a4c8-049f6f534924",
   "metadata": {
    "id": "4199a498-9417-41c9-a4c8-049f6f534924"
   },
   "source": [
    "- Рассмотрим признак Transmission"
   ]
  },
  {
   "cell_type": "code",
   "execution_count": 87,
   "id": "48e8d4b3-1bb7-49fd-afb4-421092abf416",
   "metadata": {
    "colab": {
     "base_uri": "https://localhost:8080/"
    },
    "id": "48e8d4b3-1bb7-49fd-afb4-421092abf416",
    "outputId": "dd2d882d-d95d-49ae-f940-6f054a842b36"
   },
   "outputs": [
    {
     "data": {
      "text/plain": [
       "Transmission\n",
       "Automatic    11474\n",
       "Manual        1564\n",
       "-              204\n",
       "Name: count, dtype: int64"
      ]
     },
     "execution_count": 87,
     "metadata": {},
     "output_type": "execute_result"
    }
   ],
   "source": [
    "train_df.Transmission.value_counts()"
   ]
  },
  {
   "cell_type": "markdown",
   "id": "ae106a30-0984-4445-b491-dbb04efe8565",
   "metadata": {
    "id": "ae106a30-0984-4445-b491-dbb04efe8565"
   },
   "source": [
    "Видим три категории , категорию '-' можно заменить модой так как очень сильно превалирует категория automatic"
   ]
  },
  {
   "cell_type": "code",
   "execution_count": 89,
   "id": "Qqpk9p1L4pBZ",
   "metadata": {
    "colab": {
     "base_uri": "https://localhost:8080/",
     "height": 472
    },
    "id": "Qqpk9p1L4pBZ",
    "outputId": "a10367da-2f7b-471a-dc98-50b714b5879b"
   },
   "outputs": [
    {
     "data": {
      "image/png": "[encoded data removed]",
      "text/plain": [
       "<Figure size 640x480 with 1 Axes>"
      ]
     },
     "metadata": {},
     "output_type": "display_data"
    }
   ],
   "source": [
    "sns.boxplot(x='Transmission', y='Price', data=train_df)\n",
    "plt.xlabel('Transmission')\n",
    "plt.ylabel('Price')\n",
    "plt.title('Распределение Transmission от UsedOrNew')\n",
    "plt.show()"
   ]
  },
  {
   "cell_type": "markdown",
   "id": "18d5314f-1d38-40e8-919d-ffafabbc8c98",
   "metadata": {
    "id": "18d5314f-1d38-40e8-919d-ffafabbc8c98"
   },
   "source": [
    "- Расмотрим признак Kilometres"
   ]
  },
  {
   "cell_type": "code",
   "execution_count": 91,
   "id": "0c07ce1d-db73-4108-90b2-45feb42620e3",
   "metadata": {
    "colab": {
     "base_uri": "https://localhost:8080/"
    },
    "id": "0c07ce1d-db73-4108-90b2-45feb42620e3",
    "outputId": "80c1067f-240b-4d00-8860-d6327d8f647c"
   },
   "outputs": [
    {
     "data": {
      "text/plain": [
       "False"
      ]
     },
     "execution_count": 91,
     "metadata": {},
     "output_type": "execute_result"
    }
   ],
   "source": [
    "train_df.Kilometres.isna().any()"
   ]
  },
  {
   "cell_type": "markdown",
   "id": "2f09ed56-80a4-4163-be9a-09024980b4de",
   "metadata": {
    "id": "2f09ed56-80a4-4163-be9a-09024980b4de"
   },
   "source": [
    "Хотя и пропущенных значений нет , имеются значения '-' и '- / -' которые необходимо заменить\n"
   ]
  },
  {
   "cell_type": "code",
   "execution_count": 93,
   "id": "8ZTr2R605Vcs",
   "metadata": {
    "colab": {
     "base_uri": "https://localhost:8080/"
    },
    "id": "8ZTr2R605Vcs",
    "outputId": "c6cff70b-26dd-4dfa-c73a-6ee367f4f8f6"
   },
   "outputs": [
    {
     "data": {
      "text/plain": [
       "405"
      ]
     },
     "execution_count": 93,
     "metadata": {},
     "output_type": "execute_result"
    }
   ],
   "source": [
    "train_df[(train_df.Kilometres == '-') | (train_df.Kilometres == '- / -')].Kilometres.count()"
   ]
  },
  {
   "cell_type": "markdown",
   "id": "936f75e3-d0df-4020-b13f-e3fe9bd8bd6f",
   "metadata": {
    "id": "936f75e3-d0df-4020-b13f-e3fe9bd8bd6f"
   },
   "source": [
    "Будем заменять пропущенные значения медианными"
   ]
  },
  {
   "cell_type": "code",
   "execution_count": 95,
   "id": "7c706ba6-d5fd-48e0-ac2e-b5310844eb63",
   "metadata": {
    "colab": {
     "base_uri": "https://localhost:8080/"
    },
    "id": "7c706ba6-d5fd-48e0-ac2e-b5310844eb63",
    "outputId": "8703738d-761e-4686-827a-d2f66f421f7b"
   },
   "outputs": [
    {
     "data": {
      "text/plain": [
       "86143.0"
      ]
     },
     "execution_count": 95,
     "metadata": {},
     "output_type": "execute_result"
    }
   ],
   "source": [
    "train_df[(train_df.Kilometres != '-') & (train_df.Kilometres != '- / -')].Kilometres.astype(int).median()"
   ]
  },
  {
   "cell_type": "markdown",
   "id": "bf1bcab3-0f11-4a80-9a88-2823b54c265f",
   "metadata": {
    "id": "bf1bcab3-0f11-4a80-9a88-2823b54c265f"
   },
   "source": [
    "- Рассмотрим переменную FuelConsumption"
   ]
  },
  {
   "cell_type": "markdown",
   "id": "10829078-8d21-40e4-aa44-cafafa29a67b",
   "metadata": {
    "id": "10829078-8d21-40e4-aa44-cafafa29a67b"
   },
   "source": [
    "Приведем к числовым значениям там где это возможно, после чего заполним пропущенные значения"
   ]
  },
  {
   "cell_type": "code",
   "execution_count": 98,
   "id": "5daf00ef-4f16-4751-bf75-f00c33cdc97d",
   "metadata": {
    "colab": {
     "base_uri": "https://localhost:8080/"
    },
    "id": "5daf00ef-4f16-4751-bf75-f00c33cdc97d",
    "outputId": "b6244428-6ffe-4ac2-c2d5-09b66c924566"
   },
   "outputs": [
    {
     "data": {
      "text/plain": [
       "False"
      ]
     },
     "execution_count": 98,
     "metadata": {},
     "output_type": "execute_result"
    }
   ],
   "source": [
    "train_df.FuelConsumption.isna().any()"
   ]
  },
  {
   "cell_type": "code",
   "execution_count": 99,
   "id": "7f3f5b11-4b9d-4303-953c-40012ccdeb86",
   "metadata": {
    "id": "7f3f5b11-4b9d-4303-953c-40012ccdeb86"
   },
   "outputs": [],
   "source": [
    "train_df.FuelConsumption = train_df.FuelConsumption.apply(lambda x: float(x.split('L')[0]) if x and x != '-' else np.nan)"
   ]
  },
  {
   "cell_type": "code",
   "execution_count": 100,
   "id": "21f0f549-e0bc-430e-b2f9-a598acb185ea",
   "metadata": {
    "colab": {
     "base_uri": "https://localhost:8080/",
     "height": 607
    },
    "id": "21f0f549-e0bc-430e-b2f9-a598acb185ea",
    "outputId": "55cb860d-cf6e-4124-b7f4-d5410eb63135"
   },
   "outputs": [
    {
     "data": {
      "image/png": "[encoded data removed]",
      "text/plain": [
       "<Figure size 1000x600 with 1 Axes>"
      ]
     },
     "metadata": {},
     "output_type": "display_data"
    }
   ],
   "source": [
    "plt.figure(figsize=(10, 6))\n",
    "\n",
    "train_df.FuelConsumption.hist(bins=50, edgecolor='black', linewidth=1)  # Настроить границы столбцов\n",
    "\n",
    "plt.xlabel('Fuel Consumption')\n",
    "plt.ylabel('Frequency')\n",
    "plt.title('Распределение Fuel Consumption')\n",
    "plt.grid(True, alpha=0.5)\n",
    "plt.tight_layout()\n",
    "\n",
    "plt.show()\n"
   ]
  },
  {
   "cell_type": "code",
   "execution_count": 101,
   "id": "a7190f8f-8627-4ff1-a394-57aa5c9e6732",
   "metadata": {
    "colab": {
     "base_uri": "https://localhost:8080/"
    },
    "id": "a7190f8f-8627-4ff1-a394-57aa5c9e6732",
    "outputId": "c33052fb-2114-4165-a79c-c2c2ca232784"
   },
   "outputs": [
    {
     "data": {
      "text/plain": [
       "1334"
      ]
     },
     "execution_count": 101,
     "metadata": {},
     "output_type": "execute_result"
    }
   ],
   "source": [
    "train_df.FuelConsumption.isna().sum()"
   ]
  },
  {
   "cell_type": "markdown",
   "id": "cbeb3ce5-6023-4162-a6d0-5b30f9976b52",
   "metadata": {
    "id": "cbeb3ce5-6023-4162-a6d0-5b30f9976b52"
   },
   "source": [
    "Видим приличное количество значений 0 и близко к этому при расходе топлива - это не выброс , это иза электромобилей и гибридных авто"
   ]
  },
  {
   "cell_type": "code",
   "execution_count": 103,
   "id": "a6cd78d9-deb2-4942-90e4-429407f1cac0",
   "metadata": {
    "colab": {
     "base_uri": "https://localhost:8080/",
     "height": 486
    },
    "id": "a6cd78d9-deb2-4942-90e4-429407f1cac0",
    "outputId": "c346c0a1-78b8-4ca3-9d6f-8951fe5035be"
   },
   "outputs": [
    {
     "data": {
      "text/html": [
       "<div>\n",
       "<style scoped>\n",
       "    .dataframe tbody tr th:only-of-type {\n",
       "        vertical-align: middle;\n",
       "    }\n",
       "\n",
       "    .dataframe tbody tr th {\n",
       "        vertical-align: top;\n",
       "    }\n",
       "\n",
       "    .dataframe thead th {\n",
       "        text-align: right;\n",
       "    }\n",
       "</style>\n",
       "<table border=\"1\" class=\"dataframe\">\n",
       "  <thead>\n",
       "    <tr style=\"text-align: right;\">\n",
       "      <th></th>\n",
       "      <th>Brand</th>\n",
       "      <th>Year</th>\n",
       "      <th>Model</th>\n",
       "      <th>Car/Suv</th>\n",
       "      <th>Title</th>\n",
       "      <th>UsedOrNew</th>\n",
       "      <th>Transmission</th>\n",
       "      <th>Engine</th>\n",
       "      <th>DriveType</th>\n",
       "      <th>FuelType</th>\n",
       "      <th>FuelConsumption</th>\n",
       "      <th>Kilometres</th>\n",
       "      <th>ColourExtInt</th>\n",
       "      <th>Location</th>\n",
       "      <th>CylindersinEngine</th>\n",
       "      <th>BodyType</th>\n",
       "      <th>Doors</th>\n",
       "      <th>Seats</th>\n",
       "      <th>Price</th>\n",
       "    </tr>\n",
       "  </thead>\n",
       "  <tbody>\n",
       "    <tr>\n",
       "      <th>7594</th>\n",
       "      <td>Mazda</td>\n",
       "      <td>2019.0</td>\n",
       "      <td>3</td>\n",
       "      <td>USED Dealer ad</td>\n",
       "      <td>2019 Mazda 3</td>\n",
       "      <td>USED</td>\n",
       "      <td>Automatic</td>\n",
       "      <td>-</td>\n",
       "      <td>Front</td>\n",
       "      <td>Unleaded</td>\n",
       "      <td>NaN</td>\n",
       "      <td>18664</td>\n",
       "      <td>Red / 2019/05</td>\n",
       "      <td>Dandenong South, VIC</td>\n",
       "      <td>-</td>\n",
       "      <td>NaN</td>\n",
       "      <td>NaN</td>\n",
       "      <td>NaN</td>\n",
       "      <td>30990.0</td>\n",
       "    </tr>\n",
       "    <tr>\n",
       "      <th>12403</th>\n",
       "      <td>LDV</td>\n",
       "      <td>2020.0</td>\n",
       "      <td>V80</td>\n",
       "      <td>Qld 4x4 Pty Ltd</td>\n",
       "      <td>2020 LDV V80 HIGH ROOF LONG WHEEL</td>\n",
       "      <td>USED</td>\n",
       "      <td>Automatic</td>\n",
       "      <td>-</td>\n",
       "      <td>Other</td>\n",
       "      <td>Diesel</td>\n",
       "      <td>NaN</td>\n",
       "      <td>61972</td>\n",
       "      <td>White / -</td>\n",
       "      <td>Baringa, QLD</td>\n",
       "      <td>-</td>\n",
       "      <td>Commercial</td>\n",
       "      <td>NaN</td>\n",
       "      <td>NaN</td>\n",
       "      <td>29999.0</td>\n",
       "    </tr>\n",
       "    <tr>\n",
       "      <th>15832</th>\n",
       "      <td>BMW</td>\n",
       "      <td>1975.0</td>\n",
       "      <td>2002</td>\n",
       "      <td>USED Dealer ad</td>\n",
       "      <td>1975 BMW 2002</td>\n",
       "      <td>USED</td>\n",
       "      <td>Automatic</td>\n",
       "      <td>-</td>\n",
       "      <td>Rear</td>\n",
       "      <td>Leaded</td>\n",
       "      <td>NaN</td>\n",
       "      <td>110306</td>\n",
       "      <td>Green / Cream Cloth</td>\n",
       "      <td>Rozelle, NSW</td>\n",
       "      <td>-</td>\n",
       "      <td>NaN</td>\n",
       "      <td>NaN</td>\n",
       "      <td>NaN</td>\n",
       "      <td>39990.0</td>\n",
       "    </tr>\n",
       "    <tr>\n",
       "      <th>12387</th>\n",
       "      <td>Nissan</td>\n",
       "      <td>2015.0</td>\n",
       "      <td>Navara</td>\n",
       "      <td>Qld 4x4 Pty Ltd</td>\n",
       "      <td>2015 Nissan Navara ST</td>\n",
       "      <td>USED</td>\n",
       "      <td>Manual</td>\n",
       "      <td>-</td>\n",
       "      <td>Other</td>\n",
       "      <td>Diesel</td>\n",
       "      <td>NaN</td>\n",
       "      <td>169969</td>\n",
       "      <td>Black / -</td>\n",
       "      <td>Baringa, QLD</td>\n",
       "      <td>-</td>\n",
       "      <td>Ute / Tray</td>\n",
       "      <td>NaN</td>\n",
       "      <td>NaN</td>\n",
       "      <td>29999.0</td>\n",
       "    </tr>\n",
       "    <tr>\n",
       "      <th>16690</th>\n",
       "      <td>Mercedes-Benz</td>\n",
       "      <td>2013.0</td>\n",
       "      <td>Sprinter</td>\n",
       "      <td>M &amp; G Motors</td>\n",
       "      <td>2013 Mercedes-Benz Sprinter 313 CDI</td>\n",
       "      <td>USED</td>\n",
       "      <td>Automatic</td>\n",
       "      <td>-</td>\n",
       "      <td>Other</td>\n",
       "      <td>-</td>\n",
       "      <td>NaN</td>\n",
       "      <td>339589</td>\n",
       "      <td>White / -</td>\n",
       "      <td>Braybrook, VIC</td>\n",
       "      <td>-</td>\n",
       "      <td>Commercial</td>\n",
       "      <td>NaN</td>\n",
       "      <td>NaN</td>\n",
       "      <td>19988.0</td>\n",
       "    </tr>\n",
       "  </tbody>\n",
       "</table>\n",
       "</div>"
      ],
      "text/plain": [
       "               Brand    Year     Model          Car/Suv  \\\n",
       "7594           Mazda  2019.0         3   USED Dealer ad   \n",
       "12403            LDV  2020.0       V80  Qld 4x4 Pty Ltd   \n",
       "15832            BMW  1975.0      2002   USED Dealer ad   \n",
       "12387         Nissan  2015.0    Navara  Qld 4x4 Pty Ltd   \n",
       "16690  Mercedes-Benz  2013.0  Sprinter     M & G Motors   \n",
       "\n",
       "                                     Title UsedOrNew Transmission Engine  \\\n",
       "7594                          2019 Mazda 3      USED    Automatic      -   \n",
       "12403    2020 LDV V80 HIGH ROOF LONG WHEEL      USED    Automatic      -   \n",
       "15832                        1975 BMW 2002      USED    Automatic      -   \n",
       "12387                2015 Nissan Navara ST      USED       Manual      -   \n",
       "16690  2013 Mercedes-Benz Sprinter 313 CDI      USED    Automatic      -   \n",
       "\n",
       "      DriveType  FuelType  FuelConsumption Kilometres         ColourExtInt  \\\n",
       "7594      Front  Unleaded              NaN      18664        Red / 2019/05   \n",
       "12403     Other    Diesel              NaN      61972            White / -   \n",
       "15832      Rear    Leaded              NaN     110306  Green / Cream Cloth   \n",
       "12387     Other    Diesel              NaN     169969            Black / -   \n",
       "16690     Other         -              NaN     339589            White / -   \n",
       "\n",
       "                   Location CylindersinEngine    BodyType Doors Seats    Price  \n",
       "7594   Dandenong South, VIC                 -         NaN   NaN   NaN  30990.0  \n",
       "12403          Baringa, QLD                 -  Commercial   NaN   NaN  29999.0  \n",
       "15832          Rozelle, NSW                 -         NaN   NaN   NaN  39990.0  \n",
       "12387          Baringa, QLD                 -  Ute / Tray   NaN   NaN  29999.0  \n",
       "16690        Braybrook, VIC                 -  Commercial   NaN   NaN  19988.0  "
      ]
     },
     "execution_count": 103,
     "metadata": {},
     "output_type": "execute_result"
    }
   ],
   "source": [
    "train_df[train_df.FuelConsumption.isna()].head()"
   ]
  },
  {
   "cell_type": "markdown",
   "id": "788f61ab-3a28-4bfc-bdb8-b7163938b237",
   "metadata": {
    "id": "788f61ab-3a28-4bfc-bdb8-b7163938b237"
   },
   "source": [
    "- Расмсмотрим в паре две признака - Engine и CylindersinEngine.\n",
    "Видно что они свзаны  между собой - первое занчение в Engine - это и есть значение CylindersinEngine"
   ]
  },
  {
   "cell_type": "code",
   "execution_count": 105,
   "id": "f32f184e-b5db-42ed-8248-4d66e3a1b745",
   "metadata": {
    "colab": {
     "base_uri": "https://localhost:8080/",
     "height": 206
    },
    "id": "f32f184e-b5db-42ed-8248-4d66e3a1b745",
    "outputId": "b3494b4e-cbeb-4380-9b56-04f129ca570a"
   },
   "outputs": [
    {
     "data": {
      "text/html": [
       "<div>\n",
       "<style scoped>\n",
       "    .dataframe tbody tr th:only-of-type {\n",
       "        vertical-align: middle;\n",
       "    }\n",
       "\n",
       "    .dataframe tbody tr th {\n",
       "        vertical-align: top;\n",
       "    }\n",
       "\n",
       "    .dataframe thead th {\n",
       "        text-align: right;\n",
       "    }\n",
       "</style>\n",
       "<table border=\"1\" class=\"dataframe\">\n",
       "  <thead>\n",
       "    <tr style=\"text-align: right;\">\n",
       "      <th></th>\n",
       "      <th>Engine</th>\n",
       "      <th>CylindersinEngine</th>\n",
       "    </tr>\n",
       "  </thead>\n",
       "  <tbody>\n",
       "    <tr>\n",
       "      <th>7594</th>\n",
       "      <td>-</td>\n",
       "      <td>-</td>\n",
       "    </tr>\n",
       "    <tr>\n",
       "      <th>10634</th>\n",
       "      <td>4 cyl, 1.5 L</td>\n",
       "      <td>4 cyl</td>\n",
       "    </tr>\n",
       "    <tr>\n",
       "      <th>4411</th>\n",
       "      <td>4 cyl, 2.2 L</td>\n",
       "      <td>4 cyl</td>\n",
       "    </tr>\n",
       "    <tr>\n",
       "      <th>12403</th>\n",
       "      <td>-</td>\n",
       "      <td>-</td>\n",
       "    </tr>\n",
       "    <tr>\n",
       "      <th>9982</th>\n",
       "      <td>4 cyl, 2 L</td>\n",
       "      <td>4 cyl</td>\n",
       "    </tr>\n",
       "  </tbody>\n",
       "</table>\n",
       "</div>"
      ],
      "text/plain": [
       "             Engine CylindersinEngine\n",
       "7594              -                 -\n",
       "10634  4 cyl, 1.5 L             4 cyl\n",
       "4411   4 cyl, 2.2 L             4 cyl\n",
       "12403             -                 -\n",
       "9982     4 cyl, 2 L             4 cyl"
      ]
     },
     "execution_count": 105,
     "metadata": {},
     "output_type": "execute_result"
    }
   ],
   "source": [
    "train_df[['Engine','CylindersinEngine']].head()"
   ]
  },
  {
   "cell_type": "code",
   "execution_count": 106,
   "id": "f3ce1dd6-e5f0-4f04-93de-19081f2a361e",
   "metadata": {
    "colab": {
     "base_uri": "https://localhost:8080/"
    },
    "id": "f3ce1dd6-e5f0-4f04-93de-19081f2a361e",
    "outputId": "9b30edd1-3954-41e8-e539-db578af1fcf5"
   },
   "outputs": [
    {
     "data": {
      "text/plain": [
       "13242"
      ]
     },
     "execution_count": 106,
     "metadata": {},
     "output_type": "execute_result"
    }
   ],
   "source": [
    "(train_df.Engine.apply(lambda x: x.split(',')[0]) == train_df.CylindersinEngine).sum()"
   ]
  },
  {
   "cell_type": "markdown",
   "id": "f7434bf2-c86b-46e0-bda9-5ca3dca97220",
   "metadata": {
    "id": "f7434bf2-c86b-46e0-bda9-5ca3dca97220"
   },
   "source": [
    "Поэтому используем только второе значение у Engine"
   ]
  },
  {
   "cell_type": "code",
   "execution_count": 108,
   "id": "714d3666-636d-491e-b7a0-7c6883eb3d68",
   "metadata": {
    "colab": {
     "base_uri": "https://localhost:8080/"
    },
    "id": "714d3666-636d-491e-b7a0-7c6883eb3d68",
    "outputId": "014db122-3888-46c5-b484-b83ff7687c84"
   },
   "outputs": [
    {
     "data": {
      "text/plain": [
       "7594                -\n",
       "10634    4 cyl, 1.5 L\n",
       "4411     4 cyl, 2.2 L\n",
       "12403               -\n",
       "9982       4 cyl, 2 L\n",
       "             ...     \n",
       "11285    4 cyl, 2.5 L\n",
       "11965               -\n",
       "5391     4 cyl, 2.8 L\n",
       "860        4 cyl, 2 L\n",
       "15796               -\n",
       "Name: Engine, Length: 13242, dtype: object"
      ]
     },
     "execution_count": 108,
     "metadata": {},
     "output_type": "execute_result"
    }
   ],
   "source": [
    "train_df.Engine"
   ]
  },
  {
   "cell_type": "code",
   "execution_count": 109,
   "id": "573a0649-eb4c-44a9-a07a-1d6f76408e2c",
   "metadata": {
    "colab": {
     "base_uri": "https://localhost:8080/"
    },
    "id": "573a0649-eb4c-44a9-a07a-1d6f76408e2c",
    "outputId": "7e940ef0-c502-4abd-a91d-4d69e7f80ee7"
   },
   "outputs": [
    {
     "data": {
      "text/plain": [
       "CylindersinEngine\n",
       "4 cyl     9184\n",
       "6 cyl     1627\n",
       "-         1319\n",
       "8 cyl      444\n",
       "5 cyl      315\n",
       "3 cyl      258\n",
       "0 L         85\n",
       "12 cyl       5\n",
       "2 cyl        3\n",
       "10 cyl       1\n",
       "2 L          1\n",
       "Name: count, dtype: int64"
      ]
     },
     "execution_count": 109,
     "metadata": {},
     "output_type": "execute_result"
    }
   ],
   "source": [
    "train_df.CylindersinEngine.value_counts()"
   ]
  },
  {
   "cell_type": "markdown",
   "id": "58a18dc5-9904-465f-8c9b-7cb8e4f9c6da",
   "metadata": {
    "id": "58a18dc5-9904-465f-8c9b-7cb8e4f9c6da"
   },
   "source": [
    "- Для CylindersinEngine заменим на категорию с прочерком все цилиндры и значения которых мало меньше 86"
   ]
  },
  {
   "cell_type": "markdown",
   "id": "14eaae9e-679c-413b-9458-73bc0cf90de3",
   "metadata": {
    "id": "14eaae9e-679c-413b-9458-73bc0cf90de3"
   },
   "source": [
    "Получим второе значение из признака Engine"
   ]
  },
  {
   "cell_type": "code",
   "execution_count": 112,
   "id": "3bb89807-f43c-469d-96f3-75cd9278fe7d",
   "metadata": {
    "colab": {
     "base_uri": "https://localhost:8080/",
     "height": 607
    },
    "id": "3bb89807-f43c-469d-96f3-75cd9278fe7d",
    "outputId": "a334988f-1587-4c55-b6a3-a15424bfc933"
   },
   "outputs": [
    {
     "data": {
      "image/png": "[encoded data removed]",
      "text/plain": [
       "<Figure size 1000x600 with 1 Axes>"
      ]
     },
     "metadata": {},
     "output_type": "display_data"
    }
   ],
   "source": [
    "def extract_liters(value):\n",
    "    match = re.search(r'(\\d+\\.?\\d*) L', value)\n",
    "    return float(match.group(1)) if match else np.nan\n",
    "engine_vals = train_df.Engine.apply(extract_liters)\n",
    "plt.figure(figsize=(10, 6))\n",
    "\n",
    "engine_vals.hist(bins=30, edgecolor='black', linewidth=1)\n",
    "\n",
    "plt.xlabel('Engine V')\n",
    "plt.ylabel('Frequency')\n",
    "plt.title('Распределение Engibe V')\n",
    "plt.grid(True, alpha=0.5)\n",
    "plt.tight_layout()\n",
    "\n",
    "plt.show()"
   ]
  },
  {
   "cell_type": "code",
   "execution_count": 113,
   "id": "339f32eb-1cbb-494d-8beb-cdf16b29d60f",
   "metadata": {
    "colab": {
     "base_uri": "https://localhost:8080/"
    },
    "id": "339f32eb-1cbb-494d-8beb-cdf16b29d60f",
    "outputId": "64142e2d-5fec-410e-f7a2-525dbfa21e46"
   },
   "outputs": [
    {
     "data": {
      "text/plain": [
       "1320"
      ]
     },
     "execution_count": 113,
     "metadata": {},
     "output_type": "execute_result"
    }
   ],
   "source": [
    "engine_vals.isna().sum()"
   ]
  },
  {
   "cell_type": "code",
   "execution_count": 114,
   "id": "de8f2c29-7122-49df-83db-683260ce67eb",
   "metadata": {
    "colab": {
     "base_uri": "https://localhost:8080/"
    },
    "id": "de8f2c29-7122-49df-83db-683260ce67eb",
    "outputId": "752f778c-6356-4c69-cccf-56aa2c1b6785"
   },
   "outputs": [
    {
     "data": {
      "text/plain": [
       "7594     NaN\n",
       "10634    1.5\n",
       "4411     2.2\n",
       "12403    NaN\n",
       "9982     2.0\n",
       "        ... \n",
       "11285    2.5\n",
       "11965    NaN\n",
       "5391     2.8\n",
       "860      2.0\n",
       "15796    NaN\n",
       "Name: Engine, Length: 13242, dtype: float64"
      ]
     },
     "execution_count": 114,
     "metadata": {},
     "output_type": "execute_result"
    }
   ],
   "source": [
    "engine_vals"
   ]
  },
  {
   "cell_type": "markdown",
   "id": "3f0d6270-cbc5-431c-8c6b-598b53e73942",
   "metadata": {
    "id": "3f0d6270-cbc5-431c-8c6b-598b53e73942"
   },
   "source": [
    "Опять же отталкиваясь от категории, если электричка то 0(медиана среди электрических авто), если гибрид медиана среди гибридов все остальное медиана среди омтальных категорий\n"
   ]
  },
  {
   "cell_type": "markdown",
   "id": "b439356a-19cf-40d4-bf50-b9c3cc72d8da",
   "metadata": {
    "id": "b439356a-19cf-40d4-bf50-b9c3cc72d8da"
   },
   "source": [
    "- Рассмотрим DriveType"
   ]
  },
  {
   "cell_type": "code",
   "execution_count": 117,
   "id": "8f8e38b7-2b31-41c1-80db-27330b5b248c",
   "metadata": {
    "colab": {
     "base_uri": "https://localhost:8080/",
     "height": 465
    },
    "id": "8f8e38b7-2b31-41c1-80db-27330b5b248c",
    "outputId": "142b82e4-0c93-40a6-e16b-b3cefd1a7b7b"
   },
   "outputs": [
    {
     "data": {
      "image/png": "[encoded data removed]",
      "text/plain": [
       "<Figure size 800x500 with 1 Axes>"
      ]
     },
     "metadata": {},
     "output_type": "display_data"
    }
   ],
   "source": [
    "plt.figure(figsize=(8,5))\n",
    "ax = sns.countplot(data=train_df, x='DriveType')\n",
    "for i in ax.containers:\n",
    "    ax.bar_label(i,)\n",
    "\n",
    "plt.show()"
   ]
  },
  {
   "cell_type": "markdown",
   "id": "325aca85-aa9d-4dfa-a89e-3c1ccf2364f7",
   "metadata": {
    "id": "325aca85-aa9d-4dfa-a89e-3c1ccf2364f7"
   },
   "source": [
    "Категориальная переменная без пропущенных и каких либо значений"
   ]
  },
  {
   "cell_type": "markdown",
   "id": "21f53dc7-db2e-4b74-81bb-22ef4f08a1b8",
   "metadata": {
    "id": "21f53dc7-db2e-4b74-81bb-22ef4f08a1b8"
   },
   "source": [
    "- Рассмотрим переменную ColourExtInt.\n",
    "Выберем первую часть цвета , несущую основную информацию"
   ]
  },
  {
   "cell_type": "code",
   "execution_count": 120,
   "id": "401f4693-a513-40b6-a00a-4c9f5bbd1578",
   "metadata": {
    "colab": {
     "base_uri": "https://localhost:8080/"
    },
    "id": "401f4693-a513-40b6-a00a-4c9f5bbd1578",
    "outputId": "cf7b7203-4b97-4916-bbd7-b6beabb73d24"
   },
   "outputs": [
    {
     "data": {
      "text/plain": [
       "ColourExtInt\n",
       "White        4765\n",
       "Silver       1830\n",
       "Grey         1820\n",
       "Black        1542\n",
       "Blue         1252\n",
       "Red           887\n",
       "-             310\n",
       "5 years       204\n",
       "Green         131\n",
       "Brown         113\n",
       "Gold          107\n",
       "Orange         85\n",
       "Yellow         64\n",
       "3 years        48\n",
       "6 years        22\n",
       "7 years        20\n",
       "4 years         8\n",
       "Beige           8\n",
       "Purple          8\n",
       "Burgundy        7\n",
       "Bronze          6\n",
       "1 years         2\n",
       "Pink            1\n",
       "Cream           1\n",
       "Turquoise       1\n",
       "Name: count, dtype: int64"
      ]
     },
     "execution_count": 120,
     "metadata": {},
     "output_type": "execute_result"
    }
   ],
   "source": [
    "train_df.ColourExtInt.apply(lambda x: x.split(' / ')[0]).value_counts()"
   ]
  },
  {
   "cell_type": "code",
   "execution_count": 121,
   "id": "Kd9L4E4I7DJw",
   "metadata": {
    "colab": {
     "base_uri": "https://localhost:8080/"
    },
    "id": "Kd9L4E4I7DJw",
    "outputId": "b15c3d15-416a-48b5-f6e2-6924b103d640"
   },
   "outputs": [
    {
     "data": {
      "text/plain": [
       "ColourExtInt\n",
       "-                          6165\n",
       "Black                      3803\n",
       "Grey                       1147\n",
       "Cloth                       241\n",
       "Black Leather               238\n",
       "                           ... \n",
       "Grey/Black                    1\n",
       "Ebony Mason                   1\n",
       "2017/07                       1\n",
       "2021/05                       1\n",
       "Black Synthetic Leather       1\n",
       "Name: count, Length: 385, dtype: int64"
      ]
     },
     "execution_count": 121,
     "metadata": {},
     "output_type": "execute_result"
    }
   ],
   "source": [
    "train_df.ColourExtInt.apply(lambda x: x.split(' / ')[1]).value_counts()"
   ]
  },
  {
   "cell_type": "markdown",
   "id": "Lg_UMTbw7hly",
   "metadata": {
    "id": "Lg_UMTbw7hly"
   },
   "source": []
  },
  {
   "cell_type": "markdown",
   "id": "e8598920-a2c0-43ae-9a30-9bc4e5bc0933",
   "metadata": {
    "id": "e8598920-a2c0-43ae-9a30-9bc4e5bc0933"
   },
   "source": [
    "Категории у которых указывается все что связано с годом (не понятно почему, но категрия получается более 300 примеров) соберем в одну категорию Other"
   ]
  },
  {
   "cell_type": "markdown",
   "id": "kOlNOkLq7_Gg",
   "metadata": {
    "id": "kOlNOkLq7_Gg"
   },
   "source": [
    "- Title"
   ]
  },
  {
   "cell_type": "markdown",
   "id": "009ef86e-4d08-41a9-ae17-ad5bbb8d8949",
   "metadata": {
    "id": "009ef86e-4d08-41a9-ae17-ad5bbb8d8949"
   },
   "source": [
    "Рассмотрим признак который характеризует полное название авто, он в себе содержит части из столбцов таблицы рассмотренных ранее проверим есть ли что то еще информативное в нем\n",
    "- Уберем первые три слова в описании - это в основном известная информация , посмотрим встречается лм еще что то часто похожее не признак, Обычно важна не только модель машины но и еще ее шильдик (sport,quattro)\n",
    "- Посмотрим, что в основном выводится после как дополнительные указания к модели"
   ]
  },
  {
   "cell_type": "code",
   "execution_count": 126,
   "id": "a59aa954-4441-42cd-850b-3a8955fb9ab3",
   "metadata": {
    "colab": {
     "base_uri": "https://localhost:8080/"
    },
    "id": "a59aa954-4441-42cd-850b-3a8955fb9ab3",
    "outputId": "f851a288-24ea-4883-ec41-6b70afa13ce3"
   },
   "outputs": [
    {
     "data": {
      "text/plain": [
       "7594                          \n",
       "10634                     Maxx\n",
       "4411     XL 2.2 HI-Rider (4X2)\n",
       "12403     HIGH ROOF LONG WHEEL\n",
       "9982                    Active\n",
       "                 ...          \n",
       "11285            Luxury Hybrid\n",
       "11965                       MD\n",
       "5391                 PRO (4X4)\n",
       "860                        NEO\n",
       "15796                   G10+21\n",
       "Name: Title, Length: 13242, dtype: object"
      ]
     },
     "execution_count": 126,
     "metadata": {},
     "output_type": "execute_result"
    }
   ],
   "source": [
    "def remove_first_three_words(text):\n",
    "    return ' '.join(text.split()[3:]) if len(text.split()) > 3 else ''\n",
    "\n",
    "train_df['Title'].apply(remove_first_three_words)"
   ]
  },
  {
   "cell_type": "markdown",
   "id": "3e2a1fe6-a206-4249-94ad-9fbe6b32a296",
   "metadata": {
    "id": "3e2a1fe6-a206-4249-94ad-9fbe6b32a296"
   },
   "source": [
    "Видны уже известные категории по типу привода авто (4x4) и тд, также надо удалить знаечния через точку и числа просто, они не информативные это может быть например литраж двигателя который есть в другой переменной"
   ]
  },
  {
   "cell_type": "code",
   "execution_count": 128,
   "id": "96427d47-a4e8-4608-a9d1-6f54f70fcbfd",
   "metadata": {
    "colab": {
     "base_uri": "https://localhost:8080/"
    },
    "id": "96427d47-a4e8-4608-a9d1-6f54f70fcbfd",
    "outputId": "0db7b4a7-aa18-4c7c-faf8-0bcff01d0b61"
   },
   "outputs": [
    {
     "name": "stdout",
     "output_type": "stream",
     "text": [
      "Самые часто встречающиеся слова:\n",
      "Sport: 791\n",
      "S: 541\n",
      "Active: 454\n",
      "TSI: 425\n",
      "Hybrid: 363\n",
      "ST: 344\n",
      "Ascent: 330\n",
      "Seat: 276\n",
      "GXL: 275\n",
      "LS: 256\n",
      "GT: 241\n",
      "Tfsi: 225\n",
      "Premium: 218\n",
      "TDI: 217\n",
      "Quattro: 217\n"
     ]
    }
   ],
   "source": [
    "def remove_words_in_parentheses(text):\n",
    "    text = re.sub(r'\\([^)]*\\)', '', text)\n",
    "    text = re.sub(r'\\b\\d+\\.\\d+\\b', '', text)\n",
    "    text = re.sub(r'\\b\\d+', '', text)\n",
    "    return text\n",
    "\n",
    "\n",
    "temp = train_df['Title'].apply(remove_first_three_words)\n",
    "temp = temp.apply(remove_words_in_parentheses)\n",
    "\n",
    "all_words = ' '.join(temp).split()\n",
    "\n",
    "word_counts = Counter(all_words)\n",
    "\n",
    "top_words = word_counts.most_common(15)\n",
    "print(\"Самые часто встречающиеся слова:\")\n",
    "for word, count in top_words:\n",
    "    print(f\"{word}: {count}\")"
   ]
  },
  {
   "cell_type": "code",
   "execution_count": 129,
   "id": "23acaa0a-4a1c-42e2-99a6-e1ecaf074d4b",
   "metadata": {
    "colab": {
     "base_uri": "https://localhost:8080/"
    },
    "id": "23acaa0a-4a1c-42e2-99a6-e1ecaf074d4b",
    "outputId": "aafbaaf5-5edd-42fb-b03e-1bdbaef7f003"
   },
   "outputs": [
    {
     "data": {
      "text/plain": [
       "['Sport',\n",
       " 'S',\n",
       " 'Active',\n",
       " 'TSI',\n",
       " 'Hybrid',\n",
       " 'ST',\n",
       " 'Ascent',\n",
       " 'Seat',\n",
       " 'GXL',\n",
       " 'LS',\n",
       " 'GT',\n",
       " 'Tfsi',\n",
       " 'Premium',\n",
       " 'TDI',\n",
       " 'Quattro']"
      ]
     },
     "execution_count": 129,
     "metadata": {},
     "output_type": "execute_result"
    }
   ],
   "source": [
    "list(map(lambda x: x[0],top_words))"
   ]
  },
  {
   "cell_type": "markdown",
   "id": "ce50be32-7292-4943-9437-cacdf68482aa",
   "metadata": {
    "id": "ce50be32-7292-4943-9437-cacdf68482aa"
   },
   "source": [
    "Будем использовать найденные категории просто как дополнительные бинарные признаки (есть ли в строке Title (1) или нет(0)). В ходе кросс валидации определим оптимальное их количество."
   ]
  },
  {
   "cell_type": "markdown",
   "id": "2edd711a-dee5-49a3-8111-91d71ef8214b",
   "metadata": {
    "id": "2edd711a-dee5-49a3-8111-91d71ef8214b"
   },
   "source": [
    "- Рассмотрим Location"
   ]
  },
  {
   "cell_type": "code",
   "execution_count": 132,
   "id": "f9eaf223-f4bd-4786-8b45-7b12dec3ef10",
   "metadata": {
    "colab": {
     "base_uri": "https://localhost:8080/"
    },
    "id": "f9eaf223-f4bd-4786-8b45-7b12dec3ef10",
    "outputId": "7d8940b6-3346-41ba-f11f-7a0452d9f6cb"
   },
   "outputs": [
    {
     "data": {
      "text/plain": [
       "Location\n",
       "Minchinbury, NSW         426\n",
       "Blacktown, NSW           224\n",
       "Liverpool, NSW           212\n",
       "Hoppers Crossing, VIC    183\n",
       "Bentley, WA              170\n",
       "                        ... \n",
       "Wellington, NSW            1\n",
       "Coomera, QLD               1\n",
       "West Tamworth, NSW         1\n",
       "Collie, WA                 1\n",
       "Goodwood, SA               1\n",
       "Name: count, Length: 606, dtype: int64"
      ]
     },
     "execution_count": 132,
     "metadata": {},
     "output_type": "execute_result"
    }
   ],
   "source": [
    "train_df.Location.value_counts()"
   ]
  },
  {
   "cell_type": "code",
   "execution_count": 133,
   "id": "648f99eb-241e-49d1-9aea-d5faad8d0d67",
   "metadata": {
    "colab": {
     "base_uri": "https://localhost:8080/"
    },
    "id": "648f99eb-241e-49d1-9aea-d5faad8d0d67",
    "outputId": "8dc24be9-e317-45a7-d0ee-24ef18bb4002"
   },
   "outputs": [
    {
     "data": {
      "text/plain": [
       "Location\n",
       "NSW       6401\n",
       "VIC       3871\n",
       "QLD       2745\n",
       "WA        1791\n",
       "SA         800\n",
       "ACT        381\n",
       "TAS        214\n",
       "NT          80\n",
       "AU-VIC       1\n",
       "Name: count, dtype: int64"
      ]
     },
     "execution_count": 133,
     "metadata": {},
     "output_type": "execute_result"
    }
   ],
   "source": [
    "df['Location'].str.split(', ').str[1].value_counts()"
   ]
  },
  {
   "cell_type": "markdown",
   "id": "696ea2b0-6be1-41a1-bfa9-3edfe44c99b2",
   "metadata": {
    "id": "696ea2b0-6be1-41a1-bfa9-3edfe44c99b2"
   },
   "source": [
    "AU-VIC можно добавить к VIC"
   ]
  },
  {
   "cell_type": "markdown",
   "id": "f54ec7f8-b2c6-45bf-9a60-2db045b3977d",
   "metadata": {
    "id": "f54ec7f8-b2c6-45bf-9a60-2db045b3977d"
   },
   "source": [
    "- Рассмотрим Doors"
   ]
  },
  {
   "cell_type": "code",
   "execution_count": 136,
   "id": "6af606f6-9ee3-428b-b2e8-3e6976883113",
   "metadata": {
    "colab": {
     "base_uri": "https://localhost:8080/"
    },
    "id": "6af606f6-9ee3-428b-b2e8-3e6976883113",
    "outputId": "c55e5961-eb97-4212-86ea-8e644e07c1b7"
   },
   "outputs": [
    {
     "data": {
      "text/plain": [
       "1259"
      ]
     },
     "execution_count": 136,
     "metadata": {},
     "output_type": "execute_result"
    }
   ],
   "source": [
    "train_df.Doors.isna().sum()"
   ]
  },
  {
   "cell_type": "code",
   "execution_count": 137,
   "id": "c54f5f12-1999-446c-b027-928d8ba16e30",
   "metadata": {
    "colab": {
     "base_uri": "https://localhost:8080/"
    },
    "id": "c54f5f12-1999-446c-b027-928d8ba16e30",
    "outputId": "b16211d3-9c8b-411a-cd86-9e267d1a0546"
   },
   "outputs": [
    {
     "data": {
      "text/plain": [
       "Doors\n",
       "4 Doors     8898\n",
       "5 Doors     2011\n",
       "2 Doors      843\n",
       "3 Doors      171\n",
       "5 Seats       19\n",
       "6 Seats        8\n",
       "2 Seats        8\n",
       "8 Seats        8\n",
       "7 Seats        5\n",
       "3 Seats        5\n",
       "9 Seats        4\n",
       "4 Seats        2\n",
       "12 Seats       1\n",
       "Name: count, dtype: int64"
      ]
     },
     "execution_count": 137,
     "metadata": {},
     "output_type": "execute_result"
    }
   ],
   "source": [
    "train_df.Doors.value_counts()"
   ]
  },
  {
   "cell_type": "markdown",
   "id": "b5cad410-c518-4b45-8a31-2f8332693158",
   "metadata": {
    "id": "b5cad410-c518-4b45-8a31-2f8332693158"
   },
   "source": [
    "Необходимо удалить малочисленные ощибочные значения и заменить их модой , также как и nan значения"
   ]
  },
  {
   "cell_type": "code",
   "execution_count": 139,
   "id": "2bcef9b0-2c53-452f-bd03-dae4fb7b65df",
   "metadata": {
    "colab": {
     "base_uri": "https://localhost:8080/"
    },
    "id": "2bcef9b0-2c53-452f-bd03-dae4fb7b65df",
    "outputId": "7786f205-8952-4bb1-dfd2-3b609f1002e3"
   },
   "outputs": [
    {
     "data": {
      "text/plain": [
       "Seats\n",
       "5 Seats     8998\n",
       "7 Seats     1424\n",
       "4 Seats      511\n",
       "2 Seats      452\n",
       "3 Seats      252\n",
       "8 Seats      226\n",
       "6 Seats       23\n",
       "14 Seats       8\n",
       "12 Seats       4\n",
       "11 Seats       3\n",
       "22 Seats       2\n",
       "9 Seats        2\n",
       "15 Seats       1\n",
       "Name: count, dtype: int64"
      ]
     },
     "execution_count": 139,
     "metadata": {},
     "output_type": "execute_result"
    }
   ],
   "source": [
    "train_df.Seats.value_counts()"
   ]
  },
  {
   "cell_type": "code",
   "execution_count": 140,
   "id": "feb827c9-3f2a-4f4c-958f-3228b541e8e6",
   "metadata": {
    "colab": {
     "base_uri": "https://localhost:8080/"
    },
    "id": "feb827c9-3f2a-4f4c-958f-3228b541e8e6",
    "outputId": "34e25cc4-a3d5-42eb-aa65-f8c17ad4cd0f"
   },
   "outputs": [
    {
     "data": {
      "text/plain": [
       "1336"
      ]
     },
     "execution_count": 140,
     "metadata": {},
     "output_type": "execute_result"
    }
   ],
   "source": [
    "train_df.Seats.isna().sum()"
   ]
  },
  {
   "cell_type": "markdown",
   "id": "cc80a789-2f95-40d7-a14a-b7e77fd26fc7",
   "metadata": {
    "id": "cc80a789-2f95-40d7-a14a-b7e77fd26fc7"
   },
   "source": [
    "Сделаем категорию 9+ seats туда собрать все категории где сидений больше чем 9 включительно"
   ]
  },
  {
   "cell_type": "markdown",
   "id": "fca6fa7e-9156-46e6-91f8-1606830ace6d",
   "metadata": {
    "id": "fca6fa7e-9156-46e6-91f8-1606830ace6d"
   },
   "source": [
    "Напишем свой класс наследник BaseEstimator и TransformerMixin который будет позволять обработать и трансформировать наши датасет"
   ]
  },
  {
   "cell_type": "markdown",
   "id": "b4a3e18b-019b-4adc-9844-e6a8dc41b714",
   "metadata": {},
   "source": [
    "Также опишем новые созданные признаки, которые добавляются в датасет в ходе выполнения кода выше"
   ]
  },
  {
   "cell_type": "markdown",
   "id": "Q_AB401v9CTS",
   "metadata": {
    "id": "Q_AB401v9CTS"
   },
   "source": [
    "Преобразуем Price у df_train и df_test c флагом drop_outlers=False, фактичеки очистив датасеты только от строк где таргет не является числом"
   ]
  },
  {
   "cell_type": "code",
   "execution_count": 145,
   "id": "aff34f5e-f6ca-4450-b967-f057dc2d469c",
   "metadata": {
    "id": "aff34f5e-f6ca-4450-b967-f057dc2d469c"
   },
   "outputs": [],
   "source": [
    "pt = PriceTransformer()\n",
    "\n",
    "pt.fit(df_train)\n",
    "df_train = pt.transform(df_train,drop_outlers=False)\n",
    "df_test = pt.transform(df_test,drop_outlers=False)"
   ]
  },
  {
   "cell_type": "markdown",
   "id": "GeUWi6mu-OIQ",
   "metadata": {
    "id": "GeUWi6mu-OIQ"
   },
   "source": [
    "Преобразуем train датафрейм , не выбрасывая таргет для удобства"
   ]
  },
  {
   "cell_type": "code",
   "execution_count": 146,
   "id": "fc9ed57a-ed2d-4b75-84b3-3a567a4f1a00",
   "metadata": {
    "colab": {
     "base_uri": "https://localhost:8080/"
    },
    "id": "fc9ed57a-ed2d-4b75-84b3-3a567a4f1a00",
    "outputId": "b7349ddd-5229-488c-a88b-2fa2d0112b04"
   },
   "outputs": [
    {
     "name": "stdout",
     "output_type": "stream",
     "text": [
      "<class 'pandas.core.frame.DataFrame'>\n",
      "Index: 13348 entries, 7594 to 15796\n",
      "Data columns (total 34 columns):\n",
      " #   Column                Non-Null Count  Dtype  \n",
      "---  ------                --------------  -----  \n",
      " 0   Brand                 13348 non-null  object \n",
      " 1   Year                  13348 non-null  float64\n",
      " 2   Model                 13348 non-null  object \n",
      " 3   UsedOrNew             13348 non-null  object \n",
      " 4   Transmission          13348 non-null  object \n",
      " 5   Engine                13348 non-null  float64\n",
      " 6   DriveType             13348 non-null  object \n",
      " 7   FuelType              13348 non-null  object \n",
      " 8   FuelConsumption       13348 non-null  float64\n",
      " 9   Kilometres            13348 non-null  float64\n",
      " 10  ColourExtInt          13348 non-null  object \n",
      " 11  Location              13348 non-null  object \n",
      " 12  CylindersinEngine     13348 non-null  object \n",
      " 13  BodyType              13348 non-null  object \n",
      " 14  Doors                 13348 non-null  object \n",
      " 15  Seats                 13348 non-null  object \n",
      " 16  Price                 13348 non-null  int64  \n",
      " 17  Sport                 13348 non-null  int64  \n",
      " 18  S                     13348 non-null  int64  \n",
      " 19  Active                13348 non-null  int64  \n",
      " 20  TSI                   13348 non-null  int64  \n",
      " 21  Hybrid                13348 non-null  int64  \n",
      " 22  ST                    13348 non-null  int64  \n",
      " 23  Ascent                13348 non-null  int64  \n",
      " 24  Seat                  13348 non-null  int64  \n",
      " 25  GXL                   13348 non-null  int64  \n",
      " 26  LS                    13348 non-null  int64  \n",
      " 27  GT                    13348 non-null  int64  \n",
      " 28  Tfsi                  13348 non-null  int64  \n",
      " 29  Quattro               13348 non-null  int64  \n",
      " 30  Premium               13348 non-null  int64  \n",
      " 31  TDI                   13348 non-null  int64  \n",
      " 32  AvgKilometresPerYear  13348 non-null  float64\n",
      " 33  EnginePerCylinder     13348 non-null  float64\n",
      "dtypes: float64(6), int64(16), object(12)\n",
      "memory usage: 3.6+ MB\n"
     ]
    }
   ],
   "source": [
    "base_transformer = BaseDataTransformer()\n",
    "temp_df = base_transformer.fit_transform(df_train)\n",
    "temp_df.info()"
   ]
  },
  {
   "cell_type": "markdown",
   "id": "RwoRv22pBd1a",
   "metadata": {
    "id": "RwoRv22pBd1a"
   },
   "source": [
    "Выше мы сделали генерацию новых признаков из Title { модификации авто (Sport , TDI и тд) } причем количество используемых этих фич настраивается на валидационной выборке.\n",
    "\n",
    "-\n",
    "Теперь посмотрим можно ли получить еще какие то признаки.\n",
    "Создадим стобец CarAge который будет равен сколько лет авто относительно текущего года. Его будем использовать для создания другого столбца, который описавывает средний ежегодный пробег авто.\n"
   ]
  },
  {
   "cell_type": "markdown",
   "id": "6ECyLmNGB-gd",
   "metadata": {
    "id": "6ECyLmNGB-gd"
   },
   "source": [
    "- Еще признак получим как обьём двигателя на цилиндр.\n"
   ]
  },
  {
   "cell_type": "code",
   "execution_count": 150,
   "id": "nj4Qk3SDCkvg",
   "metadata": {
    "id": "nj4Qk3SDCkvg"
   },
   "outputs": [],
   "source": [
    "current_year = datetime.datetime.now().year\n",
    "temp_df['CarAge'] = current_year - temp_df['Year']\n",
    "\n",
    "temp_df['AvgKilometresPerYear'] = temp_df['Kilometres'] / temp_df['CarAge']\n",
    "\n",
    "def convert_cylinders(cyl):\n",
    "    if '-' in cyl or 'L' in cyl:\n",
    "        return 4 #мода по категории \n",
    "    return float(cyl.replace(' cyl', ''))\n",
    "\n",
    "temp_df['CylindersinEngine'] = temp_df['CylindersinEngine'].apply(convert_cylinders)\n",
    "\n",
    "temp_df['EnginePerCylinder'] = temp_df['Engine'] /temp_df['CylindersinEngine']"
   ]
  },
  {
   "cell_type": "markdown",
   "id": "SmE2xuYxDSxp",
   "metadata": {
    "id": "SmE2xuYxDSxp"
   },
   "source": [
    "Посмтроим матрицу корреляций для наших числовых признаков"
   ]
  },
  {
   "cell_type": "code",
   "execution_count": 152,
   "id": "wERqv737Dckl",
   "metadata": {
    "colab": {
     "base_uri": "https://localhost:8080/",
     "height": 836
    },
    "id": "wERqv737Dckl",
    "outputId": "6586a344-c729-416c-b513-6b0a900c6a9a"
   },
   "outputs": [
    {
     "data": {
      "image/png": "[encoded data removed]",
      "text/plain": [
       "<Figure size 1000x800 with 2 Axes>"
      ]
     },
     "metadata": {},
     "output_type": "display_data"
    }
   ],
   "source": [
    "numeric_columns = ['Kilometres', 'Year', 'Engine', 'FuelConsumption', 'CarAge', 'AvgKilometresPerYear', 'Price','EnginePerCylinder']\n",
    "\n",
    "pearson_corr_matrix = temp_df[numeric_columns].corr(method='pearson')\n",
    "\n",
    "plt.figure(figsize=(10, 8))\n",
    "sns.heatmap(pearson_corr_matrix, annot=True, cmap='coolwarm', vmin=-1, vmax=1)\n",
    "plt.title('Pearson Correlation Matrix')\n",
    "plt.show()"
   ]
  },
  {
   "cell_type": "markdown",
   "id": "160363a0-08de-4a94-aa13-a8ccae4b5c64",
   "metadata": {},
   "source": [
    "- Обучим модель Catboost , при помощи randomsearchCV подбирая гиперпараметры"
   ]
  },
  {
   "cell_type": "code",
   "execution_count": 154,
   "id": "c995062c-5013-4b9e-a49f-7b8905021949",
   "metadata": {},
   "outputs": [],
   "source": [
    "#numeric_columns = ['Kilometres','Year', 'Engine', 'FuelConsumption']\n",
    "#categorical_columns = df_train.drop(numeric_columns + ['Car/Suv','Price','Title'], axis=1).columns\n",
    "\n",
    "\n",
    "#preprocessor = ColumnTransformer(\n",
    "#    transformers=[\n",
    "#        ('num', StandardScaler(), ['Kilometres', 'Year', 'Engine', 'FuelConsumption', 'EnginePerCylinder', 'AvgKilometresPerYear']),\n",
    "#        ('cat', LabelEncoder(), categorical_columns)\n",
    "#    ]\n",
    "#)\n",
    "\n",
    "#pipeline = Pipeline(steps=[\n",
    "#    ('transformer', BaseDataTransformer()),\n",
    "#    ('preprocessor', preprocessor),\n",
    "#    ('regressor', CatBoostRegressor())\n",
    "#])\n",
    "\n",
    "#param_dist = {\n",
    "#    'transformer__threshold_brands': [0, 2,5, 10, 20, 30,100,190],\n",
    "#    'transformer__threshold_cylindersin': [2,5,50, 80, 86, 100, 120],\n",
    "#    'transformer__threshold_models': [2,5,10, 20,40,70],\n",
    "#    'transformer__num_new_features': [0, 10, 15, 20, 30, 40, 45,  50, 60],\n",
    "#    'regressor__iterations': randint(2700, 3500),\n",
    "#    #'regressor__depth': randint(5, 15),\n",
    "#    #'regressor__learning_rate': [0.01, 0.05, 0.1],\n",
    "#    #'regressor__l2_leaf_reg': randint(3, 10),\n",
    "#}\n",
    "\n",
    "#random_search = RandomizedSearchCV(pipeline, param_distributions=param_dist,\n",
    "#                                  n_iter=70, cv=3, n_jobs=-1, scoring='r2',\n",
    "#                                  verbose=2, random_state=42)\n",
    "\n",
    "#X_train, y_train = df_train.drop(['Price'], axis=1), df_train['Price']\n",
    "#X_test, y_test = df_test.drop(['Price'], axis=1), df_test['Price']\n",
    "\n",
    "#random_search.fit(X_train, y_train)\n",
    "\n",
    "#print(\"Лучшие параметры:\", random_search.best_params_)\n",
    "\n",
    "\n",
    "\n",
    "#y_pred = random_search.predict(X_test)\n",
    "\n",
    "#mse = mean_absolute_error(y_test,y_pred)\n",
    "#rmse = mse ** 0.5\n",
    "#r2 = r2_score(y_test, y_pred)\n",
    "\n",
    "\n",
    "#print(f\"MAE: {mae:.3f}\")\n",
    "#print(f\"RMSE: {rmse:.3f}\")\n",
    "#print(f\"R2: {r2:.3f}\")"
   ]
  },
  {
   "cell_type": "markdown",
   "id": "0888684c-563a-452e-8374-9de518439112",
   "metadata": {},
   "source": [
    "Несколько раз в RandomSearch выпадал с одинаковыми значениями гиперпараметров помимо 'regressor__iterations': 2763"
   ]
  },
  {
   "cell_type": "markdown",
   "id": "7e9f4734-bb34-4d07-95e1-88cd2786c5d5",
   "metadata": {},
   "source": [
    "0.87 {'regressor__iterations': 2763, 'transformer__num_new_features': 60, 'transformer__threshold_brands': 5, 'transformer__threshold_cylindersin': 86, 'transformer__threshold_models': 10\n",
    "\n",
    "0.86 {'regressor__iterations': 2019, 'transformer__num_new_features': 60, 'transformer__threshold_brands': 5, 'transformer__threshold_cylindersin': 86, 'transformer__threshold_models': 10}\n",
    "\n",
    "0.83 {'regressor__iterations': 1585, 'transformer__num_new_features': 30, 'transformer__threshold_brands': 0, 'transformer__threshold_cylindersin': 80, 'transformer__threshold_models': 5"
   ]
  },
  {
   "cell_type": "markdown",
   "id": "d4987980-085a-481d-a2f2-5cbb5982726f",
   "metadata": {},
   "source": [
    "Зафиксируем гиперпараметры data transformer'a , значительно увеличим количсевто итераций добавив регуляризацию "
   ]
  },
  {
   "cell_type": "code",
   "execution_count": 244,
   "id": "178330f3-2316-460d-b9ea-15d13f407aa0",
   "metadata": {
    "scrolled": true
   },
   "outputs": [
    {
     "name": "stdout",
     "output_type": "stream",
     "text": [
      "0:\tlearn: 36689.7417076\ttotal: 9.21ms\tremaining: 4m 36s\n",
      "1000:\tlearn: 13629.1347711\ttotal: 4.25s\tremaining: 2m 3s\n",
      "2000:\tlearn: 9970.3377380\ttotal: 8.28s\tremaining: 1m 55s\n",
      "3000:\tlearn: 8370.9932829\ttotal: 13.6s\tremaining: 2m 2s\n",
      "4000:\tlearn: 7446.1803892\ttotal: 17.8s\tremaining: 1m 55s\n",
      "5000:\tlearn: 6847.3517543\ttotal: 22.5s\tremaining: 1m 52s\n",
      "6000:\tlearn: 6374.9779177\ttotal: 29s\tremaining: 1m 55s\n",
      "7000:\tlearn: 6016.5524325\ttotal: 35s\tremaining: 1m 55s\n",
      "8000:\tlearn: 5717.1730640\ttotal: 40.9s\tremaining: 1m 52s\n",
      "9000:\tlearn: 5456.2264442\ttotal: 47.1s\tremaining: 1m 49s\n",
      "10000:\tlearn: 5217.1631239\ttotal: 53.3s\tremaining: 1m 46s\n",
      "11000:\tlearn: 5012.7708214\ttotal: 59s\tremaining: 1m 41s\n",
      "12000:\tlearn: 4825.0326344\ttotal: 1m 4s\tremaining: 1m 37s\n",
      "13000:\tlearn: 4661.5569420\ttotal: 1m 10s\tremaining: 1m 31s\n",
      "14000:\tlearn: 4523.2045631\ttotal: 1m 15s\tremaining: 1m 26s\n",
      "15000:\tlearn: 4395.6624216\ttotal: 1m 21s\tremaining: 1m 21s\n",
      "16000:\tlearn: 4279.8821943\ttotal: 1m 26s\tremaining: 1m 15s\n",
      "17000:\tlearn: 4169.2524998\ttotal: 1m 31s\tremaining: 1m 10s\n",
      "18000:\tlearn: 4069.0474743\ttotal: 1m 37s\tremaining: 1m 5s\n",
      "19000:\tlearn: 3970.3613123\ttotal: 1m 43s\tremaining: 59.8s\n",
      "20000:\tlearn: 3878.7414063\ttotal: 1m 47s\tremaining: 53.9s\n",
      "21000:\tlearn: 3795.3969944\ttotal: 1m 53s\tremaining: 48.5s\n",
      "22000:\tlearn: 3716.1443701\ttotal: 1m 58s\tremaining: 43.1s\n",
      "23000:\tlearn: 3641.8202187\ttotal: 2m 3s\tremaining: 37.7s\n",
      "24000:\tlearn: 3568.7494723\ttotal: 2m 9s\tremaining: 32.3s\n",
      "25000:\tlearn: 3500.7713368\ttotal: 2m 14s\tremaining: 26.8s\n",
      "26000:\tlearn: 3432.7206883\ttotal: 2m 19s\tremaining: 21.4s\n",
      "27000:\tlearn: 3368.1652739\ttotal: 2m 24s\tremaining: 16.1s\n",
      "28000:\tlearn: 3307.4588848\ttotal: 2m 29s\tremaining: 10.7s\n",
      "29000:\tlearn: 3248.8399738\ttotal: 2m 35s\tremaining: 5.34s\n",
      "29999:\tlearn: 3192.1261200\ttotal: 2m 40s\tremaining: 0us\n",
      "MAE: 4981.73234\n",
      "RMSE: 12644.00358\n",
      "R2: 0.88510\n"
     ]
    }
   ],
   "source": [
    "numeric_columns = ['Kilometres','Year', 'Engine', 'FuelConsumption']\n",
    "categorical_columns = df_train.drop(numeric_columns + ['Car/Suv','Price','Title'], axis=1).columns\n",
    "\n",
    "preprocessor = ColumnTransformer(\n",
    "    transformers=[\n",
    "        ('num', StandardScaler(), ['Kilometres','Year', 'Engine', 'FuelConsumption','EnginePerCylinder','AvgKilometresPerYear']),\n",
    "        ('cat', OneHotEncoder(handle_unknown='ignore'), categorical_columns)\n",
    "    ]\n",
    ")\n",
    "\n",
    "pipeline_catboost = Pipeline(steps=[\n",
    "    ('transformer', BaseDataTransformer(threshold_brands=5,\n",
    "                                        threshold_cylindersin=90,\n",
    "                                        threshold_models=10,\n",
    "                                        num_new_features=15)),\n",
    "    ('preprocessor', preprocessor),\n",
    "    ('regressor', CatBoostRegressor(task_type=\"CPU\", iterations=30000,verbose=1000,l2_leaf_reg=10))\n",
    "])\n",
    "\n",
    "X_train, y_train = df_train.drop(['Price'], axis=1), df_train['Price']\n",
    "X_test, y_test = df_test.drop(['Price'], axis=1), df_test['Price']\n",
    "\n",
    "pipeline_catboost.fit(X_train, y_train)\n",
    "\n",
    "y_pred = pipeline_catboost.predict(X_test)\n",
    "\n",
    "mse = mean_squared_error(y_test, y_pred)\n",
    "mae = mean_absolute_error(y_test,y_pred)\n",
    "rmse = mse ** 0.5\n",
    "r2 = r2_score(y_test, y_pred)\n",
    "\n",
    "print(f\"MAE: {mae:.5f}\")\n",
    "print(f\"RMSE: {rmse:.5f}\")\n",
    "print(f\"R2: {r2:.5f}\")"
   ]
  },
  {
   "cell_type": "markdown",
   "id": "60873bc3-410f-4c80-9226-4dddb40d7eb7",
   "metadata": {},
   "source": [
    "- Теперь попробуем найти параметры для LGBM"
   ]
  },
  {
   "cell_type": "code",
   "execution_count": 160,
   "id": "380006fd-f364-4df5-bc90-92a5fedc2326",
   "metadata": {},
   "outputs": [
    {
     "name": "stdout",
     "output_type": "stream",
     "text": [
      "Fitting 3 folds for each of 70 candidates, totalling 210 fits\n",
      "[LightGBM] [Info] Auto-choosing row-wise multi-threading, the overhead of testing was 0.002092 seconds.\n",
      "You can set `force_row_wise=true` to remove the overhead.\n",
      "And if memory is not enough, you can set `force_col_wise=true`.\n",
      "[LightGBM] [Info] Total Bins 1236\n",
      "[LightGBM] [Info] Number of data points in the train set: 13348, number of used features: 233\n",
      "[LightGBM] [Info] Start training from score 37255.187743\n",
      "[LightGBM] [Warning] No further splits with positive gain, best gain: -inf\n",
      "[LightGBM] [Warning] No further splits with positive gain, best gain: -inf\n",
      "[LightGBM] [Warning] No further splits with positive gain, best gain: -inf\n",
      "[LightGBM] [Warning] No further splits with positive gain, best gain: -inf\n",
      "[LightGBM] [Warning] No further splits with positive gain, best gain: -inf\n",
      "[LightGBM] [Warning] No further splits with positive gain, best gain: -inf\n",
      "[LightGBM] [Warning] No further splits with positive gain, best gain: -inf\n",
      "[LightGBM] [Warning] No further splits with positive gain, best gain: -inf\n",
      "[LightGBM] [Warning] No further splits with positive gain, best gain: -inf\n",
      "[LightGBM] [Warning] No further splits with positive gain, best gain: -inf\n",
      "[LightGBM] [Warning] No further splits with positive gain, best gain: -inf\n",
      "[LightGBM] [Warning] No further splits with positive gain, best gain: -inf\n",
      "[LightGBM] [Warning] No further splits with positive gain, best gain: -inf\n",
      "[LightGBM] [Warning] No further splits with positive gain, best gain: -inf\n",
      "[LightGBM] [Warning] No further splits with positive gain, best gain: -inf\n",
      "[LightGBM] [Warning] No further splits with positive gain, best gain: -inf\n",
      "[LightGBM] [Warning] No further splits with positive gain, best gain: -inf\n",
      "[LightGBM] [Warning] No further splits with positive gain, best gain: -inf\n",
      "[LightGBM] [Warning] No further splits with positive gain, best gain: -inf\n",
      "[LightGBM] [Warning] No further splits with positive gain, best gain: -inf\n",
      "[LightGBM] [Warning] No further splits with positive gain, best gain: -inf\n",
      "[LightGBM] [Warning] No further splits with positive gain, best gain: -inf\n",
      "[LightGBM] [Warning] No further splits with positive gain, best gain: -inf\n",
      "[LightGBM] [Warning] No further splits with positive gain, best gain: -inf\n",
      "[LightGBM] [Warning] No further splits with positive gain, best gain: -inf\n",
      "[LightGBM] [Warning] No further splits with positive gain, best gain: -inf\n",
      "[LightGBM] [Warning] No further splits with positive gain, best gain: -inf\n",
      "[LightGBM] [Warning] No further splits with positive gain, best gain: -inf\n",
      "[LightGBM] [Warning] No further splits with positive gain, best gain: -inf\n",
      "[LightGBM] [Warning] No further splits with positive gain, best gain: -inf\n",
      "[LightGBM] [Warning] No further splits with positive gain, best gain: -inf\n",
      "[LightGBM] [Warning] No further splits with positive gain, best gain: -inf\n",
      "[LightGBM] [Warning] No further splits with positive gain, best gain: -inf\n",
      "[LightGBM] [Warning] No further splits with positive gain, best gain: -inf\n",
      "[LightGBM] [Warning] No further splits with positive gain, best gain: -inf\n",
      "[LightGBM] [Warning] No further splits with positive gain, best gain: -inf\n",
      "[LightGBM] [Warning] No further splits with positive gain, best gain: -inf\n",
      "[LightGBM] [Warning] No further splits with positive gain, best gain: -inf\n",
      "[LightGBM] [Warning] No further splits with positive gain, best gain: -inf\n",
      "[LightGBM] [Warning] No further splits with positive gain, best gain: -inf\n",
      "[LightGBM] [Warning] No further splits with positive gain, best gain: -inf\n",
      "[LightGBM] [Warning] No further splits with positive gain, best gain: -inf\n",
      "[LightGBM] [Warning] No further splits with positive gain, best gain: -inf\n",
      "[LightGBM] [Warning] No further splits with positive gain, best gain: -inf\n",
      "[LightGBM] [Warning] No further splits with positive gain, best gain: -inf\n",
      "[LightGBM] [Warning] No further splits with positive gain, best gain: -inf\n",
      "[LightGBM] [Warning] No further splits with positive gain, best gain: -inf\n",
      "[LightGBM] [Warning] No further splits with positive gain, best gain: -inf\n",
      "[LightGBM] [Warning] No further splits with positive gain, best gain: -inf\n",
      "[LightGBM] [Warning] No further splits with positive gain, best gain: -inf\n",
      "[LightGBM] [Warning] No further splits with positive gain, best gain: -inf\n",
      "[LightGBM] [Warning] No further splits with positive gain, best gain: -inf\n",
      "[LightGBM] [Warning] No further splits with positive gain, best gain: -inf\n",
      "[LightGBM] [Warning] No further splits with positive gain, best gain: -inf\n",
      "[LightGBM] [Warning] No further splits with positive gain, best gain: -inf\n",
      "[LightGBM] [Warning] No further splits with positive gain, best gain: -inf\n",
      "[LightGBM] [Warning] No further splits with positive gain, best gain: -inf\n",
      "[LightGBM] [Warning] No further splits with positive gain, best gain: -inf\n",
      "[LightGBM] [Warning] No further splits with positive gain, best gain: -inf\n",
      "[LightGBM] [Warning] No further splits with positive gain, best gain: -inf\n",
      "[LightGBM] [Warning] No further splits with positive gain, best gain: -inf\n",
      "[LightGBM] [Warning] No further splits with positive gain, best gain: -inf\n",
      "[LightGBM] [Warning] No further splits with positive gain, best gain: -inf\n",
      "[LightGBM] [Warning] No further splits with positive gain, best gain: -inf\n",
      "[LightGBM] [Warning] No further splits with positive gain, best gain: -inf\n",
      "[LightGBM] [Warning] No further splits with positive gain, best gain: -inf\n",
      "[LightGBM] [Warning] No further splits with positive gain, best gain: -inf\n",
      "[LightGBM] [Warning] No further splits with positive gain, best gain: -inf\n",
      "[LightGBM] [Warning] No further splits with positive gain, best gain: -inf\n",
      "[LightGBM] [Warning] No further splits with positive gain, best gain: -inf\n",
      "[LightGBM] [Warning] No further splits with positive gain, best gain: -inf\n",
      "[LightGBM] [Warning] No further splits with positive gain, best gain: -inf\n",
      "[LightGBM] [Warning] No further splits with positive gain, best gain: -inf\n",
      "[LightGBM] [Warning] No further splits with positive gain, best gain: -inf\n",
      "[LightGBM] [Warning] No further splits with positive gain, best gain: -inf\n",
      "[LightGBM] [Warning] No further splits with positive gain, best gain: -inf\n",
      "[LightGBM] [Warning] No further splits with positive gain, best gain: -inf\n",
      "[LightGBM] [Warning] No further splits with positive gain, best gain: -inf\n",
      "[LightGBM] [Warning] No further splits with positive gain, best gain: -inf\n",
      "[LightGBM] [Warning] No further splits with positive gain, best gain: -inf\n",
      "[LightGBM] [Warning] No further splits with positive gain, best gain: -inf\n",
      "[LightGBM] [Warning] No further splits with positive gain, best gain: -inf\n",
      "[LightGBM] [Warning] No further splits with positive gain, best gain: -inf\n",
      "[LightGBM] [Warning] No further splits with positive gain, best gain: -inf\n",
      "[LightGBM] [Warning] No further splits with positive gain, best gain: -inf\n",
      "[LightGBM] [Warning] No further splits with positive gain, best gain: -inf\n",
      "[LightGBM] [Warning] No further splits with positive gain, best gain: -inf\n",
      "[LightGBM] [Warning] No further splits with positive gain, best gain: -inf\n",
      "[LightGBM] [Warning] No further splits with positive gain, best gain: -inf\n",
      "[LightGBM] [Warning] No further splits with positive gain, best gain: -inf\n",
      "[LightGBM] [Warning] No further splits with positive gain, best gain: -inf\n",
      "[LightGBM] [Warning] No further splits with positive gain, best gain: -inf\n",
      "[LightGBM] [Warning] No further splits with positive gain, best gain: -inf\n",
      "[LightGBM] [Warning] No further splits with positive gain, best gain: -inf\n",
      "[LightGBM] [Warning] No further splits with positive gain, best gain: -inf\n",
      "[LightGBM] [Warning] No further splits with positive gain, best gain: -inf\n",
      "[LightGBM] [Warning] No further splits with positive gain, best gain: -inf\n",
      "[LightGBM] [Warning] No further splits with positive gain, best gain: -inf\n",
      "[LightGBM] [Warning] No further splits with positive gain, best gain: -inf\n",
      "[LightGBM] [Warning] No further splits with positive gain, best gain: -inf\n",
      "[LightGBM] [Warning] No further splits with positive gain, best gain: -inf\n",
      "[LightGBM] [Warning] No further splits with positive gain, best gain: -inf\n",
      "[LightGBM] [Warning] No further splits with positive gain, best gain: -inf\n",
      "[LightGBM] [Warning] No further splits with positive gain, best gain: -inf\n",
      "[LightGBM] [Warning] No further splits with positive gain, best gain: -inf\n",
      "[LightGBM] [Warning] No further splits with positive gain, best gain: -inf\n",
      "[LightGBM] [Warning] No further splits with positive gain, best gain: -inf\n",
      "[LightGBM] [Warning] No further splits with positive gain, best gain: -inf\n",
      "[LightGBM] [Warning] No further splits with positive gain, best gain: -inf\n",
      "[LightGBM] [Warning] No further splits with positive gain, best gain: -inf\n",
      "[LightGBM] [Warning] No further splits with positive gain, best gain: -inf\n",
      "[LightGBM] [Warning] No further splits with positive gain, best gain: -inf\n",
      "[LightGBM] [Warning] No further splits with positive gain, best gain: -inf\n",
      "[LightGBM] [Warning] No further splits with positive gain, best gain: -inf\n",
      "[LightGBM] [Warning] No further splits with positive gain, best gain: -inf\n",
      "[LightGBM] [Warning] No further splits with positive gain, best gain: -inf\n",
      "[LightGBM] [Warning] No further splits with positive gain, best gain: -inf\n",
      "[LightGBM] [Warning] No further splits with positive gain, best gain: -inf\n",
      "[LightGBM] [Warning] No further splits with positive gain, best gain: -inf\n",
      "[LightGBM] [Warning] No further splits with positive gain, best gain: -inf\n",
      "[LightGBM] [Warning] No further splits with positive gain, best gain: -inf\n",
      "[LightGBM] [Warning] No further splits with positive gain, best gain: -inf\n",
      "[LightGBM] [Warning] No further splits with positive gain, best gain: -inf\n",
      "[LightGBM] [Warning] No further splits with positive gain, best gain: -inf\n",
      "[LightGBM] [Warning] No further splits with positive gain, best gain: -inf\n",
      "[LightGBM] [Warning] No further splits with positive gain, best gain: -inf\n",
      "[LightGBM] [Warning] No further splits with positive gain, best gain: -inf\n",
      "[LightGBM] [Warning] No further splits with positive gain, best gain: -inf\n",
      "[LightGBM] [Warning] No further splits with positive gain, best gain: -inf\n",
      "[LightGBM] [Warning] No further splits with positive gain, best gain: -inf\n",
      "[LightGBM] [Warning] No further splits with positive gain, best gain: -inf\n",
      "[LightGBM] [Warning] No further splits with positive gain, best gain: -inf\n",
      "[LightGBM] [Warning] No further splits with positive gain, best gain: -inf\n",
      "[LightGBM] [Warning] No further splits with positive gain, best gain: -inf\n",
      "[LightGBM] [Warning] No further splits with positive gain, best gain: -inf\n",
      "[LightGBM] [Warning] No further splits with positive gain, best gain: -inf\n",
      "[LightGBM] [Warning] No further splits with positive gain, best gain: -inf\n",
      "[LightGBM] [Warning] No further splits with positive gain, best gain: -inf\n",
      "[LightGBM] [Warning] No further splits with positive gain, best gain: -inf\n",
      "[LightGBM] [Warning] No further splits with positive gain, best gain: -inf\n",
      "[LightGBM] [Warning] No further splits with positive gain, best gain: -inf\n",
      "[LightGBM] [Warning] No further splits with positive gain, best gain: -inf\n",
      "[LightGBM] [Warning] No further splits with positive gain, best gain: -inf\n",
      "[LightGBM] [Warning] No further splits with positive gain, best gain: -inf\n",
      "[LightGBM] [Warning] No further splits with positive gain, best gain: -inf\n",
      "[LightGBM] [Warning] No further splits with positive gain, best gain: -inf\n",
      "[LightGBM] [Warning] No further splits with positive gain, best gain: -inf\n",
      "[LightGBM] [Warning] No further splits with positive gain, best gain: -inf\n",
      "[LightGBM] [Warning] No further splits with positive gain, best gain: -inf\n",
      "[LightGBM] [Warning] No further splits with positive gain, best gain: -inf\n",
      "[LightGBM] [Warning] No further splits with positive gain, best gain: -inf\n",
      "[LightGBM] [Warning] No further splits with positive gain, best gain: -inf\n",
      "[LightGBM] [Warning] No further splits with positive gain, best gain: -inf\n",
      "[LightGBM] [Warning] No further splits with positive gain, best gain: -inf\n",
      "[LightGBM] [Warning] No further splits with positive gain, best gain: -inf\n",
      "[LightGBM] [Warning] No further splits with positive gain, best gain: -inf\n",
      "[LightGBM] [Warning] No further splits with positive gain, best gain: -inf\n",
      "[LightGBM] [Warning] No further splits with positive gain, best gain: -inf\n",
      "[LightGBM] [Warning] No further splits with positive gain, best gain: -inf\n",
      "[LightGBM] [Warning] No further splits with positive gain, best gain: -inf\n",
      "[LightGBM] [Warning] No further splits with positive gain, best gain: -inf\n",
      "[LightGBM] [Warning] No further splits with positive gain, best gain: -inf\n",
      "[LightGBM] [Warning] No further splits with positive gain, best gain: -inf\n",
      "[LightGBM] [Warning] No further splits with positive gain, best gain: -inf\n",
      "[LightGBM] [Warning] No further splits with positive gain, best gain: -inf\n",
      "[LightGBM] [Warning] No further splits with positive gain, best gain: -inf\n",
      "[LightGBM] [Warning] No further splits with positive gain, best gain: -inf\n",
      "[LightGBM] [Warning] No further splits with positive gain, best gain: -inf\n",
      "[LightGBM] [Warning] No further splits with positive gain, best gain: -inf\n",
      "[LightGBM] [Warning] No further splits with positive gain, best gain: -inf\n",
      "[LightGBM] [Warning] No further splits with positive gain, best gain: -inf\n",
      "[LightGBM] [Warning] No further splits with positive gain, best gain: -inf\n",
      "[LightGBM] [Warning] No further splits with positive gain, best gain: -inf\n",
      "[LightGBM] [Warning] No further splits with positive gain, best gain: -inf\n",
      "[LightGBM] [Warning] No further splits with positive gain, best gain: -inf\n",
      "[LightGBM] [Warning] No further splits with positive gain, best gain: -inf\n",
      "[LightGBM] [Warning] No further splits with positive gain, best gain: -inf\n",
      "[LightGBM] [Warning] No further splits with positive gain, best gain: -inf\n",
      "[LightGBM] [Warning] No further splits with positive gain, best gain: -inf\n",
      "[LightGBM] [Warning] No further splits with positive gain, best gain: -inf\n",
      "[LightGBM] [Warning] No further splits with positive gain, best gain: -inf\n",
      "[LightGBM] [Warning] No further splits with positive gain, best gain: -inf\n",
      "[LightGBM] [Warning] No further splits with positive gain, best gain: -inf\n",
      "[LightGBM] [Warning] No further splits with positive gain, best gain: -inf\n",
      "[LightGBM] [Warning] No further splits with positive gain, best gain: -inf\n",
      "[LightGBM] [Warning] No further splits with positive gain, best gain: -inf\n",
      "[LightGBM] [Warning] No further splits with positive gain, best gain: -inf\n",
      "[LightGBM] [Warning] No further splits with positive gain, best gain: -inf\n",
      "[LightGBM] [Warning] No further splits with positive gain, best gain: -inf\n",
      "[LightGBM] [Warning] No further splits with positive gain, best gain: -inf\n",
      "[LightGBM] [Warning] No further splits with positive gain, best gain: -inf\n",
      "[LightGBM] [Warning] No further splits with positive gain, best gain: -inf\n",
      "[LightGBM] [Warning] No further splits with positive gain, best gain: -inf\n",
      "[LightGBM] [Warning] No further splits with positive gain, best gain: -inf\n",
      "[LightGBM] [Warning] No further splits with positive gain, best gain: -inf\n",
      "[LightGBM] [Warning] No further splits with positive gain, best gain: -inf\n",
      "[LightGBM] [Warning] No further splits with positive gain, best gain: -inf\n",
      "[LightGBM] [Warning] No further splits with positive gain, best gain: -inf\n",
      "[LightGBM] [Warning] No further splits with positive gain, best gain: -inf\n",
      "[LightGBM] [Warning] No further splits with positive gain, best gain: -inf\n",
      "[LightGBM] [Warning] No further splits with positive gain, best gain: -inf\n",
      "[LightGBM] [Warning] No further splits with positive gain, best gain: -inf\n",
      "[LightGBM] [Warning] No further splits with positive gain, best gain: -inf\n",
      "[LightGBM] [Warning] No further splits with positive gain, best gain: -inf\n",
      "[LightGBM] [Warning] No further splits with positive gain, best gain: -inf\n",
      "[LightGBM] [Warning] No further splits with positive gain, best gain: -inf\n",
      "[LightGBM] [Warning] No further splits with positive gain, best gain: -inf\n",
      "[LightGBM] [Warning] No further splits with positive gain, best gain: -inf\n",
      "[LightGBM] [Warning] No further splits with positive gain, best gain: -inf\n",
      "[LightGBM] [Warning] No further splits with positive gain, best gain: -inf\n",
      "[LightGBM] [Warning] No further splits with positive gain, best gain: -inf\n",
      "[LightGBM] [Warning] No further splits with positive gain, best gain: -inf\n",
      "[LightGBM] [Warning] No further splits with positive gain, best gain: -inf\n",
      "[LightGBM] [Warning] No further splits with positive gain, best gain: -inf\n",
      "[LightGBM] [Warning] No further splits with positive gain, best gain: -inf\n",
      "[LightGBM] [Warning] No further splits with positive gain, best gain: -inf\n",
      "[LightGBM] [Warning] No further splits with positive gain, best gain: -inf\n",
      "[LightGBM] [Warning] No further splits with positive gain, best gain: -inf\n",
      "[LightGBM] [Warning] No further splits with positive gain, best gain: -inf\n",
      "[LightGBM] [Warning] No further splits with positive gain, best gain: -inf\n",
      "[LightGBM] [Warning] No further splits with positive gain, best gain: -inf\n",
      "[LightGBM] [Warning] No further splits with positive gain, best gain: -inf\n",
      "[LightGBM] [Warning] No further splits with positive gain, best gain: -inf\n",
      "[LightGBM] [Warning] No further splits with positive gain, best gain: -inf\n",
      "[LightGBM] [Warning] No further splits with positive gain, best gain: -inf\n",
      "[LightGBM] [Warning] No further splits with positive gain, best gain: -inf\n",
      "[LightGBM] [Warning] No further splits with positive gain, best gain: -inf\n",
      "[LightGBM] [Warning] No further splits with positive gain, best gain: -inf\n",
      "[LightGBM] [Warning] No further splits with positive gain, best gain: -inf\n",
      "[LightGBM] [Warning] No further splits with positive gain, best gain: -inf\n",
      "[LightGBM] [Warning] No further splits with positive gain, best gain: -inf\n",
      "[LightGBM] [Warning] No further splits with positive gain, best gain: -inf\n",
      "[LightGBM] [Warning] No further splits with positive gain, best gain: -inf\n",
      "[LightGBM] [Warning] No further splits with positive gain, best gain: -inf\n",
      "[LightGBM] [Warning] No further splits with positive gain, best gain: -inf\n",
      "[LightGBM] [Warning] No further splits with positive gain, best gain: -inf\n",
      "[LightGBM] [Warning] No further splits with positive gain, best gain: -inf\n",
      "[LightGBM] [Warning] No further splits with positive gain, best gain: -inf\n",
      "[LightGBM] [Warning] No further splits with positive gain, best gain: -inf\n",
      "[LightGBM] [Warning] No further splits with positive gain, best gain: -inf\n",
      "[LightGBM] [Warning] No further splits with positive gain, best gain: -inf\n",
      "[LightGBM] [Warning] No further splits with positive gain, best gain: -inf\n",
      "[LightGBM] [Warning] No further splits with positive gain, best gain: -inf\n",
      "[LightGBM] [Warning] No further splits with positive gain, best gain: -inf\n",
      "[LightGBM] [Warning] No further splits with positive gain, best gain: -inf\n",
      "[LightGBM] [Warning] No further splits with positive gain, best gain: -inf\n",
      "[LightGBM] [Warning] No further splits with positive gain, best gain: -inf\n",
      "[LightGBM] [Warning] No further splits with positive gain, best gain: -inf\n",
      "[LightGBM] [Warning] No further splits with positive gain, best gain: -inf\n",
      "[LightGBM] [Warning] No further splits with positive gain, best gain: -inf\n",
      "[LightGBM] [Warning] No further splits with positive gain, best gain: -inf\n",
      "[LightGBM] [Warning] No further splits with positive gain, best gain: -inf\n",
      "[LightGBM] [Warning] No further splits with positive gain, best gain: -inf\n",
      "[LightGBM] [Warning] No further splits with positive gain, best gain: -inf\n",
      "[LightGBM] [Warning] No further splits with positive gain, best gain: -inf\n",
      "[LightGBM] [Warning] No further splits with positive gain, best gain: -inf\n",
      "[LightGBM] [Warning] No further splits with positive gain, best gain: -inf\n",
      "[LightGBM] [Warning] No further splits with positive gain, best gain: -inf\n",
      "[LightGBM] [Warning] No further splits with positive gain, best gain: -inf\n",
      "[LightGBM] [Warning] No further splits with positive gain, best gain: -inf\n",
      "[LightGBM] [Warning] No further splits with positive gain, best gain: -inf\n",
      "[LightGBM] [Warning] No further splits with positive gain, best gain: -inf\n",
      "[LightGBM] [Warning] No further splits with positive gain, best gain: -inf\n",
      "[LightGBM] [Warning] No further splits with positive gain, best gain: -inf\n",
      "[LightGBM] [Warning] No further splits with positive gain, best gain: -inf\n",
      "[LightGBM] [Warning] No further splits with positive gain, best gain: -inf\n",
      "[LightGBM] [Warning] No further splits with positive gain, best gain: -inf\n",
      "[LightGBM] [Warning] No further splits with positive gain, best gain: -inf\n",
      "[LightGBM] [Warning] No further splits with positive gain, best gain: -inf\n",
      "[LightGBM] [Warning] No further splits with positive gain, best gain: -inf\n",
      "[LightGBM] [Warning] No further splits with positive gain, best gain: -inf\n",
      "[LightGBM] [Warning] No further splits with positive gain, best gain: -inf\n",
      "[LightGBM] [Warning] No further splits with positive gain, best gain: -inf\n",
      "[LightGBM] [Warning] No further splits with positive gain, best gain: -inf\n",
      "[LightGBM] [Warning] No further splits with positive gain, best gain: -inf\n",
      "[LightGBM] [Warning] No further splits with positive gain, best gain: -inf\n",
      "[LightGBM] [Warning] No further splits with positive gain, best gain: -inf\n",
      "[LightGBM] [Warning] No further splits with positive gain, best gain: -inf\n",
      "[LightGBM] [Warning] No further splits with positive gain, best gain: -inf\n",
      "[LightGBM] [Warning] No further splits with positive gain, best gain: -inf\n",
      "[LightGBM] [Warning] No further splits with positive gain, best gain: -inf\n",
      "[LightGBM] [Warning] No further splits with positive gain, best gain: -inf\n",
      "[LightGBM] [Warning] No further splits with positive gain, best gain: -inf\n",
      "[LightGBM] [Warning] No further splits with positive gain, best gain: -inf\n",
      "[LightGBM] [Warning] No further splits with positive gain, best gain: -inf\n",
      "[LightGBM] [Warning] No further splits with positive gain, best gain: -inf\n",
      "[LightGBM] [Warning] No further splits with positive gain, best gain: -inf\n",
      "[LightGBM] [Warning] No further splits with positive gain, best gain: -inf\n",
      "[LightGBM] [Warning] No further splits with positive gain, best gain: -inf\n",
      "[LightGBM] [Warning] No further splits with positive gain, best gain: -inf\n",
      "[LightGBM] [Warning] No further splits with positive gain, best gain: -inf\n",
      "[LightGBM] [Warning] No further splits with positive gain, best gain: -inf\n",
      "[LightGBM] [Warning] No further splits with positive gain, best gain: -inf\n",
      "[LightGBM] [Warning] No further splits with positive gain, best gain: -inf\n",
      "[LightGBM] [Warning] No further splits with positive gain, best gain: -inf\n",
      "[LightGBM] [Warning] No further splits with positive gain, best gain: -inf\n",
      "[LightGBM] [Warning] No further splits with positive gain, best gain: -inf\n",
      "[LightGBM] [Warning] No further splits with positive gain, best gain: -inf\n",
      "[LightGBM] [Warning] No further splits with positive gain, best gain: -inf\n",
      "[LightGBM] [Warning] No further splits with positive gain, best gain: -inf\n",
      "[LightGBM] [Warning] No further splits with positive gain, best gain: -inf\n",
      "[LightGBM] [Warning] No further splits with positive gain, best gain: -inf\n",
      "[LightGBM] [Warning] No further splits with positive gain, best gain: -inf\n",
      "[LightGBM] [Warning] No further splits with positive gain, best gain: -inf\n",
      "[LightGBM] [Warning] No further splits with positive gain, best gain: -inf\n",
      "[LightGBM] [Warning] No further splits with positive gain, best gain: -inf\n",
      "[LightGBM] [Warning] No further splits with positive gain, best gain: -inf\n",
      "[LightGBM] [Warning] No further splits with positive gain, best gain: -inf\n",
      "[LightGBM] [Warning] No further splits with positive gain, best gain: -inf\n",
      "[LightGBM] [Warning] No further splits with positive gain, best gain: -inf\n",
      "[LightGBM] [Warning] No further splits with positive gain, best gain: -inf\n",
      "[LightGBM] [Warning] No further splits with positive gain, best gain: -inf\n",
      "[LightGBM] [Warning] No further splits with positive gain, best gain: -inf\n",
      "[LightGBM] [Warning] No further splits with positive gain, best gain: -inf\n",
      "[LightGBM] [Warning] No further splits with positive gain, best gain: -inf\n",
      "[LightGBM] [Warning] No further splits with positive gain, best gain: -inf\n",
      "[LightGBM] [Warning] No further splits with positive gain, best gain: -inf\n",
      "[LightGBM] [Warning] No further splits with positive gain, best gain: -inf\n",
      "[LightGBM] [Warning] No further splits with positive gain, best gain: -inf\n",
      "[LightGBM] [Warning] No further splits with positive gain, best gain: -inf\n",
      "[LightGBM] [Warning] No further splits with positive gain, best gain: -inf\n",
      "[LightGBM] [Warning] No further splits with positive gain, best gain: -inf\n",
      "[LightGBM] [Warning] No further splits with positive gain, best gain: -inf\n",
      "[LightGBM] [Warning] No further splits with positive gain, best gain: -inf\n",
      "[LightGBM] [Warning] No further splits with positive gain, best gain: -inf\n",
      "[LightGBM] [Warning] No further splits with positive gain, best gain: -inf\n",
      "[LightGBM] [Warning] No further splits with positive gain, best gain: -inf\n",
      "[LightGBM] [Warning] No further splits with positive gain, best gain: -inf\n",
      "[LightGBM] [Warning] No further splits with positive gain, best gain: -inf\n",
      "[LightGBM] [Warning] No further splits with positive gain, best gain: -inf\n",
      "[LightGBM] [Warning] No further splits with positive gain, best gain: -inf\n",
      "[LightGBM] [Warning] No further splits with positive gain, best gain: -inf\n",
      "[LightGBM] [Warning] No further splits with positive gain, best gain: -inf\n",
      "[LightGBM] [Warning] No further splits with positive gain, best gain: -inf\n",
      "[LightGBM] [Warning] No further splits with positive gain, best gain: -inf\n",
      "[LightGBM] [Warning] No further splits with positive gain, best gain: -inf\n",
      "[LightGBM] [Warning] No further splits with positive gain, best gain: -inf\n",
      "[LightGBM] [Warning] No further splits with positive gain, best gain: -inf\n",
      "[LightGBM] [Warning] No further splits with positive gain, best gain: -inf\n",
      "[LightGBM] [Warning] No further splits with positive gain, best gain: -inf\n",
      "[LightGBM] [Warning] No further splits with positive gain, best gain: -inf\n",
      "[LightGBM] [Warning] No further splits with positive gain, best gain: -inf\n",
      "[LightGBM] [Warning] No further splits with positive gain, best gain: -inf\n",
      "[LightGBM] [Warning] No further splits with positive gain, best gain: -inf\n",
      "[LightGBM] [Warning] No further splits with positive gain, best gain: -inf\n",
      "[LightGBM] [Warning] No further splits with positive gain, best gain: -inf\n",
      "[LightGBM] [Warning] No further splits with positive gain, best gain: -inf\n",
      "[LightGBM] [Warning] No further splits with positive gain, best gain: -inf\n",
      "[LightGBM] [Warning] No further splits with positive gain, best gain: -inf\n",
      "[LightGBM] [Warning] No further splits with positive gain, best gain: -inf\n",
      "[LightGBM] [Warning] No further splits with positive gain, best gain: -inf\n",
      "[LightGBM] [Warning] No further splits with positive gain, best gain: -inf\n",
      "[LightGBM] [Warning] No further splits with positive gain, best gain: -inf\n",
      "[LightGBM] [Warning] No further splits with positive gain, best gain: -inf\n",
      "[LightGBM] [Warning] No further splits with positive gain, best gain: -inf\n",
      "[LightGBM] [Warning] No further splits with positive gain, best gain: -inf\n",
      "[LightGBM] [Warning] No further splits with positive gain, best gain: -inf\n",
      "[LightGBM] [Warning] No further splits with positive gain, best gain: -inf\n",
      "[LightGBM] [Warning] No further splits with positive gain, best gain: -inf\n",
      "[LightGBM] [Warning] No further splits with positive gain, best gain: -inf\n",
      "[LightGBM] [Warning] No further splits with positive gain, best gain: -inf\n",
      "[LightGBM] [Warning] No further splits with positive gain, best gain: -inf\n",
      "[LightGBM] [Warning] No further splits with positive gain, best gain: -inf\n",
      "[LightGBM] [Warning] No further splits with positive gain, best gain: -inf\n",
      "[LightGBM] [Warning] No further splits with positive gain, best gain: -inf\n",
      "[LightGBM] [Warning] No further splits with positive gain, best gain: -inf\n",
      "[LightGBM] [Warning] No further splits with positive gain, best gain: -inf\n",
      "[LightGBM] [Warning] No further splits with positive gain, best gain: -inf\n",
      "[LightGBM] [Warning] No further splits with positive gain, best gain: -inf\n",
      "[LightGBM] [Warning] No further splits with positive gain, best gain: -inf\n",
      "[LightGBM] [Warning] No further splits with positive gain, best gain: -inf\n",
      "[LightGBM] [Warning] No further splits with positive gain, best gain: -inf\n",
      "[LightGBM] [Warning] No further splits with positive gain, best gain: -inf\n",
      "[LightGBM] [Warning] No further splits with positive gain, best gain: -inf\n",
      "[LightGBM] [Warning] No further splits with positive gain, best gain: -inf\n",
      "[LightGBM] [Warning] No further splits with positive gain, best gain: -inf\n",
      "[LightGBM] [Warning] No further splits with positive gain, best gain: -inf\n",
      "[LightGBM] [Warning] No further splits with positive gain, best gain: -inf\n",
      "[LightGBM] [Warning] No further splits with positive gain, best gain: -inf\n",
      "[LightGBM] [Warning] No further splits with positive gain, best gain: -inf\n",
      "[LightGBM] [Warning] No further splits with positive gain, best gain: -inf\n",
      "[LightGBM] [Warning] No further splits with positive gain, best gain: -inf\n",
      "[LightGBM] [Warning] No further splits with positive gain, best gain: -inf\n",
      "[LightGBM] [Warning] No further splits with positive gain, best gain: -inf\n",
      "[LightGBM] [Warning] No further splits with positive gain, best gain: -inf\n",
      "[LightGBM] [Warning] No further splits with positive gain, best gain: -inf\n",
      "[LightGBM] [Warning] No further splits with positive gain, best gain: -inf\n",
      "[LightGBM] [Warning] No further splits with positive gain, best gain: -inf\n",
      "[LightGBM] [Warning] No further splits with positive gain, best gain: -inf\n",
      "[LightGBM] [Warning] No further splits with positive gain, best gain: -inf\n",
      "[LightGBM] [Warning] No further splits with positive gain, best gain: -inf\n",
      "[LightGBM] [Warning] No further splits with positive gain, best gain: -inf\n",
      "[LightGBM] [Warning] No further splits with positive gain, best gain: -inf\n",
      "[LightGBM] [Warning] No further splits with positive gain, best gain: -inf\n",
      "[LightGBM] [Warning] No further splits with positive gain, best gain: -inf\n",
      "[LightGBM] [Warning] No further splits with positive gain, best gain: -inf\n",
      "[LightGBM] [Warning] No further splits with positive gain, best gain: -inf\n",
      "[LightGBM] [Warning] No further splits with positive gain, best gain: -inf\n",
      "[LightGBM] [Warning] No further splits with positive gain, best gain: -inf\n",
      "[LightGBM] [Warning] No further splits with positive gain, best gain: -inf\n",
      "[LightGBM] [Warning] No further splits with positive gain, best gain: -inf\n",
      "[LightGBM] [Warning] No further splits with positive gain, best gain: -inf\n",
      "[LightGBM] [Warning] No further splits with positive gain, best gain: -inf\n",
      "[LightGBM] [Warning] No further splits with positive gain, best gain: -inf\n",
      "[LightGBM] [Warning] No further splits with positive gain, best gain: -inf\n",
      "[LightGBM] [Warning] No further splits with positive gain, best gain: -inf\n",
      "[LightGBM] [Warning] No further splits with positive gain, best gain: -inf\n",
      "[LightGBM] [Warning] No further splits with positive gain, best gain: -inf\n",
      "[LightGBM] [Warning] No further splits with positive gain, best gain: -inf\n",
      "[LightGBM] [Warning] No further splits with positive gain, best gain: -inf\n",
      "[LightGBM] [Warning] No further splits with positive gain, best gain: -inf\n",
      "[LightGBM] [Warning] No further splits with positive gain, best gain: -inf\n",
      "[LightGBM] [Warning] No further splits with positive gain, best gain: -inf\n",
      "[LightGBM] [Warning] No further splits with positive gain, best gain: -inf\n",
      "[LightGBM] [Warning] No further splits with positive gain, best gain: -inf\n",
      "[LightGBM] [Warning] No further splits with positive gain, best gain: -inf\n",
      "[LightGBM] [Warning] No further splits with positive gain, best gain: -inf\n",
      "[LightGBM] [Warning] No further splits with positive gain, best gain: -inf\n",
      "[LightGBM] [Warning] No further splits with positive gain, best gain: -inf\n",
      "[LightGBM] [Warning] No further splits with positive gain, best gain: -inf\n",
      "[LightGBM] [Warning] No further splits with positive gain, best gain: -inf\n",
      "[LightGBM] [Warning] No further splits with positive gain, best gain: -inf\n",
      "[LightGBM] [Warning] No further splits with positive gain, best gain: -inf\n",
      "[LightGBM] [Warning] No further splits with positive gain, best gain: -inf\n",
      "[LightGBM] [Warning] No further splits with positive gain, best gain: -inf\n",
      "[LightGBM] [Warning] No further splits with positive gain, best gain: -inf\n",
      "[LightGBM] [Warning] No further splits with positive gain, best gain: -inf\n",
      "[LightGBM] [Warning] No further splits with positive gain, best gain: -inf\n",
      "[LightGBM] [Warning] No further splits with positive gain, best gain: -inf\n",
      "[LightGBM] [Warning] No further splits with positive gain, best gain: -inf\n",
      "[LightGBM] [Warning] No further splits with positive gain, best gain: -inf\n",
      "[LightGBM] [Warning] No further splits with positive gain, best gain: -inf\n",
      "[LightGBM] [Warning] No further splits with positive gain, best gain: -inf\n",
      "[LightGBM] [Warning] No further splits with positive gain, best gain: -inf\n",
      "[LightGBM] [Warning] No further splits with positive gain, best gain: -inf\n",
      "[LightGBM] [Warning] No further splits with positive gain, best gain: -inf\n",
      "[LightGBM] [Warning] No further splits with positive gain, best gain: -inf\n",
      "[LightGBM] [Warning] No further splits with positive gain, best gain: -inf\n",
      "[LightGBM] [Warning] No further splits with positive gain, best gain: -inf\n",
      "[LightGBM] [Warning] No further splits with positive gain, best gain: -inf\n",
      "[LightGBM] [Warning] No further splits with positive gain, best gain: -inf\n",
      "[LightGBM] [Warning] No further splits with positive gain, best gain: -inf\n",
      "[LightGBM] [Warning] No further splits with positive gain, best gain: -inf\n",
      "[LightGBM] [Warning] No further splits with positive gain, best gain: -inf\n",
      "[LightGBM] [Warning] No further splits with positive gain, best gain: -inf\n",
      "[LightGBM] [Warning] No further splits with positive gain, best gain: -inf\n",
      "[LightGBM] [Warning] No further splits with positive gain, best gain: -inf\n",
      "[LightGBM] [Warning] No further splits with positive gain, best gain: -inf\n",
      "[LightGBM] [Warning] No further splits with positive gain, best gain: -inf\n",
      "[LightGBM] [Warning] No further splits with positive gain, best gain: -inf\n",
      "[LightGBM] [Warning] No further splits with positive gain, best gain: -inf\n",
      "[LightGBM] [Warning] No further splits with positive gain, best gain: -inf\n",
      "[LightGBM] [Warning] No further splits with positive gain, best gain: -inf\n",
      "[LightGBM] [Warning] No further splits with positive gain, best gain: -inf\n",
      "[LightGBM] [Warning] No further splits with positive gain, best gain: -inf\n",
      "[LightGBM] [Warning] No further splits with positive gain, best gain: -inf\n",
      "[LightGBM] [Warning] No further splits with positive gain, best gain: -inf\n",
      "[LightGBM] [Warning] No further splits with positive gain, best gain: -inf\n",
      "[LightGBM] [Warning] No further splits with positive gain, best gain: -inf\n",
      "[LightGBM] [Warning] No further splits with positive gain, best gain: -inf\n",
      "[LightGBM] [Warning] No further splits with positive gain, best gain: -inf\n",
      "[LightGBM] [Warning] No further splits with positive gain, best gain: -inf\n",
      "[LightGBM] [Warning] No further splits with positive gain, best gain: -inf\n",
      "[LightGBM] [Warning] No further splits with positive gain, best gain: -inf\n",
      "[LightGBM] [Warning] No further splits with positive gain, best gain: -inf\n",
      "[LightGBM] [Warning] No further splits with positive gain, best gain: -inf\n",
      "[LightGBM] [Warning] No further splits with positive gain, best gain: -inf\n",
      "[LightGBM] [Warning] No further splits with positive gain, best gain: -inf\n",
      "[LightGBM] [Warning] No further splits with positive gain, best gain: -inf\n",
      "[LightGBM] [Warning] No further splits with positive gain, best gain: -inf\n",
      "[LightGBM] [Warning] No further splits with positive gain, best gain: -inf\n",
      "[LightGBM] [Warning] No further splits with positive gain, best gain: -inf\n",
      "[LightGBM] [Warning] No further splits with positive gain, best gain: -inf\n",
      "[LightGBM] [Warning] No further splits with positive gain, best gain: -inf\n",
      "[LightGBM] [Warning] No further splits with positive gain, best gain: -inf\n",
      "[LightGBM] [Warning] No further splits with positive gain, best gain: -inf\n",
      "[LightGBM] [Warning] No further splits with positive gain, best gain: -inf\n",
      "[LightGBM] [Warning] No further splits with positive gain, best gain: -inf\n",
      "[LightGBM] [Warning] No further splits with positive gain, best gain: -inf\n",
      "[LightGBM] [Warning] No further splits with positive gain, best gain: -inf\n",
      "[LightGBM] [Warning] No further splits with positive gain, best gain: -inf\n",
      "[LightGBM] [Warning] No further splits with positive gain, best gain: -inf\n",
      "[LightGBM] [Warning] No further splits with positive gain, best gain: -inf\n",
      "[LightGBM] [Warning] No further splits with positive gain, best gain: -inf\n",
      "[LightGBM] [Warning] No further splits with positive gain, best gain: -inf\n",
      "[LightGBM] [Warning] No further splits with positive gain, best gain: -inf\n",
      "[LightGBM] [Warning] No further splits with positive gain, best gain: -inf\n",
      "[LightGBM] [Warning] No further splits with positive gain, best gain: -inf\n",
      "[LightGBM] [Warning] No further splits with positive gain, best gain: -inf\n",
      "[LightGBM] [Warning] No further splits with positive gain, best gain: -inf\n",
      "[LightGBM] [Warning] No further splits with positive gain, best gain: -inf\n",
      "[LightGBM] [Warning] No further splits with positive gain, best gain: -inf\n",
      "[LightGBM] [Warning] No further splits with positive gain, best gain: -inf\n",
      "[LightGBM] [Warning] No further splits with positive gain, best gain: -inf\n",
      "[LightGBM] [Warning] No further splits with positive gain, best gain: -inf\n",
      "[LightGBM] [Warning] No further splits with positive gain, best gain: -inf\n",
      "[LightGBM] [Warning] No further splits with positive gain, best gain: -inf\n",
      "[LightGBM] [Warning] No further splits with positive gain, best gain: -inf\n",
      "[LightGBM] [Warning] No further splits with positive gain, best gain: -inf\n",
      "[LightGBM] [Warning] No further splits with positive gain, best gain: -inf\n",
      "[LightGBM] [Warning] No further splits with positive gain, best gain: -inf\n",
      "[LightGBM] [Warning] No further splits with positive gain, best gain: -inf\n",
      "[LightGBM] [Warning] No further splits with positive gain, best gain: -inf\n",
      "[LightGBM] [Warning] No further splits with positive gain, best gain: -inf\n",
      "[LightGBM] [Warning] No further splits with positive gain, best gain: -inf\n",
      "[LightGBM] [Warning] No further splits with positive gain, best gain: -inf\n",
      "[LightGBM] [Warning] No further splits with positive gain, best gain: -inf\n",
      "[LightGBM] [Warning] No further splits with positive gain, best gain: -inf\n",
      "[LightGBM] [Warning] No further splits with positive gain, best gain: -inf\n",
      "[LightGBM] [Warning] No further splits with positive gain, best gain: -inf\n",
      "[LightGBM] [Warning] No further splits with positive gain, best gain: -inf\n",
      "[LightGBM] [Warning] No further splits with positive gain, best gain: -inf\n",
      "[LightGBM] [Warning] No further splits with positive gain, best gain: -inf\n",
      "[LightGBM] [Warning] No further splits with positive gain, best gain: -inf\n",
      "[LightGBM] [Warning] No further splits with positive gain, best gain: -inf\n",
      "[LightGBM] [Warning] No further splits with positive gain, best gain: -inf\n",
      "[LightGBM] [Warning] No further splits with positive gain, best gain: -inf\n",
      "[LightGBM] [Warning] No further splits with positive gain, best gain: -inf\n",
      "[LightGBM] [Warning] No further splits with positive gain, best gain: -inf\n",
      "[LightGBM] [Warning] No further splits with positive gain, best gain: -inf\n",
      "[LightGBM] [Warning] No further splits with positive gain, best gain: -inf\n",
      "[LightGBM] [Warning] No further splits with positive gain, best gain: -inf\n",
      "[LightGBM] [Warning] No further splits with positive gain, best gain: -inf\n",
      "[LightGBM] [Warning] No further splits with positive gain, best gain: -inf\n",
      "[LightGBM] [Warning] No further splits with positive gain, best gain: -inf\n",
      "[LightGBM] [Warning] No further splits with positive gain, best gain: -inf\n",
      "[LightGBM] [Warning] No further splits with positive gain, best gain: -inf\n",
      "[LightGBM] [Warning] No further splits with positive gain, best gain: -inf\n",
      "[LightGBM] [Warning] No further splits with positive gain, best gain: -inf\n",
      "[LightGBM] [Warning] No further splits with positive gain, best gain: -inf\n",
      "[LightGBM] [Warning] No further splits with positive gain, best gain: -inf\n",
      "[LightGBM] [Warning] No further splits with positive gain, best gain: -inf\n",
      "[LightGBM] [Warning] No further splits with positive gain, best gain: -inf\n",
      "[LightGBM] [Warning] No further splits with positive gain, best gain: -inf\n",
      "[LightGBM] [Warning] No further splits with positive gain, best gain: -inf\n",
      "[LightGBM] [Warning] No further splits with positive gain, best gain: -inf\n",
      "[LightGBM] [Warning] No further splits with positive gain, best gain: -inf\n",
      "[LightGBM] [Warning] No further splits with positive gain, best gain: -inf\n",
      "[LightGBM] [Warning] No further splits with positive gain, best gain: -inf\n",
      "[LightGBM] [Warning] No further splits with positive gain, best gain: -inf\n",
      "[LightGBM] [Warning] No further splits with positive gain, best gain: -inf\n",
      "[LightGBM] [Warning] No further splits with positive gain, best gain: -inf\n",
      "[LightGBM] [Warning] No further splits with positive gain, best gain: -inf\n",
      "[LightGBM] [Warning] No further splits with positive gain, best gain: -inf\n",
      "[LightGBM] [Warning] No further splits with positive gain, best gain: -inf\n",
      "[LightGBM] [Warning] No further splits with positive gain, best gain: -inf\n",
      "[LightGBM] [Warning] No further splits with positive gain, best gain: -inf\n",
      "[LightGBM] [Warning] No further splits with positive gain, best gain: -inf\n",
      "[LightGBM] [Warning] No further splits with positive gain, best gain: -inf\n",
      "[LightGBM] [Warning] No further splits with positive gain, best gain: -inf\n",
      "[LightGBM] [Warning] No further splits with positive gain, best gain: -inf\n",
      "[LightGBM] [Warning] No further splits with positive gain, best gain: -inf\n",
      "[LightGBM] [Warning] No further splits with positive gain, best gain: -inf\n",
      "[LightGBM] [Warning] No further splits with positive gain, best gain: -inf\n",
      "[LightGBM] [Warning] No further splits with positive gain, best gain: -inf\n",
      "[LightGBM] [Warning] No further splits with positive gain, best gain: -inf\n",
      "[LightGBM] [Warning] No further splits with positive gain, best gain: -inf\n",
      "[LightGBM] [Warning] No further splits with positive gain, best gain: -inf\n",
      "[LightGBM] [Warning] No further splits with positive gain, best gain: -inf\n",
      "[LightGBM] [Warning] No further splits with positive gain, best gain: -inf\n",
      "[LightGBM] [Warning] No further splits with positive gain, best gain: -inf\n",
      "[LightGBM] [Warning] No further splits with positive gain, best gain: -inf\n",
      "[LightGBM] [Warning] No further splits with positive gain, best gain: -inf\n",
      "[LightGBM] [Warning] No further splits with positive gain, best gain: -inf\n",
      "[LightGBM] [Warning] No further splits with positive gain, best gain: -inf\n",
      "[LightGBM] [Warning] No further splits with positive gain, best gain: -inf\n",
      "[LightGBM] [Warning] No further splits with positive gain, best gain: -inf\n",
      "[LightGBM] [Warning] No further splits with positive gain, best gain: -inf\n",
      "[LightGBM] [Warning] No further splits with positive gain, best gain: -inf\n",
      "[LightGBM] [Warning] No further splits with positive gain, best gain: -inf\n",
      "[LightGBM] [Warning] No further splits with positive gain, best gain: -inf\n",
      "[LightGBM] [Warning] No further splits with positive gain, best gain: -inf\n",
      "[LightGBM] [Warning] No further splits with positive gain, best gain: -inf\n",
      "[LightGBM] [Warning] No further splits with positive gain, best gain: -inf\n",
      "[LightGBM] [Warning] No further splits with positive gain, best gain: -inf\n",
      "[LightGBM] [Warning] No further splits with positive gain, best gain: -inf\n",
      "[LightGBM] [Warning] No further splits with positive gain, best gain: -inf\n",
      "[LightGBM] [Warning] No further splits with positive gain, best gain: -inf\n",
      "[LightGBM] [Warning] No further splits with positive gain, best gain: -inf\n",
      "[LightGBM] [Warning] No further splits with positive gain, best gain: -inf\n",
      "[LightGBM] [Warning] No further splits with positive gain, best gain: -inf\n",
      "[LightGBM] [Warning] No further splits with positive gain, best gain: -inf\n",
      "[LightGBM] [Warning] No further splits with positive gain, best gain: -inf\n",
      "[LightGBM] [Warning] No further splits with positive gain, best gain: -inf\n",
      "[LightGBM] [Warning] No further splits with positive gain, best gain: -inf\n",
      "[LightGBM] [Warning] No further splits with positive gain, best gain: -inf\n",
      "[LightGBM] [Warning] No further splits with positive gain, best gain: -inf\n",
      "[LightGBM] [Warning] No further splits with positive gain, best gain: -inf\n",
      "[LightGBM] [Warning] No further splits with positive gain, best gain: -inf\n",
      "[LightGBM] [Warning] No further splits with positive gain, best gain: -inf\n",
      "[LightGBM] [Warning] No further splits with positive gain, best gain: -inf\n",
      "[LightGBM] [Warning] No further splits with positive gain, best gain: -inf\n",
      "[LightGBM] [Warning] No further splits with positive gain, best gain: -inf\n",
      "[LightGBM] [Warning] No further splits with positive gain, best gain: -inf\n",
      "[LightGBM] [Warning] No further splits with positive gain, best gain: -inf\n",
      "[LightGBM] [Warning] No further splits with positive gain, best gain: -inf\n",
      "[LightGBM] [Warning] No further splits with positive gain, best gain: -inf\n",
      "[LightGBM] [Warning] No further splits with positive gain, best gain: -inf\n",
      "[LightGBM] [Warning] No further splits with positive gain, best gain: -inf\n",
      "[LightGBM] [Warning] No further splits with positive gain, best gain: -inf\n",
      "[LightGBM] [Warning] No further splits with positive gain, best gain: -inf\n",
      "[LightGBM] [Warning] No further splits with positive gain, best gain: -inf\n",
      "[LightGBM] [Warning] No further splits with positive gain, best gain: -inf\n",
      "[LightGBM] [Warning] No further splits with positive gain, best gain: -inf\n",
      "[LightGBM] [Warning] No further splits with positive gain, best gain: -inf\n",
      "[LightGBM] [Warning] No further splits with positive gain, best gain: -inf\n",
      "[LightGBM] [Warning] No further splits with positive gain, best gain: -inf\n",
      "[LightGBM] [Warning] No further splits with positive gain, best gain: -inf\n",
      "[LightGBM] [Warning] No further splits with positive gain, best gain: -inf\n",
      "[LightGBM] [Warning] No further splits with positive gain, best gain: -inf\n",
      "[LightGBM] [Warning] No further splits with positive gain, best gain: -inf\n",
      "[LightGBM] [Warning] No further splits with positive gain, best gain: -inf\n",
      "[LightGBM] [Warning] No further splits with positive gain, best gain: -inf\n",
      "[LightGBM] [Warning] No further splits with positive gain, best gain: -inf\n",
      "[LightGBM] [Warning] No further splits with positive gain, best gain: -inf\n",
      "[LightGBM] [Warning] No further splits with positive gain, best gain: -inf\n",
      "[LightGBM] [Warning] No further splits with positive gain, best gain: -inf\n",
      "[LightGBM] [Warning] No further splits with positive gain, best gain: -inf\n",
      "[LightGBM] [Warning] No further splits with positive gain, best gain: -inf\n",
      "[LightGBM] [Warning] No further splits with positive gain, best gain: -inf\n",
      "[LightGBM] [Warning] No further splits with positive gain, best gain: -inf\n",
      "[LightGBM] [Warning] No further splits with positive gain, best gain: -inf\n",
      "[LightGBM] [Warning] No further splits with positive gain, best gain: -inf\n",
      "[LightGBM] [Warning] No further splits with positive gain, best gain: -inf\n",
      "[LightGBM] [Warning] No further splits with positive gain, best gain: -inf\n",
      "[LightGBM] [Warning] No further splits with positive gain, best gain: -inf\n",
      "[LightGBM] [Warning] No further splits with positive gain, best gain: -inf\n",
      "[LightGBM] [Warning] No further splits with positive gain, best gain: -inf\n",
      "[LightGBM] [Warning] No further splits with positive gain, best gain: -inf\n",
      "[LightGBM] [Warning] No further splits with positive gain, best gain: -inf\n",
      "[LightGBM] [Warning] No further splits with positive gain, best gain: -inf\n",
      "[LightGBM] [Warning] No further splits with positive gain, best gain: -inf\n",
      "[LightGBM] [Warning] No further splits with positive gain, best gain: -inf\n",
      "[LightGBM] [Warning] No further splits with positive gain, best gain: -inf\n",
      "[LightGBM] [Warning] No further splits with positive gain, best gain: -inf\n",
      "[LightGBM] [Warning] No further splits with positive gain, best gain: -inf\n",
      "[LightGBM] [Warning] No further splits with positive gain, best gain: -inf\n",
      "[LightGBM] [Warning] No further splits with positive gain, best gain: -inf\n",
      "[LightGBM] [Warning] No further splits with positive gain, best gain: -inf\n",
      "[LightGBM] [Warning] No further splits with positive gain, best gain: -inf\n",
      "[LightGBM] [Warning] No further splits with positive gain, best gain: -inf\n",
      "[LightGBM] [Warning] No further splits with positive gain, best gain: -inf\n",
      "[LightGBM] [Warning] No further splits with positive gain, best gain: -inf\n",
      "[LightGBM] [Warning] No further splits with positive gain, best gain: -inf\n",
      "[LightGBM] [Warning] No further splits with positive gain, best gain: -inf\n",
      "[LightGBM] [Warning] No further splits with positive gain, best gain: -inf\n",
      "[LightGBM] [Warning] No further splits with positive gain, best gain: -inf\n",
      "[LightGBM] [Warning] No further splits with positive gain, best gain: -inf\n",
      "[LightGBM] [Warning] No further splits with positive gain, best gain: -inf\n",
      "[LightGBM] [Warning] No further splits with positive gain, best gain: -inf\n",
      "[LightGBM] [Warning] No further splits with positive gain, best gain: -inf\n",
      "[LightGBM] [Warning] No further splits with positive gain, best gain: -inf\n",
      "[LightGBM] [Warning] No further splits with positive gain, best gain: -inf\n",
      "[LightGBM] [Warning] No further splits with positive gain, best gain: -inf\n",
      "[LightGBM] [Warning] No further splits with positive gain, best gain: -inf\n",
      "[LightGBM] [Warning] No further splits with positive gain, best gain: -inf\n",
      "[LightGBM] [Warning] No further splits with positive gain, best gain: -inf\n",
      "[LightGBM] [Warning] No further splits with positive gain, best gain: -inf\n",
      "[LightGBM] [Warning] No further splits with positive gain, best gain: -inf\n",
      "[LightGBM] [Warning] No further splits with positive gain, best gain: -inf\n",
      "[LightGBM] [Warning] No further splits with positive gain, best gain: -inf\n",
      "[LightGBM] [Warning] No further splits with positive gain, best gain: -inf\n",
      "[LightGBM] [Warning] No further splits with positive gain, best gain: -inf\n",
      "[LightGBM] [Warning] No further splits with positive gain, best gain: -inf\n",
      "[LightGBM] [Warning] No further splits with positive gain, best gain: -inf\n",
      "[LightGBM] [Warning] No further splits with positive gain, best gain: -inf\n",
      "[LightGBM] [Warning] No further splits with positive gain, best gain: -inf\n",
      "[LightGBM] [Warning] No further splits with positive gain, best gain: -inf\n",
      "[LightGBM] [Warning] No further splits with positive gain, best gain: -inf\n",
      "[LightGBM] [Warning] No further splits with positive gain, best gain: -inf\n",
      "[LightGBM] [Warning] No further splits with positive gain, best gain: -inf\n",
      "[LightGBM] [Warning] No further splits with positive gain, best gain: -inf\n",
      "[LightGBM] [Warning] No further splits with positive gain, best gain: -inf\n",
      "[LightGBM] [Warning] No further splits with positive gain, best gain: -inf\n",
      "[LightGBM] [Warning] No further splits with positive gain, best gain: -inf\n",
      "[LightGBM] [Warning] No further splits with positive gain, best gain: -inf\n",
      "[LightGBM] [Warning] No further splits with positive gain, best gain: -inf\n",
      "[LightGBM] [Warning] No further splits with positive gain, best gain: -inf\n",
      "[LightGBM] [Warning] No further splits with positive gain, best gain: -inf\n",
      "[LightGBM] [Warning] No further splits with positive gain, best gain: -inf\n",
      "[LightGBM] [Warning] No further splits with positive gain, best gain: -inf\n",
      "[LightGBM] [Warning] No further splits with positive gain, best gain: -inf\n",
      "[LightGBM] [Warning] No further splits with positive gain, best gain: -inf\n",
      "[LightGBM] [Warning] No further splits with positive gain, best gain: -inf\n",
      "[LightGBM] [Warning] No further splits with positive gain, best gain: -inf\n",
      "[LightGBM] [Warning] No further splits with positive gain, best gain: -inf\n",
      "[LightGBM] [Warning] No further splits with positive gain, best gain: -inf\n",
      "[LightGBM] [Warning] No further splits with positive gain, best gain: -inf\n",
      "[LightGBM] [Warning] No further splits with positive gain, best gain: -inf\n",
      "[LightGBM] [Warning] No further splits with positive gain, best gain: -inf\n",
      "[LightGBM] [Warning] No further splits with positive gain, best gain: -inf\n",
      "[LightGBM] [Warning] No further splits with positive gain, best gain: -inf\n",
      "[LightGBM] [Warning] No further splits with positive gain, best gain: -inf\n",
      "Лучшие параметры: {'regressor__colsample_bytree': 0.7, 'regressor__learning_rate': 0.05, 'regressor__max_depth': 7, 'regressor__n_estimators': 758, 'regressor__num_leaves': 36, 'regressor__subsample': 0.9, 'transformer__num_new_features': 15, 'transformer__threshold_brands': 10, 'transformer__threshold_cylindersin': 5, 'transformer__threshold_models': 5}\n",
      "MAE: 6001.33671\n",
      "RMSE: 13375.90946\n",
      "R2: 0.87141\n"
     ]
    }
   ],
   "source": [
    "numeric_columns = ['Kilometres','Year', 'Engine', 'FuelConsumption']\n",
    "categorical_columns = df_train.drop(numeric_columns + ['Car/Suv','Price','Title'], axis=1).columns\n",
    "\n",
    "\n",
    "preprocessor = ColumnTransformer(\n",
    "    transformers=[\n",
    "        ('num', StandardScaler(), ['Kilometres','Year', 'Engine', 'FuelConsumption','EnginePerCylinder','AvgKilometresPerYear']),\n",
    "        ('cat', OneHotEncoder(handle_unknown='ignore'), categorical_columns)\n",
    "    ]\n",
    ")\n",
    "\n",
    "pipeline = Pipeline(steps=[\n",
    "    ('transformer', BaseDataTransformer()),\n",
    "    ('preprocessor', preprocessor),\n",
    "    ('regressor', LGBMRegressor())\n",
    "])\n",
    "\n",
    "param_dist = {\n",
    "    'transformer__threshold_brands': [0, 2,5, 10, 20, 30,100,190],\n",
    "    'transformer__threshold_cylindersin': [2,5,50, 80, 86, 100, 120],\n",
    "    'transformer__threshold_models': [2,5,10, 20,40,70],\n",
    "    'transformer__num_new_features': [0, 10, 15, 20, 30, 40, 45,  50, 60],\n",
    "    'regressor__n_estimators': randint(100, 1000), \n",
    "    'regressor__learning_rate': [0.01, 0.05, 0.1],\n",
    "    'regressor__max_depth': randint(2, 10),\n",
    "    'regressor__num_leaves': randint(20, 100),\n",
    "    'regressor__subsample': [0.5, 0.7, 0.9],\n",
    "    'regressor__colsample_bytree': [0.5, 0.7, 0.9]\n",
    "}\n",
    "\n",
    "random_search_lgbm = RandomizedSearchCV(pipeline, param_distributions=param_dist,\n",
    "                                  n_iter=70, cv=3, n_jobs=-1, scoring='r2',\n",
    "                                  verbose=2, random_state=42)\n",
    "\n",
    "X_train, y_train = df_train.drop(['Price'], axis=1), df_train['Price']\n",
    "X_test, y_test = df_test.drop(['Price'], axis=1), df_test['Price']\n",
    "\n",
    "random_search_lgbm.fit(X_train, y_train)\n",
    "\n",
    "print(\"Лучшие параметры:\", random_search_lgbm.best_params_)\n",
    "\n",
    "y_pred = random_search_lgbm.predict(X_test)\n",
    "\n",
    "mse = mean_squared_error(y_test, y_pred)\n",
    "mae = mean_absolute_error(y_test,y_pred)\n",
    "rmse = mse ** 0.5\n",
    "r2 = r2_score(y_test, y_pred)\n",
    "\n",
    "print(f\"MAE: {mae:.5f}\")\n",
    "print(f\"RMSE: {rmse:.5f}\")\n",
    "print(f\"R2: {r2:.5f}\")"
   ]
  },
  {
   "cell_type": "markdown",
   "id": "fedc2bb2-ef5d-4ff5-83ae-f36725fb51b3",
   "metadata": {},
   "source": [
    "- Аналогично для XBBoost"
   ]
  },
  {
   "cell_type": "code",
   "execution_count": 162,
   "id": "5e3bc48e-abf9-452c-b430-8f50a26a0a9b",
   "metadata": {},
   "outputs": [
    {
     "name": "stdout",
     "output_type": "stream",
     "text": [
      "Fitting 3 folds for each of 50 candidates, totalling 150 fits\n",
      "Лучшие параметры: {'regressor__colsample_bytree': 0.5, 'regressor__learning_rate': 0.05, 'regressor__max_depth': 8, 'regressor__n_estimators': 226, 'regressor__reg_alpha': 0, 'regressor__reg_lambda': 5, 'regressor__subsample': 0.5, 'transformer__num_new_features': 0, 'transformer__threshold_brands': 2, 'transformer__threshold_cylindersin': 5, 'transformer__threshold_models': 2}\n",
      "MAE: 6448.61953\n",
      "RMSE: 14128.06193\n",
      "R2: 0.85654\n"
     ]
    }
   ],
   "source": [
    "numeric_columns = ['Kilometres','Year', 'Engine', 'FuelConsumption']\n",
    "categorical_columns = df_train.drop(numeric_columns + ['Car/Suv','Price','Title'], axis=1).columns\n",
    "\n",
    "\n",
    "preprocessor = ColumnTransformer(\n",
    "    transformers=[\n",
    "        ('num', StandardScaler(), ['Kilometres','Year', 'Engine', 'FuelConsumption','EnginePerCylinder','AvgKilometresPerYear']),\n",
    "        ('cat', OneHotEncoder(handle_unknown='ignore'), categorical_columns)\n",
    "    ]\n",
    ")\n",
    "\n",
    "pipeline = Pipeline(steps=[\n",
    "    ('transformer', BaseDataTransformer()),\n",
    "    ('preprocessor', preprocessor),\n",
    "    ('regressor', XGBRegressor(objective='reg:squarederror'))\n",
    "])\n",
    "\n",
    "param_dist = {\n",
    "    'transformer__threshold_brands': [0, 2, 5, 10, 20, 30, 100, 190],\n",
    "    'transformer__threshold_cylindersin': [2, 5, 50, 80, 86, 100, 120],\n",
    "    'transformer__threshold_models': [2, 5, 10, 20, 40, 70],\n",
    "    'transformer__num_new_features': [0, 10, 15, 20, 30, 40, 45, 50, 60],\n",
    "    'regressor__n_estimators': randint(100, 1000),\n",
    "    'regressor__learning_rate': [0.01, 0.05, 0.1],\n",
    "    'regressor__max_depth': randint(2, 10),\n",
    "    'regressor__subsample': [0.5, 0.7, 0.9],\n",
    "    'regressor__colsample_bytree': [0.5, 0.7, 0.9],\n",
    "    'regressor__reg_lambda': [0.1, 0.5, 1, 5],\n",
    "    'regressor__reg_alpha': [0, 0.1, 0.5, 1]\n",
    "}\n",
    "\n",
    "random_search_xgb = RandomizedSearchCV(pipeline, param_distributions=param_dist,\n",
    "                                  n_iter=50, cv=3, n_jobs=-1, scoring='r2',\n",
    "                                  verbose=2, random_state=42)\n",
    "\n",
    "X_train, y_train = df_train.drop(['Price'], axis=1), df_train['Price']\n",
    "X_test, y_test = df_test.drop(['Price'], axis=1), df_test['Price']\n",
    "\n",
    "random_search_xgb.fit(X_train, y_train)\n",
    "\n",
    "print(\"Лучшие параметры:\", random_search_xgb.best_params_)\n",
    "\n",
    "y_pred = random_search_xgb.predict(X_test)\n",
    "\n",
    "mse = mean_squared_error(y_test, y_pred)\n",
    "mae = mean_absolute_error(y_test,y_pred)\n",
    "rmse = mse ** 0.5\n",
    "r2 = r2_score(y_test, y_pred)\n",
    "\n",
    "print(f\"MAE: {mae:.5f}\")\n",
    "print(f\"RMSE: {rmse:.5f}\")\n",
    "print(f\"R2: {r2:.5f}\")"
   ]
  },
  {
   "cell_type": "code",
   "execution_count": 163,
   "id": "a31fcfd2-c409-44d4-ae78-e8a44f5e0e1e",
   "metadata": {},
   "outputs": [
    {
     "name": "stdout",
     "output_type": "stream",
     "text": [
      "MAE: 5072.61161\n",
      "RMSE: 12654.62166\n",
      "R2: 0.88490\n"
     ]
    }
   ],
   "source": [
    "base_models = {'lgbm':random_search_lgbm, 'xgboost': random_search_xgb, 'catboost': pipeline_catboost}\n",
    "\n",
    "def generate_predictions(models, X):\n",
    "    predictions = []\n",
    "    for name, model in models.items():\n",
    "        preds = model.predict(X)\n",
    "        predictions.append(preds)\n",
    "    return np.column_stack(predictions)\n",
    "\n",
    "X_train_preds = generate_predictions(base_models, X_train)\n",
    "\n",
    "#meta_model = CatBoostRegressor(random_state=42, verbose=0)\n",
    "meta_model = RandomForestRegressor(n_estimators=300)\n",
    "meta_model.fit(X_train_preds, y_train)\n",
    "\n",
    "X_test_preds = generate_predictions(base_models, X_test)\n",
    "\n",
    "y_pred = meta_model.predict(X_test_preds)\n",
    "\n",
    "mse = mean_squared_error(y_test, y_pred)\n",
    "mae = mean_absolute_error(y_test, y_pred)\n",
    "rmse = mse ** 0.5\n",
    "r2 = r2_score(y_test, y_pred)\n",
    "\n",
    "print(f\"MAE: {mae:.5f}\")\n",
    "print(f\"RMSE: {rmse:.5f}\")\n",
    "print(f\"R2: {r2:.5f}\")\n"
   ]
  },
  {
   "cell_type": "code",
   "execution_count": 224,
   "id": "8954d0a8-d3ff-47c9-95d7-82dea64a6828",
   "metadata": {
    "scrolled": true
   },
   "outputs": [
    {
     "name": "stdout",
     "output_type": "stream",
     "text": [
      "Количество признаков = 38\n",
      "--------------------------------------------------\n",
      "Изучаем колонку Kilometres\n",
      "Сейчас используются колонки с именами: ['Kilometres']\n",
      "Learning rate set to 0.061659\n",
      "0:\tlearn: 36708.3437844\ttotal: 156ms\tremaining: 2m 35s\n",
      "999:\tlearn: 32355.1997302\ttotal: 2.6s\tremaining: 0us\n",
      "MAE: 16604.28380\n",
      "RMSE: 32490.93665\n",
      "R2: 0.24128\n",
      "--------------------------------------------------\n",
      "Изучаем колонку Year\n",
      "Сейчас используются колонки с именами: ['Kilometres', 'Year']\n",
      "Learning rate set to 0.061659\n",
      "0:\tlearn: 36599.9434841\ttotal: 7.04ms\tremaining: 7.03s\n",
      "999:\tlearn: 26960.2779061\ttotal: 2.52s\tremaining: 0us\n",
      "MAE: 15544.17532\n",
      "RMSE: 32615.62760\n",
      "R2: 0.23544\n",
      "--------------------------------------------------\n",
      "Изучаем колонку Engine\n",
      "Сейчас используются колонки с именами: ['Kilometres', 'Engine']\n",
      "Learning rate set to 0.061659\n",
      "0:\tlearn: 36382.8274640\ttotal: 4.91ms\tremaining: 4.91s\n",
      "999:\tlearn: 22379.8098581\ttotal: 3.48s\tremaining: 0us\n",
      "MAE: 11809.53574\n",
      "RMSE: 25512.90817\n",
      "R2: 0.53218\n",
      "--------------------------------------------------\n",
      "Изучаем колонку FuelConsumption\n",
      "Сейчас используются колонки с именами: ['Kilometres', 'Engine', 'FuelConsumption']\n",
      "Learning rate set to 0.061659\n",
      "0:\tlearn: 36413.9639995\ttotal: 7.25ms\tremaining: 7.24s\n",
      "999:\tlearn: 20274.7362106\ttotal: 4.76s\tremaining: 0us\n",
      "MAE: 10332.99061\n",
      "RMSE: 20580.58055\n",
      "R2: 0.69558\n",
      "--------------------------------------------------\n",
      "Изучаем колонку EnginePerCylinder\n",
      "Сейчас используются колонки с именами: ['Kilometres', 'Engine', 'FuelConsumption', 'EnginePerCylinder']\n",
      "Learning rate set to 0.061659\n",
      "0:\tlearn: 36281.7070745\ttotal: 6.7ms\tremaining: 6.69s\n",
      "999:\tlearn: 19692.6616088\ttotal: 3.95s\tremaining: 0us\n",
      "MAE: 9746.34994\n",
      "RMSE: 19509.57790\n",
      "R2: 0.72644\n",
      "--------------------------------------------------\n",
      "Изучаем колонку AvgKilometresPerYear\n",
      "Сейчас используются колонки с именами: ['Kilometres', 'Engine', 'FuelConsumption', 'EnginePerCylinder', 'AvgKilometresPerYear']\n",
      "Learning rate set to 0.061659\n",
      "0:\tlearn: 36290.7774552\ttotal: 3.43ms\tremaining: 3.43s\n",
      "999:\tlearn: 14863.5992966\ttotal: 3.78s\tremaining: 0us\n",
      "MAE: 9024.07454\n",
      "RMSE: 18574.48491\n",
      "R2: 0.75203\n",
      "--------------------------------------------------\n",
      "Изучаем колонку Brand\n",
      "Сейчас используются колонки с именами: ['Kilometres', 'Engine', 'FuelConsumption', 'EnginePerCylinder', 'AvgKilometresPerYear', 'Brand']\n",
      "Learning rate set to 0.061659\n",
      "0:\tlearn: 36286.5362056\ttotal: 76.9ms\tremaining: 1m 16s\n",
      "999:\tlearn: 11229.3706775\ttotal: 1m 16s\tremaining: 0us\n",
      "MAE: 7472.24625\n",
      "RMSE: 15944.11207\n",
      "R2: 0.81729\n",
      "--------------------------------------------------\n",
      "Изучаем колонку Model\n",
      "Сейчас используются колонки с именами: ['Kilometres', 'Engine', 'FuelConsumption', 'EnginePerCylinder', 'AvgKilometresPerYear', 'Brand', 'Model']\n",
      "Learning rate set to 0.061659\n",
      "0:\tlearn: 36193.7869400\ttotal: 53.3ms\tremaining: 53.3s\n",
      "999:\tlearn: 10420.8886546\ttotal: 1m 15s\tremaining: 0us\n",
      "MAE: 6779.18939\n",
      "RMSE: 15616.57875\n",
      "R2: 0.82472\n",
      "--------------------------------------------------\n",
      "Изучаем колонку UsedOrNew\n",
      "Сейчас используются колонки с именами: ['Kilometres', 'Engine', 'FuelConsumption', 'EnginePerCylinder', 'AvgKilometresPerYear', 'Brand', 'Model', 'UsedOrNew']\n",
      "Learning rate set to 0.061659\n",
      "0:\tlearn: 36196.6446172\ttotal: 55.1ms\tremaining: 55s\n",
      "999:\tlearn: 10254.7361697\ttotal: 1m 18s\tremaining: 0us\n",
      "MAE: 6754.23786\n",
      "RMSE: 15515.68898\n",
      "R2: 0.82698\n",
      "--------------------------------------------------\n",
      "Изучаем колонку Transmission\n",
      "Сейчас используются колонки с именами: ['Kilometres', 'Engine', 'FuelConsumption', 'EnginePerCylinder', 'AvgKilometresPerYear', 'Brand', 'Model', 'Transmission']\n",
      "Learning rate set to 0.061659\n",
      "0:\tlearn: 36204.3957150\ttotal: 73.6ms\tremaining: 1m 13s\n",
      "999:\tlearn: 10436.6704237\ttotal: 1m 18s\tremaining: 0us\n",
      "MAE: 6780.42201\n",
      "RMSE: 15609.80572\n",
      "R2: 0.82487\n",
      "--------------------------------------------------\n",
      "Изучаем колонку DriveType\n",
      "Сейчас используются колонки с именами: ['Kilometres', 'Engine', 'FuelConsumption', 'EnginePerCylinder', 'AvgKilometresPerYear', 'Brand', 'Model', 'DriveType']\n",
      "Learning rate set to 0.061659\n",
      "0:\tlearn: 36167.7953351\ttotal: 69.7ms\tremaining: 1m 9s\n",
      "999:\tlearn: 9788.6429298\ttotal: 1m 26s\tremaining: 0us\n",
      "MAE: 6538.69467\n",
      "RMSE: 15054.28432\n",
      "R2: 0.83712\n",
      "--------------------------------------------------\n",
      "Изучаем колонку FuelType\n",
      "Сейчас используются колонки с именами: ['Kilometres', 'Engine', 'FuelConsumption', 'EnginePerCylinder', 'AvgKilometresPerYear', 'Brand', 'Model', 'DriveType', 'FuelType']\n",
      "Learning rate set to 0.061659\n",
      "0:\tlearn: 36275.4400271\ttotal: 76.1ms\tremaining: 1m 16s\n",
      "999:\tlearn: 9506.8099588\ttotal: 1m 23s\tremaining: 0us\n",
      "MAE: 6432.43466\n",
      "RMSE: 15063.57229\n",
      "R2: 0.83691\n",
      "--------------------------------------------------\n",
      "Изучаем колонку ColourExtInt\n",
      "Сейчас используются колонки с именами: ['Kilometres', 'Engine', 'FuelConsumption', 'EnginePerCylinder', 'AvgKilometresPerYear', 'Brand', 'Model', 'DriveType', 'ColourExtInt']\n",
      "Learning rate set to 0.061659\n",
      "0:\tlearn: 36275.4400271\ttotal: 82.7ms\tremaining: 1m 22s\n",
      "999:\tlearn: 9753.0988101\ttotal: 1m 22s\tremaining: 0us\n",
      "MAE: 6497.25358\n",
      "RMSE: 15066.88615\n",
      "R2: 0.83684\n",
      "--------------------------------------------------\n",
      "Изучаем колонку Location\n",
      "Сейчас используются колонки с именами: ['Kilometres', 'Engine', 'FuelConsumption', 'EnginePerCylinder', 'AvgKilometresPerYear', 'Brand', 'Model', 'DriveType', 'Location']\n",
      "Learning rate set to 0.061659\n",
      "0:\tlearn: 36164.3903570\ttotal: 88.5ms\tremaining: 1m 28s\n",
      "999:\tlearn: 9641.5193722\ttotal: 1m 22s\tremaining: 0us\n",
      "MAE: 6594.47678\n",
      "RMSE: 15562.55451\n",
      "R2: 0.82593\n",
      "--------------------------------------------------\n",
      "Изучаем колонку CylindersinEngine\n",
      "Сейчас используются колонки с именами: ['Kilometres', 'Engine', 'FuelConsumption', 'EnginePerCylinder', 'AvgKilometresPerYear', 'Brand', 'Model', 'DriveType', 'CylindersinEngine']\n",
      "Learning rate set to 0.061659\n",
      "0:\tlearn: 36278.5716433\ttotal: 82.7ms\tremaining: 1m 22s\n",
      "999:\tlearn: 9677.3253188\ttotal: 1m 29s\tremaining: 0us\n",
      "MAE: 6606.47670\n",
      "RMSE: 15824.05177\n",
      "R2: 0.82003\n",
      "--------------------------------------------------\n",
      "Изучаем колонку BodyType\n",
      "Сейчас используются колонки с именами: ['Kilometres', 'Engine', 'FuelConsumption', 'EnginePerCylinder', 'AvgKilometresPerYear', 'Brand', 'Model', 'DriveType', 'BodyType']\n",
      "Learning rate set to 0.061659\n",
      "0:\tlearn: 36164.3903570\ttotal: 73.7ms\tremaining: 1m 13s\n",
      "999:\tlearn: 9685.4747420\ttotal: 1m 23s\tremaining: 0us\n",
      "MAE: 6558.13146\n",
      "RMSE: 15226.82550\n",
      "R2: 0.83336\n",
      "--------------------------------------------------\n",
      "Изучаем колонку Doors\n",
      "Сейчас используются колонки с именами: ['Kilometres', 'Engine', 'FuelConsumption', 'EnginePerCylinder', 'AvgKilometresPerYear', 'Brand', 'Model', 'DriveType', 'Doors']\n",
      "Learning rate set to 0.061659\n",
      "0:\tlearn: 36275.4400271\ttotal: 83.4ms\tremaining: 1m 23s\n",
      "999:\tlearn: 10164.4732311\ttotal: 1m 22s\tremaining: 0us\n",
      "MAE: 6550.02345\n",
      "RMSE: 15276.36541\n",
      "R2: 0.83227\n",
      "--------------------------------------------------\n",
      "Изучаем колонку Seats\n",
      "Сейчас используются колонки с именами: ['Kilometres', 'Engine', 'FuelConsumption', 'EnginePerCylinder', 'AvgKilometresPerYear', 'Brand', 'Model', 'DriveType', 'Seats']\n",
      "Learning rate set to 0.061659\n",
      "0:\tlearn: 36275.4400271\ttotal: 78ms\tremaining: 1m 17s\n",
      "999:\tlearn: 9659.5465720\ttotal: 1m 25s\tremaining: 0us\n",
      "MAE: 6459.01576\n",
      "RMSE: 15106.69449\n",
      "R2: 0.83598\n",
      "--------------------------------------------------\n",
      "Изучаем колонку Sport\n",
      "Сейчас используются колонки с именами: ['Kilometres', 'Engine', 'FuelConsumption', 'EnginePerCylinder', 'AvgKilometresPerYear', 'Brand', 'Model', 'DriveType', 'Sport']\n",
      "Learning rate set to 0.061659\n",
      "0:\tlearn: 36164.3903570\ttotal: 68.7ms\tremaining: 1m 8s\n",
      "999:\tlearn: 9812.8736395\ttotal: 1m 18s\tremaining: 0us\n",
      "MAE: 6572.53526\n",
      "RMSE: 15197.68148\n",
      "R2: 0.83400\n",
      "--------------------------------------------------\n",
      "Изучаем колонку S\n",
      "Сейчас используются колонки с именами: ['Kilometres', 'Engine', 'FuelConsumption', 'EnginePerCylinder', 'AvgKilometresPerYear', 'Brand', 'Model', 'DriveType', 'S']\n",
      "Learning rate set to 0.061659\n",
      "0:\tlearn: 36164.3903570\ttotal: 60.9ms\tremaining: 1m\n",
      "999:\tlearn: 9904.4912045\ttotal: 1m 24s\tremaining: 0us\n",
      "MAE: 6682.78486\n",
      "RMSE: 15683.66843\n",
      "R2: 0.82321\n",
      "--------------------------------------------------\n",
      "Изучаем колонку Active\n",
      "Сейчас используются колонки с именами: ['Kilometres', 'Engine', 'FuelConsumption', 'EnginePerCylinder', 'AvgKilometresPerYear', 'Brand', 'Model', 'DriveType', 'Active']\n",
      "Learning rate set to 0.061659\n",
      "0:\tlearn: 36164.3903570\ttotal: 64.2ms\tremaining: 1m 4s\n",
      "999:\tlearn: 9664.5851149\ttotal: 1m 23s\tremaining: 0us\n",
      "MAE: 6596.96478\n",
      "RMSE: 15336.38256\n",
      "R2: 0.83095\n",
      "--------------------------------------------------\n",
      "Изучаем колонку TSI\n",
      "Сейчас используются колонки с именами: ['Kilometres', 'Engine', 'FuelConsumption', 'EnginePerCylinder', 'AvgKilometresPerYear', 'Brand', 'Model', 'DriveType', 'TSI']\n",
      "Learning rate set to 0.061659\n",
      "0:\tlearn: 36164.3903570\ttotal: 69.5ms\tremaining: 1m 9s\n",
      "999:\tlearn: 9816.5409510\ttotal: 1m 22s\tremaining: 0us\n",
      "MAE: 6568.89395\n",
      "RMSE: 15216.21611\n",
      "R2: 0.83359\n",
      "--------------------------------------------------\n",
      "Изучаем колонку Hybrid\n",
      "Сейчас используются колонки с именами: ['Kilometres', 'Engine', 'FuelConsumption', 'EnginePerCylinder', 'AvgKilometresPerYear', 'Brand', 'Model', 'DriveType', 'Hybrid']\n",
      "Learning rate set to 0.061659\n",
      "0:\tlearn: 36164.3903570\ttotal: 95.9ms\tremaining: 1m 35s\n",
      "999:\tlearn: 9746.1265275\ttotal: 1m 22s\tremaining: 0us\n",
      "MAE: 6615.57620\n",
      "RMSE: 15474.65224\n",
      "R2: 0.82789\n",
      "--------------------------------------------------\n",
      "Изучаем колонку ST\n",
      "Сейчас используются колонки с именами: ['Kilometres', 'Engine', 'FuelConsumption', 'EnginePerCylinder', 'AvgKilometresPerYear', 'Brand', 'Model', 'DriveType', 'ST']\n",
      "Learning rate set to 0.061659\n",
      "0:\tlearn: 36164.3903570\ttotal: 69.6ms\tremaining: 1m 9s\n",
      "999:\tlearn: 9737.4822574\ttotal: 1m 24s\tremaining: 0us\n",
      "MAE: 6605.77887\n",
      "RMSE: 15157.06508\n",
      "R2: 0.83488\n",
      "--------------------------------------------------\n",
      "Изучаем колонку Ascent\n",
      "Сейчас используются колонки с именами: ['Kilometres', 'Engine', 'FuelConsumption', 'EnginePerCylinder', 'AvgKilometresPerYear', 'Brand', 'Model', 'DriveType', 'Ascent']\n",
      "Learning rate set to 0.061659\n",
      "0:\tlearn: 36164.3903570\ttotal: 98ms\tremaining: 1m 37s\n",
      "999:\tlearn: 9834.7094165\ttotal: 1m 27s\tremaining: 0us\n",
      "MAE: 6565.20635\n",
      "RMSE: 15122.72576\n",
      "R2: 0.83563\n",
      "--------------------------------------------------\n",
      "Изучаем колонку Seat\n",
      "Сейчас используются колонки с именами: ['Kilometres', 'Engine', 'FuelConsumption', 'EnginePerCylinder', 'AvgKilometresPerYear', 'Brand', 'Model', 'DriveType', 'Seat']\n",
      "Learning rate set to 0.061659\n",
      "0:\tlearn: 36164.3903570\ttotal: 89.9ms\tremaining: 1m 29s\n",
      "999:\tlearn: 9602.7666746\ttotal: 1m 29s\tremaining: 0us\n",
      "MAE: 6613.54837\n",
      "RMSE: 15489.80703\n",
      "R2: 0.82755\n",
      "--------------------------------------------------\n",
      "Изучаем колонку GXL\n",
      "Сейчас используются колонки с именами: ['Kilometres', 'Engine', 'FuelConsumption', 'EnginePerCylinder', 'AvgKilometresPerYear', 'Brand', 'Model', 'DriveType', 'GXL']\n",
      "Learning rate set to 0.061659\n",
      "0:\tlearn: 36164.3903570\ttotal: 83.1ms\tremaining: 1m 23s\n",
      "999:\tlearn: 9741.3449475\ttotal: 1m 23s\tremaining: 0us\n",
      "MAE: 6628.82100\n",
      "RMSE: 15512.50851\n",
      "R2: 0.82705\n",
      "--------------------------------------------------\n",
      "Изучаем колонку LS\n",
      "Сейчас используются колонки с именами: ['Kilometres', 'Engine', 'FuelConsumption', 'EnginePerCylinder', 'AvgKilometresPerYear', 'Brand', 'Model', 'DriveType', 'LS']\n",
      "Learning rate set to 0.061659\n",
      "0:\tlearn: 36164.3903570\ttotal: 73ms\tremaining: 1m 12s\n",
      "999:\tlearn: 9662.5669541\ttotal: 1m 20s\tremaining: 0us\n",
      "MAE: 6563.07561\n",
      "RMSE: 15422.63828\n",
      "R2: 0.82905\n",
      "--------------------------------------------------\n",
      "Изучаем колонку GT\n",
      "Сейчас используются колонки с именами: ['Kilometres', 'Engine', 'FuelConsumption', 'EnginePerCylinder', 'AvgKilometresPerYear', 'Brand', 'Model', 'DriveType', 'GT']\n",
      "Learning rate set to 0.061659\n",
      "0:\tlearn: 36164.3903570\ttotal: 85.7ms\tremaining: 1m 25s\n",
      "999:\tlearn: 9475.5153565\ttotal: 1m 21s\tremaining: 0us\n",
      "MAE: 6529.60468\n",
      "RMSE: 15324.18896\n",
      "R2: 0.83122\n",
      "--------------------------------------------------\n",
      "Изучаем колонку Tfsi\n",
      "Сейчас используются колонки с именами: ['Kilometres', 'Engine', 'FuelConsumption', 'EnginePerCylinder', 'AvgKilometresPerYear', 'Brand', 'Model', 'DriveType', 'Tfsi']\n",
      "Learning rate set to 0.061659\n",
      "0:\tlearn: 36164.3903570\ttotal: 66.1ms\tremaining: 1m 6s\n",
      "999:\tlearn: 9524.7050825\ttotal: 1m 17s\tremaining: 0us\n",
      "MAE: 6563.06485\n",
      "RMSE: 15449.82953\n",
      "R2: 0.82844\n",
      "--------------------------------------------------\n",
      "Изучаем колонку Quattro\n",
      "Сейчас используются колонки с именами: ['Kilometres', 'Engine', 'FuelConsumption', 'EnginePerCylinder', 'AvgKilometresPerYear', 'Brand', 'Model', 'DriveType', 'Quattro']\n",
      "Learning rate set to 0.061659\n",
      "0:\tlearn: 36164.3903570\ttotal: 85.4ms\tremaining: 1m 25s\n",
      "999:\tlearn: 9603.9686392\ttotal: 1m 22s\tremaining: 0us\n",
      "MAE: 6601.45276\n",
      "RMSE: 15317.41701\n",
      "R2: 0.83137\n",
      "--------------------------------------------------\n",
      "Изучаем колонку Premium\n",
      "Сейчас используются колонки с именами: ['Kilometres', 'Engine', 'FuelConsumption', 'EnginePerCylinder', 'AvgKilometresPerYear', 'Brand', 'Model', 'DriveType', 'Premium']\n",
      "Learning rate set to 0.061659\n",
      "0:\tlearn: 36164.3903570\ttotal: 85.2ms\tremaining: 1m 25s\n",
      "999:\tlearn: 9631.2456575\ttotal: 1m 24s\tremaining: 0us\n",
      "MAE: 6584.93033\n",
      "RMSE: 15482.40776\n",
      "R2: 0.82772\n",
      "--------------------------------------------------\n",
      "Изучаем колонку TDI\n",
      "Сейчас используются колонки с именами: ['Kilometres', 'Engine', 'FuelConsumption', 'EnginePerCylinder', 'AvgKilometresPerYear', 'Brand', 'Model', 'DriveType', 'TDI']\n",
      "Learning rate set to 0.061659\n",
      "0:\tlearn: 36164.3903570\ttotal: 72.7ms\tremaining: 1m 12s\n",
      "999:\tlearn: 9788.3691792\ttotal: 1m 21s\tremaining: 0us\n",
      "MAE: 6627.01487\n",
      "RMSE: 15207.22748\n",
      "R2: 0.83379\n",
      "--------------------------------------------------\n",
      "Изучаем колонку LWB\n",
      "Сейчас используются колонки с именами: ['Kilometres', 'Engine', 'FuelConsumption', 'EnginePerCylinder', 'AvgKilometresPerYear', 'Brand', 'Model', 'DriveType', 'LWB']\n",
      "Learning rate set to 0.061659\n",
      "0:\tlearn: 36164.3903570\ttotal: 93.6ms\tremaining: 1m 33s\n",
      "999:\tlearn: 9827.9363809\ttotal: 1m 25s\tremaining: 0us\n",
      "MAE: 6592.67730\n",
      "RMSE: 15267.80299\n",
      "R2: 0.83246\n",
      "--------------------------------------------------\n",
      "Изучаем колонку GX\n",
      "Сейчас используются колонки с именами: ['Kilometres', 'Engine', 'FuelConsumption', 'EnginePerCylinder', 'AvgKilometresPerYear', 'Brand', 'Model', 'DriveType', 'GX']\n",
      "Learning rate set to 0.061659\n",
      "0:\tlearn: 36164.3903570\ttotal: 82.2ms\tremaining: 1m 22s\n",
      "999:\tlearn: 9645.7913713\ttotal: 1m 25s\tremaining: 0us\n",
      "MAE: 6608.15068\n",
      "RMSE: 15465.51921\n",
      "R2: 0.82809\n",
      "--------------------------------------------------\n",
      "Изучаем колонку Edition\n",
      "Сейчас используются колонки с именами: ['Kilometres', 'Engine', 'FuelConsumption', 'EnginePerCylinder', 'AvgKilometresPerYear', 'Brand', 'Model', 'DriveType', 'Edition']\n",
      "Learning rate set to 0.061659\n",
      "0:\tlearn: 36164.3903570\ttotal: 108ms\tremaining: 1m 47s\n",
      "999:\tlearn: 9574.2020467\ttotal: 1m 23s\tremaining: 0us\n",
      "MAE: 6636.97912\n",
      "RMSE: 15215.38536\n",
      "R2: 0.83361\n",
      "--------------------------------------------------\n",
      "Изучаем колонку Luxury\n",
      "Сейчас используются колонки с именами: ['Kilometres', 'Engine', 'FuelConsumption', 'EnginePerCylinder', 'AvgKilometresPerYear', 'Brand', 'Model', 'DriveType', 'Luxury']\n",
      "Learning rate set to 0.061659\n",
      "0:\tlearn: 36164.3903570\ttotal: 88.1ms\tremaining: 1m 28s\n",
      "999:\tlearn: 9665.6268839\ttotal: 1m 25s\tremaining: 0us\n",
      "MAE: 6591.41394\n",
      "RMSE: 15310.96302\n",
      "R2: 0.83151\n",
      "--------------------------------------------------\n",
      "Изучаем колонку SR\n",
      "Сейчас используются колонки с именами: ['Kilometres', 'Engine', 'FuelConsumption', 'EnginePerCylinder', 'AvgKilometresPerYear', 'Brand', 'Model', 'DriveType', 'SR']\n",
      "Learning rate set to 0.061659\n",
      "0:\tlearn: 36164.3903570\ttotal: 77.9ms\tremaining: 1m 17s\n",
      "999:\tlearn: 9751.6794016\ttotal: 1m 23s\tremaining: 0us\n",
      "MAE: 6547.62247\n",
      "RMSE: 15280.06607\n",
      "R2: 0.83219\n"
     ]
    }
   ],
   "source": [
    "X_train, y_train = df_train.drop(['Price'], axis=1), df_train['Price']\n",
    "X_test, y_test = df_test.drop(['Price'], axis=1), df_test['Price']\n",
    "dt = BaseDataTransformer(threshold_brands=10, threshold_cylindersin=86,threshold_models=10, num_new_features=20)\n",
    "\n",
    "X_train = dt.fit_transform(X_train)\n",
    "X_test = dt.transform(X_test)\n",
    "\n",
    "categorical_columns = df_train.drop(['Kilometres','Year', 'Engine', 'FuelConsumption'] + ['Car/Suv','Price','Title'], axis=1).columns\n",
    "numeric_columns = ['Kilometres', 'Year', 'Engine', 'FuelConsumption', 'EnginePerCylinder', 'AvgKilometresPerYear']\n",
    "gfs = GreedyFeatureSelection(iterations=1000)\n",
    "res_cols, res_cat_cols = gfs.feature_selection(X_train, y_train, X_test, y_test,numeric_columns,categorical_columns)"
   ]
  },
  {
   "cell_type": "markdown",
   "id": "fcdd70c4-1214-4333-b201-4d0240383b7a",
   "metadata": {},
   "source": [
    "Используя атрибут logs выведем получившиеся параметры"
   ]
  },
  {
   "cell_type": "code",
   "execution_count": 226,
   "id": "78957568-b46d-4d71-8d45-462e0c8b7503",
   "metadata": {},
   "outputs": [
    {
     "data": {
      "text/plain": [
       "{'best_features': ['Kilometres',\n",
       "  'Engine',\n",
       "  'FuelConsumption',\n",
       "  'EnginePerCylinder',\n",
       "  'AvgKilometresPerYear',\n",
       "  'Brand',\n",
       "  'Model',\n",
       "  'DriveType'],\n",
       " 'best_categorical_cols': ['Brand', 'Model', 'DriveType'],\n",
       " 'best_numeric_cols': ['Kilometres',\n",
       "  'Engine',\n",
       "  'FuelConsumption',\n",
       "  'EnginePerCylinder',\n",
       "  'AvgKilometresPerYear'],\n",
       " 'best_r2_score': 0.8371154873127304}"
      ]
     },
     "execution_count": 226,
     "metadata": {},
     "output_type": "execute_result"
    }
   ],
   "source": [
    "gfs.logs"
   ]
  },
  {
   "cell_type": "code",
   "execution_count": 243,
   "id": "4ca71b7f-3477-43cc-9218-af5bcf0cd0ec",
   "metadata": {},
   "outputs": [
    {
     "name": "stdout",
     "output_type": "stream",
     "text": [
      "0:\tlearn: 36766.6544526\ttotal: 79.6ms\tremaining: 13m 15s\n",
      "100:\tlearn: 24522.5586785\ttotal: 8.15s\tremaining: 13m 18s\n",
      "200:\tlearn: 22488.8779885\ttotal: 15.5s\tremaining: 12m 38s\n",
      "300:\tlearn: 21183.0369010\ttotal: 22.7s\tremaining: 12m 10s\n",
      "400:\tlearn: 20357.6576065\ttotal: 30.3s\tremaining: 12m 5s\n",
      "500:\tlearn: 19619.9953911\ttotal: 38.4s\tremaining: 12m 7s\n",
      "600:\tlearn: 18951.5541530\ttotal: 46.1s\tremaining: 12m\n",
      "700:\tlearn: 18314.4417007\ttotal: 54.1s\tremaining: 11m 57s\n",
      "800:\tlearn: 17671.6048769\ttotal: 1m 1s\tremaining: 11m 48s\n",
      "900:\tlearn: 17114.3243483\ttotal: 1m 9s\tremaining: 11m 39s\n",
      "1000:\tlearn: 16651.7459134\ttotal: 1m 16s\tremaining: 11m 29s\n",
      "1100:\tlearn: 16162.3102578\ttotal: 1m 25s\tremaining: 11m 27s\n",
      "1200:\tlearn: 15688.2305464\ttotal: 1m 33s\tremaining: 11m 23s\n",
      "1300:\tlearn: 15325.0377479\ttotal: 1m 41s\tremaining: 11m 16s\n",
      "1400:\tlearn: 14981.6015984\ttotal: 1m 49s\tremaining: 11m 11s\n",
      "1500:\tlearn: 14652.4781416\ttotal: 1m 57s\tremaining: 11m 3s\n",
      "1600:\tlearn: 14244.0249882\ttotal: 2m 4s\tremaining: 10m 53s\n",
      "1700:\tlearn: 13816.6960893\ttotal: 2m 12s\tremaining: 10m 46s\n",
      "1800:\tlearn: 13475.8530143\ttotal: 2m 20s\tremaining: 10m 40s\n",
      "1900:\tlearn: 13156.4728351\ttotal: 2m 28s\tremaining: 10m 32s\n",
      "2000:\tlearn: 12886.0450051\ttotal: 2m 37s\tremaining: 10m 28s\n",
      "2100:\tlearn: 12686.1715348\ttotal: 2m 45s\tremaining: 10m 23s\n",
      "2200:\tlearn: 12502.9685582\ttotal: 2m 54s\tremaining: 10m 17s\n",
      "2300:\tlearn: 12287.2731721\ttotal: 3m 1s\tremaining: 10m 8s\n",
      "2400:\tlearn: 12074.2797092\ttotal: 3m 10s\tremaining: 10m 2s\n",
      "2500:\tlearn: 11827.6427657\ttotal: 3m 18s\tremaining: 9m 55s\n",
      "2600:\tlearn: 11612.0017128\ttotal: 3m 27s\tremaining: 9m 49s\n",
      "2700:\tlearn: 11404.2866436\ttotal: 3m 36s\tremaining: 9m 44s\n",
      "2800:\tlearn: 11209.8274567\ttotal: 3m 45s\tremaining: 9m 38s\n",
      "2900:\tlearn: 11029.7110451\ttotal: 3m 53s\tremaining: 9m 31s\n",
      "3000:\tlearn: 10876.4624231\ttotal: 4m 1s\tremaining: 9m 24s\n",
      "3100:\tlearn: 10730.5419076\ttotal: 4m 10s\tremaining: 9m 16s\n",
      "3200:\tlearn: 10618.1782142\ttotal: 4m 18s\tremaining: 9m 9s\n",
      "3300:\tlearn: 10501.3728405\ttotal: 4m 26s\tremaining: 9m 1s\n",
      "3400:\tlearn: 10401.5656821\ttotal: 4m 34s\tremaining: 8m 53s\n",
      "3500:\tlearn: 10263.1143759\ttotal: 4m 43s\tremaining: 8m 45s\n",
      "3600:\tlearn: 10153.7512173\ttotal: 4m 51s\tremaining: 8m 38s\n",
      "3700:\tlearn: 10058.9743013\ttotal: 5m\tremaining: 8m 30s\n",
      "3800:\tlearn: 9934.5676524\ttotal: 5m 8s\tremaining: 8m 23s\n",
      "3900:\tlearn: 9811.4218050\ttotal: 5m 17s\tremaining: 8m 16s\n",
      "4000:\tlearn: 9693.9223770\ttotal: 5m 26s\tremaining: 8m 9s\n",
      "4100:\tlearn: 9605.0866541\ttotal: 5m 36s\tremaining: 8m 3s\n",
      "4200:\tlearn: 9522.2701537\ttotal: 5m 44s\tremaining: 7m 55s\n",
      "4300:\tlearn: 9435.4606773\ttotal: 5m 53s\tremaining: 7m 48s\n",
      "4400:\tlearn: 9335.4590815\ttotal: 6m 1s\tremaining: 7m 39s\n",
      "4500:\tlearn: 9230.0622192\ttotal: 6m 9s\tremaining: 7m 31s\n",
      "4600:\tlearn: 9148.3906627\ttotal: 6m 18s\tremaining: 7m 24s\n",
      "4700:\tlearn: 9075.9441737\ttotal: 6m 26s\tremaining: 7m 15s\n",
      "4800:\tlearn: 9000.1847999\ttotal: 6m 35s\tremaining: 7m 7s\n",
      "4900:\tlearn: 8924.3822819\ttotal: 6m 43s\tremaining: 6m 59s\n",
      "5000:\tlearn: 8858.4684780\ttotal: 6m 52s\tremaining: 6m 52s\n",
      "5100:\tlearn: 8808.9111195\ttotal: 7m 1s\tremaining: 6m 45s\n",
      "5200:\tlearn: 8750.2957215\ttotal: 7m 9s\tremaining: 6m 36s\n",
      "5300:\tlearn: 8687.4896511\ttotal: 7m 17s\tremaining: 6m 27s\n",
      "5400:\tlearn: 8620.3376147\ttotal: 7m 25s\tremaining: 6m 19s\n",
      "5500:\tlearn: 8562.0381082\ttotal: 7m 34s\tremaining: 6m 11s\n",
      "5600:\tlearn: 8496.4533189\ttotal: 7m 42s\tremaining: 6m 3s\n",
      "5700:\tlearn: 8441.0135897\ttotal: 7m 50s\tremaining: 5m 54s\n",
      "5800:\tlearn: 8393.7479569\ttotal: 7m 59s\tremaining: 5m 47s\n",
      "5900:\tlearn: 8341.7612309\ttotal: 8m 7s\tremaining: 5m 38s\n",
      "6000:\tlearn: 8282.4829350\ttotal: 8m 16s\tremaining: 5m 31s\n",
      "6100:\tlearn: 8224.7593125\ttotal: 8m 25s\tremaining: 5m 23s\n",
      "6200:\tlearn: 8169.7055723\ttotal: 8m 34s\tremaining: 5m 15s\n",
      "6300:\tlearn: 8103.2287844\ttotal: 8m 42s\tremaining: 5m 6s\n",
      "6400:\tlearn: 8051.7130501\ttotal: 8m 50s\tremaining: 4m 58s\n",
      "6500:\tlearn: 7998.5805700\ttotal: 8m 59s\tremaining: 4m 50s\n",
      "6600:\tlearn: 7949.4588023\ttotal: 9m 7s\tremaining: 4m 42s\n",
      "6700:\tlearn: 7894.9424159\ttotal: 9m 16s\tremaining: 4m 34s\n",
      "6800:\tlearn: 7838.8169771\ttotal: 9m 25s\tremaining: 4m 26s\n",
      "6900:\tlearn: 7794.9391196\ttotal: 9m 34s\tremaining: 4m 17s\n",
      "7000:\tlearn: 7754.5520974\ttotal: 9m 42s\tremaining: 4m 9s\n",
      "7100:\tlearn: 7709.1320349\ttotal: 9m 50s\tremaining: 4m 1s\n",
      "7200:\tlearn: 7661.9769856\ttotal: 9m 59s\tremaining: 3m 52s\n",
      "7300:\tlearn: 7616.0457828\ttotal: 10m 7s\tremaining: 3m 44s\n",
      "7400:\tlearn: 7564.9451468\ttotal: 10m 16s\tremaining: 3m 36s\n",
      "7500:\tlearn: 7523.7379643\ttotal: 10m 23s\tremaining: 3m 27s\n",
      "7600:\tlearn: 7481.6846807\ttotal: 10m 31s\tremaining: 3m 19s\n",
      "7700:\tlearn: 7437.0164095\ttotal: 10m 40s\tremaining: 3m 11s\n",
      "7800:\tlearn: 7398.5877982\ttotal: 10m 48s\tremaining: 3m 2s\n",
      "7900:\tlearn: 7364.4392230\ttotal: 10m 56s\tremaining: 2m 54s\n",
      "8000:\tlearn: 7321.0559771\ttotal: 11m 4s\tremaining: 2m 46s\n",
      "8100:\tlearn: 7278.1382736\ttotal: 11m 13s\tremaining: 2m 37s\n",
      "8200:\tlearn: 7237.9690903\ttotal: 11m 21s\tremaining: 2m 29s\n",
      "8300:\tlearn: 7204.2015129\ttotal: 11m 30s\tremaining: 2m 21s\n",
      "8400:\tlearn: 7168.8980501\ttotal: 11m 40s\tremaining: 2m 13s\n",
      "8500:\tlearn: 7135.3835239\ttotal: 11m 48s\tremaining: 2m 5s\n",
      "8600:\tlearn: 7099.1567028\ttotal: 11m 58s\tremaining: 1m 56s\n",
      "8700:\tlearn: 7063.5809881\ttotal: 12m 6s\tremaining: 1m 48s\n",
      "8800:\tlearn: 7026.9521639\ttotal: 12m 14s\tremaining: 1m 40s\n",
      "8900:\tlearn: 6990.2518469\ttotal: 12m 22s\tremaining: 1m 31s\n",
      "9000:\tlearn: 6953.9011142\ttotal: 12m 31s\tremaining: 1m 23s\n",
      "9100:\tlearn: 6919.9290777\ttotal: 12m 39s\tremaining: 1m 15s\n",
      "9200:\tlearn: 6883.2560965\ttotal: 12m 48s\tremaining: 1m 6s\n",
      "9300:\tlearn: 6849.0870795\ttotal: 12m 57s\tremaining: 58.4s\n",
      "9400:\tlearn: 6812.2528018\ttotal: 13m 5s\tremaining: 50.1s\n",
      "9500:\tlearn: 6772.6480217\ttotal: 13m 14s\tremaining: 41.7s\n",
      "9600:\tlearn: 6731.1420247\ttotal: 13m 23s\tremaining: 33.4s\n",
      "9700:\tlearn: 6702.1359969\ttotal: 13m 32s\tremaining: 25s\n",
      "9800:\tlearn: 6663.5104093\ttotal: 13m 41s\tremaining: 16.7s\n",
      "9900:\tlearn: 6631.8161231\ttotal: 13m 50s\tremaining: 8.3s\n",
      "9999:\tlearn: 6602.1227162\ttotal: 13m 58s\tremaining: 0us\n",
      "MAE: 6081.16524\n",
      "RMSE: 14755.83201\n",
      "R2: 0.84351\n"
     ]
    }
   ],
   "source": [
    "from catboost import CatBoostRegressor, Pool\n",
    "categorical_columns = df_train.drop(['Kilometres','Year', 'Engine', 'FuelConsumption'] + ['Car/Suv','Price','Title'], axis=1).columns\n",
    "numeric_columns = ['Kilometres', 'Year', 'Engine', 'FuelConsumption', 'EnginePerCylinder', 'AvgKilometresPerYear']\n",
    "\n",
    "all = gfs.logs['best_features']\n",
    "cat = gfs.logs['best_categorical_cols']\n",
    "numeric_columns_new = gfs.logs['best_numeric_cols']\n",
    "\n",
    "X_train, y_train = df_train.drop(['Price'], axis=1), df_train['Price']\n",
    "X_test, y_test = df_test.drop(['Price'], axis=1), df_test['Price']\n",
    "\n",
    "transformer = BaseDataTransformer(threshold_brands=5, threshold_cylindersin=86, threshold_models=10, num_new_features=20)\n",
    "X_train = transformer.fit_transform(X_train)\n",
    "X_test = transformer.transform(X_test)\n",
    "\n",
    "preprocessor = ColumnTransformer(\n",
    "    transformers=[\n",
    "        ('num', StandardScaler(), numeric_columns),\n",
    "    ],\n",
    "            remainder='passthrough'\n",
    ")\n",
    "new_features_categorical = list(X_train.drop(numeric_columns,axis=1).columns)\n",
    "full_cols_names = numeric_columns + new_features_categorical\n",
    "\n",
    "X_train = preprocessor.fit_transform(X_train)\n",
    "X_test = preprocessor.transform(X_test)\n",
    "\n",
    "X_train = pd.DataFrame(X_train,columns=full_cols_names)\n",
    "X_test = pd.DataFrame(X_test,columns=full_cols_names)\n",
    "\n",
    "train_pool = Pool(data=X_train[all],\n",
    "                          label=y_train,\n",
    "                          cat_features=cat) \n",
    "test_pool = Pool(data=X_test[all], cat_features=cat)\n",
    "regressor = CatBoostRegressor(task_type=\"CPU\", iterations=10000,verbose=100,l2_leaf_reg=10)\n",
    "\n",
    "regressor.fit(train_pool)\n",
    "          \n",
    "y_pred = regressor.predict(test_pool)\n",
    "\n",
    "mse = mean_squared_error(y_test, y_pred)\n",
    "mae = mean_absolute_error(y_test, y_pred)\n",
    "rmse = mse ** 0.5\n",
    "r2 = r2_score(y_test, y_pred)\n",
    "\n",
    "print(f\"MAE: {mae:.5f}\")\n",
    "print(f\"RMSE: {rmse:.5f}\")\n",
    "print(f\"R2: {r2:.5f}\")"
   ]
  },
  {
   "cell_type": "code",
   "execution_count": null,
   "id": "37e804f5-e803-42fd-96c0-2f7569f7550e",
   "metadata": {},
   "outputs": [],
   "source": []
  }
 ],
 "metadata": {
  "colab": {
   "provenance": []
  },
  "kernelspec": {
   "display_name": "Python 3 (ipykernel)",
   "language": "python",
   "name": "python3"
  },
  "language_info": {
   "codemirror_mode": {
    "name": "ipython",
    "version": 3
   },
   "file_extension": ".py",
   "mimetype": "text/x-python",
   "name": "python",
   "nbconvert_exporter": "python",
   "pygments_lexer": "ipython3",
   "version": "3.12.4"
  }
 },
 "nbformat": 4,
 "nbformat_minor": 5
}
